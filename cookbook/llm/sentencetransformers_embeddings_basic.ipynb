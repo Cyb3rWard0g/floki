{
 "cells": [
  {
   "cell_type": "markdown",
   "metadata": {},
   "source": [
    "# LLM: SentenceTransformers Embeddings Basic Examples\n",
    "\n",
    "This notebook demonstrates how to use the `SentenceTransformerEmbedder` in `Floki` for generating text embeddings. We will explore:\n",
    "\n",
    "* Initializing the `SentenceTransformerEmbedder`.\n",
    "* Generating embeddings for single and multiple inputs.\n",
    "* Using the class both as a direct function and via its `embed` method."
   ]
  },
  {
   "cell_type": "markdown",
   "metadata": {},
   "source": [
    "## Install Required Libraries\n",
    "Before starting, ensure the required libraries are installed:"
   ]
  },
  {
   "cell_type": "code",
   "execution_count": null,
   "metadata": {},
   "outputs": [],
   "source": [
    "!pip install floki-ai python-dotenv sentence-transformers"
   ]
  },
  {
   "cell_type": "markdown",
   "metadata": {},
   "source": [
    "## Import SentenceTransformerEmbedder"
   ]
  },
  {
   "cell_type": "code",
   "execution_count": 1,
   "metadata": {},
   "outputs": [],
   "source": [
    "from floki.document.embedder import SentenceTransformerEmbedder"
   ]
  },
  {
   "cell_type": "markdown",
   "metadata": {},
   "source": [
    "## Initialize the SentenceTransformerEmbedder\n",
    "\n",
    "To start, create an instance of the `SentenceTransformerEmbedder` class."
   ]
  },
  {
   "cell_type": "code",
   "execution_count": 2,
   "metadata": {},
   "outputs": [],
   "source": [
    "# Initialize the embedder\n",
    "embedder = SentenceTransformerEmbedder(\n",
    "    model=\"all-MiniLM-L6-v2\",\n",
    "    cache_dir=\"all-MiniLM-L6-v2\"\n",
    ")"
   ]
  },
  {
   "cell_type": "markdown",
   "metadata": {},
   "source": [
    "## Embedding a Single Text\n",
    "\n",
    "You can use the embed method to generate an embedding for a single input string."
   ]
  },
  {
   "cell_type": "code",
   "execution_count": 3,
   "metadata": {},
   "outputs": [
    {
     "name": "stdout",
     "output_type": "stream",
     "text": [
      "Embedding (first 5 values): [0.043933529406785965, 0.058934397995471954, 0.048178378492593765, 0.07754810899496078, 0.026744375005364418]\n"
     ]
    }
   ],
   "source": [
    "# Input text\n",
    "text = \"The quick brown fox jumps over the lazy dog.\"\n",
    "\n",
    "# Generate embedding\n",
    "embedding = embedder.embed(text)\n",
    "\n",
    "# Display the embedding\n",
    "print(f\"Embedding (first 5 values): {embedding[:5]}\")"
   ]
  },
  {
   "cell_type": "markdown",
   "metadata": {},
   "source": [
    "## Embedding Multiple Texts\n",
    "\n",
    "The embed method also supports embedding multiple texts at once."
   ]
  },
  {
   "cell_type": "code",
   "execution_count": 4,
   "metadata": {},
   "outputs": [
    {
     "name": "stdout",
     "output_type": "stream",
     "text": [
      "Text 1 embedding (first 5 values): [0.043933529406785965, 0.058934397995471954, 0.048178378492593765, 0.07754810899496078, 0.026744375005364418]\n",
      "Text 2 embedding (first 5 values): [0.009936238639056683, 0.03150187060236931, 0.008568021468818188, 0.01944899931550026, -0.057415544986724854]\n"
     ]
    }
   ],
   "source": [
    "# Input texts\n",
    "texts = [\n",
    "    \"The quick brown fox jumps over the lazy dog.\",\n",
    "    \"A journey of a thousand miles begins with a single step.\"\n",
    "]\n",
    "\n",
    "# Generate embeddings\n",
    "embeddings = embedder.embed(texts)\n",
    "\n",
    "# Display the embeddings\n",
    "for i, emb in enumerate(embeddings):\n",
    "    print(f\"Text {i + 1} embedding (first 5 values): {emb[:5]}\")"
   ]
  },
  {
   "cell_type": "markdown",
   "metadata": {},
   "source": [
    "## Using the SentenceTransformerEmbedder as a Callable Function\n",
    "\n",
    "The `SentenceTransformerEmbedder` class can also be used directly as a function, thanks to its `__call__` implementation."
   ]
  },
  {
   "cell_type": "code",
   "execution_count": 5,
   "metadata": {},
   "outputs": [
    {
     "name": "stdout",
     "output_type": "stream",
     "text": [
      "Embedding (first 5 values): [-0.01278711762279272, 0.06006430834531784, 0.033459462225437164, -0.029831618070602417, -0.017672911286354065]\n"
     ]
    }
   ],
   "source": [
    "# Use the class instance as a callable\n",
    "text_embedding = embedder(\"A stitch in time saves nine.\")\n",
    "\n",
    "# Display the embedding\n",
    "print(f\"Embedding (first 5 values): {text_embedding[:5]}\")"
   ]
  },
  {
   "cell_type": "markdown",
   "metadata": {},
   "source": [
    "For multiple inputs:"
   ]
  },
  {
   "cell_type": "code",
   "execution_count": 6,
   "metadata": {},
   "outputs": [
    {
     "name": "stdout",
     "output_type": "stream",
     "text": [
      "Text 1 embedding (first 5 values): [0.0040441639721393585, 0.08184239268302917, 0.03960804641246796, 0.05041154474020004, 0.01927662268280983]\n",
      "Text 2 embedding (first 5 values): [-0.013042719103395939, 0.13541601598262787, 0.07832570374011993, 0.05294117331504822, -0.0009406324825249612]\n"
     ]
    }
   ],
   "source": [
    "text_list = [\"The early bird catches the worm.\", \"An apple a day keeps the doctor away.\"]\n",
    "embeddings_list = embedder(text_list)\n",
    "\n",
    "# Display the embeddings\n",
    "for i, emb in enumerate(embeddings_list):\n",
    "    print(f\"Text {i + 1} embedding (first 5 values): {emb[:5]}\")"
   ]
  },
  {
   "cell_type": "code",
   "execution_count": null,
   "metadata": {},
   "outputs": [],
   "source": []
  }
 ],
 "metadata": {
  "kernelspec": {
   "display_name": ".venv",
   "language": "python",
   "name": "python3"
  },
  "language_info": {
   "codemirror_mode": {
    "name": "ipython",
    "version": 3
   },
   "file_extension": ".py",
   "mimetype": "text/x-python",
   "name": "python",
   "nbconvert_exporter": "python",
   "pygments_lexer": "ipython3",
   "version": "3.12.8"
  }
 },
 "nbformat": 4,
 "nbformat_minor": 2
}
