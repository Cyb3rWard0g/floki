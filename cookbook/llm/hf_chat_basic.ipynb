{
 "cells": [
  {
   "cell_type": "markdown",
   "metadata": {},
   "source": [
    "# LLM: Hugging Face Chat Endpoint Basic Examples\n",
    "\n",
    "This notebook demonstrates how to use the `HFHubChatClient` in `Floki` for basic tasks with the Hugging Face Chat API. We will explore:\n",
    "\n",
    "* Initializing the Hugging Face Chat client.\n",
    "* Generating responses to simple prompts.\n",
    "* Using a `.prompty` file to provide context/history for enhanced generation."
   ]
  },
  {
   "cell_type": "markdown",
   "metadata": {},
   "source": [
    "## Install Required Libraries\n",
    "Before starting, ensure the required libraries are installed:"
   ]
  },
  {
   "cell_type": "code",
   "execution_count": null,
   "metadata": {},
   "outputs": [],
   "source": [
    "!pip install floki-ai"
   ]
  },
  {
   "cell_type": "markdown",
   "metadata": {},
   "source": [
    "## Load Environment Variables\n",
    "\n",
    "Load API keys or other configuration values from your `.env` file using `dotenv`."
   ]
  },
  {
   "cell_type": "code",
   "execution_count": 1,
   "metadata": {},
   "outputs": [
    {
     "data": {
      "text/plain": [
       "True"
      ]
     },
     "execution_count": 1,
     "metadata": {},
     "output_type": "execute_result"
    }
   ],
   "source": [
    "from dotenv import load_dotenv\n",
    "load_dotenv()"
   ]
  },
  {
   "cell_type": "markdown",
   "metadata": {},
   "source": [
    "## Enable Logging"
   ]
  },
  {
   "cell_type": "code",
   "execution_count": 2,
   "metadata": {},
   "outputs": [],
   "source": [
    "import logging\n",
    "\n",
    "logging.basicConfig(level=logging.INFO)"
   ]
  },
  {
   "cell_type": "markdown",
   "metadata": {},
   "source": [
    "## Import HFHubChatClient"
   ]
  },
  {
   "cell_type": "code",
   "execution_count": 3,
   "metadata": {},
   "outputs": [],
   "source": [
    "from floki import HFHubChatClient"
   ]
  },
  {
   "cell_type": "markdown",
   "metadata": {},
   "source": [
    "## Basic Chat Completion\n",
    "\n",
    "Initialize the `HFHubChatClient`."
   ]
  },
  {
   "cell_type": "code",
   "execution_count": 4,
   "metadata": {},
   "outputs": [],
   "source": [
    "import os\n",
    "\n",
    "llm = HFHubChatClient(\n",
    "    api_key=os.getenv(\"HUGGINGFACE_API_KEY\"),\n",
    "    model=\"microsoft/Phi-3-mini-4k-instruct\"\n",
    ")"
   ]
  },
  {
   "cell_type": "markdown",
   "metadata": {},
   "source": [
    "Generate a response to a simple prompt"
   ]
  },
  {
   "cell_type": "code",
   "execution_count": 5,
   "metadata": {},
   "outputs": [
    {
     "name": "stderr",
     "output_type": "stream",
     "text": [
      "INFO:floki.llm.huggingface.chat:Invoking Hugging Face ChatCompletion API.\n",
      "INFO:floki.llm.huggingface.chat:Chat completion retrieved successfully.\n"
     ]
    }
   ],
   "source": [
    "# Generate a response\n",
    "response = llm.generate('Name a famous dog!')"
   ]
  },
  {
   "cell_type": "code",
   "execution_count": 6,
   "metadata": {},
   "outputs": [
    {
     "data": {
      "text/plain": [
       "ChatCompletion(choices=[Choice(finish_reason='length', index=0, message=MessageContent(content='One famous dog is Lassie. Lassie is an American TV dog known for her roles as a heroic and highly affectionate, domestic family pet in several TV movies and television series from 1943 to 1973. The numerous characters in the series were portrayed by several different dogs named Lassie, such as Pal, Silver, Star, Herbie, and Molly. One lesser-known fact about Lassie is that the dog', role='assistant'), logprobs=None)], created=1736270647, id='', model='microsoft/Phi-3-mini-4k-instruct', object='chat.completion', usage={'completion_tokens': 100, 'prompt_tokens': 8, 'total_tokens': 108})"
      ]
     },
     "execution_count": 6,
     "metadata": {},
     "output_type": "execute_result"
    }
   ],
   "source": [
    "# Display the response\n",
    "response"
   ]
  },
  {
   "cell_type": "code",
   "execution_count": 7,
   "metadata": {},
   "outputs": [
    {
     "data": {
      "text/plain": [
       "{'content': 'One famous dog is Lassie. Lassie is an American TV dog known for her roles as a heroic and highly affectionate, domestic family pet in several TV movies and television series from 1943 to 1973. The numerous characters in the series were portrayed by several different dogs named Lassie, such as Pal, Silver, Star, Herbie, and Molly. One lesser-known fact about Lassie is that the dog',\n",
       " 'role': 'assistant'}"
      ]
     },
     "execution_count": 7,
     "metadata": {},
     "output_type": "execute_result"
    }
   ],
   "source": [
    "response.get_message()"
   ]
  },
  {
   "cell_type": "code",
   "execution_count": 8,
   "metadata": {},
   "outputs": [
    {
     "data": {
      "text/plain": [
       "'One famous dog is Lassie. Lassie is an American TV dog known for her roles as a heroic and highly affectionate, domestic family pet in several TV movies and television series from 1943 to 1973. The numerous characters in the series were portrayed by several different dogs named Lassie, such as Pal, Silver, Star, Herbie, and Molly. One lesser-known fact about Lassie is that the dog'"
      ]
     },
     "execution_count": 8,
     "metadata": {},
     "output_type": "execute_result"
    }
   ],
   "source": [
    "response.get_content()"
   ]
  },
  {
   "cell_type": "markdown",
   "metadata": {},
   "source": [
    "## Using a Prompty File for Context\n",
    "\n",
    "Use a `.prompty` file to provide context for chat history or additional instructions."
   ]
  },
  {
   "cell_type": "code",
   "execution_count": 9,
   "metadata": {},
   "outputs": [],
   "source": [
    "llm = HFHubChatClient.from_prompty('basic-hf-chat.prompty')"
   ]
  },
  {
   "cell_type": "code",
   "execution_count": 10,
   "metadata": {},
   "outputs": [
    {
     "name": "stderr",
     "output_type": "stream",
     "text": [
      "INFO:floki.llm.huggingface.chat:Using prompt template to generate messages.\n",
      "INFO:floki.llm.huggingface.chat:Invoking Hugging Face ChatCompletion API.\n",
      "INFO:floki.llm.huggingface.chat:Chat completion retrieved successfully.\n"
     ]
    },
    {
     "data": {
      "text/plain": [
       "ChatCompletion(choices=[Choice(finish_reason='length', index=0, message=MessageContent(content=\"I'm Phi and my purpose here as Microsoft’s language model GPT-3 developed by MS research team to assist users with their inquiries across various domains of knowledge while ensuring a safe environment for interaction without personal data storage or usage beyond this session unless explicitly permitted otherwise within privacy guidelines set forth during our conversation initiation process which strictly adheres not only legal but also ethical standards including respecting user confidentiality at all times irrespective if it involves sensitive topics like mental health issues where professional help should be sought instead when necessary; however please note that despite these precautions taken towards\", role='assistant'), logprobs=None)], created=1736270655, id='', model='microsoft/Phi-3-mini-4k-instruct', object='chat.completion', usage={'completion_tokens': 128, 'prompt_tokens': 36, 'total_tokens': 164})"
      ]
     },
     "execution_count": 10,
     "metadata": {},
     "output_type": "execute_result"
    }
   ],
   "source": [
    "llm.generate(input_data={\"question\":\"What is your name?\"})"
   ]
  },
  {
   "cell_type": "markdown",
   "metadata": {},
   "source": [
    "## Chat Completion with Messages"
   ]
  },
  {
   "cell_type": "code",
   "execution_count": 11,
   "metadata": {},
   "outputs": [
    {
     "name": "stderr",
     "output_type": "stream",
     "text": [
      "INFO:floki.llm.huggingface.chat:Invoking Hugging Face ChatCompletion API.\n",
      "INFO:floki.llm.huggingface.chat:Chat completion retrieved successfully.\n"
     ]
    }
   ],
   "source": [
    "from floki.types import UserMessage\n",
    "\n",
    "# Initialize the client\n",
    "llm = HFHubChatClient()\n",
    "\n",
    "# Generate a response using structured messages\n",
    "response = llm.generate(messages=[UserMessage(\"hello\")])"
   ]
  },
  {
   "cell_type": "code",
   "execution_count": 12,
   "metadata": {},
   "outputs": [
    {
     "name": "stdout",
     "output_type": "stream",
     "text": [
      "{'content': \"Hello! How can I assist you today? Whether you need help with a question, want to have a chat, or just want to say hi, I'm here for you. How's your day going so far? 😊\", 'role': 'assistant'}\n"
     ]
    }
   ],
   "source": [
    "# Display the structured response\n",
    "print(response.get_message())"
   ]
  },
  {
   "cell_type": "code",
   "execution_count": 13,
   "metadata": {},
   "outputs": [],
   "source": [
    "llm.prompt_template"
   ]
  },
  {
   "cell_type": "code",
   "execution_count": null,
   "metadata": {},
   "outputs": [],
   "source": []
  }
 ],
 "metadata": {
  "kernelspec": {
   "display_name": ".venv",
   "language": "python",
   "name": "python3"
  },
  "language_info": {
   "codemirror_mode": {
    "name": "ipython",
    "version": 3
   },
   "file_extension": ".py",
   "mimetype": "text/x-python",
   "name": "python",
   "nbconvert_exporter": "python",
   "pygments_lexer": "ipython3",
   "version": "3.12.8"
  }
 },
 "nbformat": 4,
 "nbformat_minor": 2
}
