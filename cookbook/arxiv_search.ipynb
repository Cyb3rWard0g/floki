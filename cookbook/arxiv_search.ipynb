{
 "cells": [
  {
   "cell_type": "markdown",
   "metadata": {},
   "source": [
    "# Searching for Research Papers in arXiv\n",
    "\n",
    "This notebook demonstrates how to interact with the `arXiv` API using `Floki`, specifically through the `ArxivFetcher` class. We will explore:\n",
    "\n",
    "* How to search for papers using advanced query strings.\n",
    "* How to filter results by date (e.g., last 24 hours).\n",
    "* How to retrieve metadata for papers.\n",
    "* How to download the top 5 papers for further exploration.\n",
    "* How to extract and process text from the downloaded PDFs, with each page stored as a separate document."
   ]
  },
  {
   "cell_type": "code",
   "execution_count": null,
   "metadata": {},
   "outputs": [],
   "source": [
    "### Install Required Libraries\n",
    "!pip install floki-ai\n",
    "!pip install arxiv"
   ]
  },
  {
   "cell_type": "markdown",
   "metadata": {},
   "source": [
    "## Initialize Logging"
   ]
  },
  {
   "cell_type": "code",
   "execution_count": 1,
   "metadata": {},
   "outputs": [],
   "source": [
    "import logging\n",
    "logging.basicConfig(level=logging.INFO)"
   ]
  },
  {
   "cell_type": "markdown",
   "metadata": {},
   "source": [
    "## Importing Necessary Modules\n",
    "\n",
    "Import the required module and set up the `ArxivFetcher` to start searching for papers."
   ]
  },
  {
   "cell_type": "code",
   "execution_count": 2,
   "metadata": {},
   "outputs": [],
   "source": [
    "from floki.document import ArxivFetcher\n",
    "\n",
    "# Initialize the fetcher\n",
    "fetcher = ArxivFetcher()"
   ]
  },
  {
   "cell_type": "markdown",
   "metadata": {},
   "source": [
    "## Basic Search by Query String\n",
    "\n",
    "In this example, we search for papers related to \"machine learning\". The results are returned as `Document` objects with `text` as the summary and `metadata` containing details."
   ]
  },
  {
   "cell_type": "code",
   "execution_count": 3,
   "metadata": {},
   "outputs": [
    {
     "name": "stderr",
     "output_type": "stream",
     "text": [
      "INFO:floki.document.fetcher.arxiv:Searching for query: machine learning\n",
      "INFO:arxiv:Requesting page (first: True, try: 0): https://export.arxiv.org/api/query?search_query=machine+learning&id_list=&sortBy=submittedDate&sortOrder=descending&start=0&max_results=100\n",
      "INFO:arxiv:Got first page: 100 of 377877 total results\n",
      "INFO:floki.document.fetcher.arxiv:Found 5 results for query: machine learning\n"
     ]
    },
    {
     "name": "stdout",
     "output_type": "stream",
     "text": [
      "Title: Learning segmentation from point trajectories\n",
      "Authors: Laurynas Karazija, Iro Laina, Christian Rupprecht, Andrea Vedaldi\n",
      "Summary: We consider the problem of segmenting objects in videos based on their motion\n",
      "and no other forms of supervision. Prior work has often approached this problem\n",
      "by using the principle of common fate, namely the fact that the motion of\n",
      "points that belong to the same object is strongly correlated. However, most\n",
      "authors have only considered instantaneous motion from optical flow. In this\n",
      "work, we present a way to train a segmentation network using long-term point\n",
      "trajectories as a supervisory signal to complement optical flow. The key\n",
      "difficulty is that long-term motion, unlike instantaneous motion, is difficult\n",
      "to model -- any parametric approximation is unlikely to capture complex motion\n",
      "patterns over long periods of time. We instead draw inspiration from subspace\n",
      "clustering approaches, proposing a loss function that seeks to group the\n",
      "trajectories into low-rank matrices where the motion of object points can be\n",
      "approximately explained as a linear combination of other point tracks. Our\n",
      "method outperforms the prior art on motion-based segmentation, which shows the\n",
      "utility of long-term motion and the effectiveness of our formulation.\n",
      "\n",
      "Title: Physics of Skill Learning\n",
      "Authors: Ziming Liu, Yizhou Liu, Eric J. Michaud, Jeff Gore, Max Tegmark\n",
      "Summary: We aim to understand physics of skill learning, i.e., how skills are learned\n",
      "in neural networks during training. We start by observing the Domino effect,\n",
      "i.e., skills are learned sequentially, and notably, some skills kick off\n",
      "learning right after others complete learning, similar to the sequential fall\n",
      "of domino cards. To understand the Domino effect and relevant behaviors of\n",
      "skill learning, we take physicists' approach of abstraction and simplification.\n",
      "We propose three models with varying complexities -- the Geometry model, the\n",
      "Resource model, and the Domino model, trading between reality and simplicity.\n",
      "The Domino effect can be reproduced in the Geometry model, whose resource\n",
      "interpretation inspires the Resource model, which can be further simplified to\n",
      "the Domino model. These models present different levels of abstraction and\n",
      "simplification; each is useful to study some aspects of skill learning. The\n",
      "Geometry model provides interesting insights into neural scaling laws and\n",
      "optimizers; the Resource model sheds light on the learning dynamics of\n",
      "compositional tasks; the Domino model reveals the benefits of modularity. These\n",
      "models are not only conceptually interesting -- e.g., we show how Chinchilla\n",
      "scaling laws can emerge from the Geometry model, but also are useful in\n",
      "practice by inspiring algorithmic development -- e.g., we show how simple\n",
      "algorithmic changes, motivated by these toy models, can speed up the training\n",
      "of deep learning models.\n",
      "\n",
      "Title: GPS as a Control Signal for Image Generation\n",
      "Authors: Chao Feng, Ziyang Chen, Aleksander Holynski, Alexei A. Efros, Andrew Owens\n",
      "Summary: We show that the GPS tags contained in photo metadata provide a useful\n",
      "control signal for image generation. We train GPS-to-image models and use them\n",
      "for tasks that require a fine-grained understanding of how images vary within a\n",
      "city. In particular, we train a diffusion model to generate images conditioned\n",
      "on both GPS and text. The learned model generates images that capture the\n",
      "distinctive appearance of different neighborhoods, parks, and landmarks. We\n",
      "also extract 3D models from 2D GPS-to-image models through score distillation\n",
      "sampling, using GPS conditioning to constrain the appearance of the\n",
      "reconstruction from each viewpoint. Our evaluations suggest that our\n",
      "GPS-conditioned models successfully learn to generate images that vary based on\n",
      "location, and that GPS conditioning improves estimated 3D structure.\n",
      "\n",
      "Title: Audio Texture Manipulation by Exemplar-Based Analogy\n",
      "Authors: Kan Jen Cheng, Tingle Li, Gopala Anumanchipalli\n",
      "Summary: Audio texture manipulation involves modifying the perceptual characteristics\n",
      "of a sound to achieve specific transformations, such as adding, removing, or\n",
      "replacing auditory elements. In this paper, we propose an exemplar-based\n",
      "analogy model for audio texture manipulation. Instead of conditioning on\n",
      "text-based instructions, our method uses paired speech examples, where one clip\n",
      "represents the original sound and another illustrates the desired\n",
      "transformation. The model learns to apply the same transformation to new input,\n",
      "allowing for the manipulation of sound textures. We construct a quadruplet\n",
      "dataset representing various editing tasks, and train a latent diffusion model\n",
      "in a self-supervised manner. We show through quantitative evaluations and\n",
      "perceptual studies that our model outperforms text-conditioned baselines and\n",
      "generalizes to real-world, out-of-distribution, and non-speech scenarios.\n",
      "Project page: https://berkeley-speech-group.github.io/audio-texture-analogy/\n",
      "\n",
      "Title: CCESAR: Coastline Classification-Extraction From SAR Images Using CNN-U-Net Combination\n",
      "Authors: Vidhu Arora, Shreyan Gupta, Ananthakrishna Kudupu, Aditya Priyadarshi, Aswathi Mundayatt, Jaya Sreevalsan-Nair\n",
      "Summary: In this article, we improve the deep learning solution for coastline\n",
      "extraction from Synthetic Aperture Radar (SAR) images by proposing a two-stage\n",
      "model involving image classification followed by segmentation. We hypothesize\n",
      "that a single segmentation model usually used for coastline detection is\n",
      "insufficient to characterize different coastline types. We demonstrate that the\n",
      "need for a two-stage workflow prevails through different compression levels of\n",
      "these images. Our results from experiments using a combination of CNN and U-Net\n",
      "models on Sentinel-1 images show that the two-stage workflow, coastline\n",
      "classification-extraction from SAR images (CCESAR) outperforms a single U-Net\n",
      "segmentation model.\n",
      "\n"
     ]
    }
   ],
   "source": [
    "# Search for papers related to \"machine learning\"\n",
    "results = fetcher.search(query=\"machine learning\", max_results=5)\n",
    "\n",
    "# Display the metadata and summaries of the retrieved documents\n",
    "for doc in results:\n",
    "    print(f\"Title: {doc.metadata['title']}\")\n",
    "    print(f\"Authors: {', '.join(doc.metadata['authors'])}\")\n",
    "    print(f\"Summary: {doc.text}\\n\")"
   ]
  },
  {
   "cell_type": "markdown",
   "metadata": {},
   "source": [
    "## Advanced Query Strings\n",
    "\n",
    "Here we demonstrate using advanced query strings with logical operators like `AND`, `OR`, and `NOT`."
   ]
  },
  {
   "cell_type": "markdown",
   "metadata": {},
   "source": [
    "Search for papers where \"agents\" and \"cybersecurity\" both appear:"
   ]
  },
  {
   "cell_type": "code",
   "execution_count": 4,
   "metadata": {},
   "outputs": [
    {
     "name": "stderr",
     "output_type": "stream",
     "text": [
      "INFO:floki.document.fetcher.arxiv:Searching for query: all:(agents AND cybersecurity)\n",
      "INFO:arxiv:Requesting page (first: True, try: 0): https://export.arxiv.org/api/query?search_query=all%3A%28agents+AND+cybersecurity%29&id_list=&sortBy=submittedDate&sortOrder=descending&start=0&max_results=100\n",
      "INFO:arxiv:Got first page: 95 of 95 total results\n",
      "INFO:floki.document.fetcher.arxiv:Found 10 results for query: all:(agents AND cybersecurity)\n"
     ]
    },
    {
     "name": "stdout",
     "output_type": "stream",
     "text": [
      "Title: CyberMentor: AI Powered Learning Tool Platform to Address Diverse Student Needs in Cybersecurity Education\n",
      "Authors: Tianyu Wang, Nianjun Zhou, Zhixiong Chen\n",
      "Summary: Many non-traditional students in cybersecurity programs often lack access to\n",
      "advice from peers, family members and professors, which can hinder their\n",
      "educational experiences. Additionally, these students may not fully benefit\n",
      "from various LLM-powered AI assistants due to issues like content relevance,\n",
      "locality of advice, minimum expertise, and timing. This paper addresses these\n",
      "challenges by introducing an application designed to provide comprehensive\n",
      "support by answering questions related to knowledge, skills, and career\n",
      "preparation advice tailored to the needs of these students. We developed a\n",
      "learning tool platform, CyberMentor, to address the diverse needs and pain\n",
      "points of students majoring in cybersecurity. Powered by agentic workflow and\n",
      "Generative Large Language Models (LLMs), the platform leverages\n",
      "Retrieval-Augmented Generation (RAG) for accurate and contextually relevant\n",
      "information retrieval to achieve accessibility and personalization. We\n",
      "demonstrated its value in addressing knowledge requirements for cybersecurity\n",
      "education and for career marketability, in tackling skill requirements for\n",
      "analytical and programming assignments, and in delivering real time on demand\n",
      "learning support. Using three use scenarios, we showcased CyberMentor in\n",
      "facilitating knowledge acquisition and career preparation and providing\n",
      "seamless skill-based guidance and support. We also employed the LangChain\n",
      "prompt-based evaluation methodology to evaluate the platform's impact,\n",
      "confirming its strong performance in helpfulness, correctness, and\n",
      "completeness. These results underscore the system's ability to support students\n",
      "in developing practical cybersecurity skills while improving equity and\n",
      "sustainability within higher education. Furthermore, CyberMentor's open-source\n",
      "design allows for adaptation across other disciplines, fostering educational\n",
      "innovation and broadening its potential impact.\n",
      "\n",
      "Title: What is a Social Media Bot? A Global Comparison of Bot and Human Characteristics\n",
      "Authors: Lynnette Hui Xian Ng, Kathleen M. Carley\n",
      "Summary: Chatter on social media is 20% bots and 80% humans. Chatter by bots and\n",
      "humans is consistently different: bots tend to use linguistic cues that can be\n",
      "easily automated while humans use cues that require dialogue understanding.\n",
      "Bots use words that match the identities they choose to present, while humans\n",
      "may send messages that are not related to the identities they present. Bots and\n",
      "humans differ in their communication structure: sampled bots have a star\n",
      "interaction structure, while sampled humans have a hierarchical structure.\n",
      "These conclusions are based on a large-scale analysis of social media tweets\n",
      "across ~200mil users across 7 events. Social media bots took the world by storm\n",
      "when social-cybersecurity researchers realized that social media users not only\n",
      "consisted of humans but also of artificial agents called bots. These bots wreck\n",
      "havoc online by spreading disinformation and manipulating narratives. Most\n",
      "research on bots are based on special-purposed definitions, mostly predicated\n",
      "on the event studied. This article first begins by asking, \"What is a bot?\",\n",
      "and we study the underlying principles of how bots are different from humans.\n",
      "We develop a first-principle definition of a social media bot. With this\n",
      "definition as a premise, we systematically compare characteristics between bots\n",
      "and humans across global events, and reflect on how the software-programmed bot\n",
      "is an Artificial Intelligent algorithm, and its potential for evolution as\n",
      "technology advances. Based on our results, we provide recommendations for the\n",
      "use and regulation of bots. Finally, we discuss open challenges and future\n",
      "directions: Detect, to systematically identify these automated and potentially\n",
      "evolving bots; Differentiate, to evaluate the goodness of the bot in terms of\n",
      "their content postings and relationship interactions; Disrupt, to moderate the\n",
      "impact of malicious bots.\n",
      "\n",
      "Title: SecBench: A Comprehensive Multi-Dimensional Benchmarking Dataset for LLMs in Cybersecurity\n",
      "Authors: Pengfei Jing, Mengyun Tang, Xiaorong Shi, Xing Zheng, Sen Nie, Shi Wu, Yong Yang, Xiapu Luo\n",
      "Summary: Evaluating Large Language Models (LLMs) is crucial for understanding their\n",
      "capabilities and limitations across various applications, including natural\n",
      "language processing and code generation. Existing benchmarks like MMLU, C-Eval,\n",
      "and HumanEval assess general LLM performance but lack focus on specific expert\n",
      "domains such as cybersecurity. Previous attempts to create cybersecurity\n",
      "datasets have faced limitations, including insufficient data volume and a\n",
      "reliance on multiple-choice questions (MCQs). To address these gaps, we propose\n",
      "SecBench, a multi-dimensional benchmarking dataset designed to evaluate LLMs in\n",
      "the cybersecurity domain. SecBench includes questions in various formats (MCQs\n",
      "and short-answer questions (SAQs)), at different capability levels (Knowledge\n",
      "Retention and Logical Reasoning), in multiple languages (Chinese and English),\n",
      "and across various sub-domains. The dataset was constructed by collecting\n",
      "high-quality data from open sources and organizing a Cybersecurity Question\n",
      "Design Contest, resulting in 44,823 MCQs and 3,087 SAQs. Particularly, we used\n",
      "the powerful while cost-effective LLMs to (1). label the data and (2).\n",
      "constructing a grading agent for automatic evaluation of SAQs. Benchmarking\n",
      "results on 16 SOTA LLMs demonstrate the usability of SecBench, which is\n",
      "arguably the largest and most comprehensive benchmark dataset for LLMs in\n",
      "cybersecurity. More information about SecBench can be found at our website, and\n",
      "the dataset can be accessed via the artifact link.\n",
      "\n",
      "Title: BotSim: LLM-Powered Malicious Social Botnet Simulation\n",
      "Authors: Boyu Qiao, Kun Li, Wei Zhou, Shilong Li, Qianqian Lu, Songlin Hu\n",
      "Summary: Social media platforms like X(Twitter) and Reddit are vital to global\n",
      "communication. However, advancements in Large Language Model (LLM) technology\n",
      "give rise to social media bots with unprecedented intelligence. These bots\n",
      "adeptly simulate human profiles, conversations, and interactions, disseminating\n",
      "large amounts of false information and posing significant challenges to\n",
      "platform regulation. To better understand and counter these threats, we\n",
      "innovatively design BotSim, a malicious social botnet simulation powered by\n",
      "LLM. BotSim mimics the information dissemination patterns of real-world social\n",
      "networks, creating a virtual environment composed of intelligent agent bots and\n",
      "real human users. In the temporal simulation constructed by BotSim, these\n",
      "advanced agent bots autonomously engage in social interactions such as posting\n",
      "and commenting, effectively modeling scenarios of information flow and user\n",
      "interaction. Building on the BotSim framework, we construct a highly\n",
      "human-like, LLM-driven bot dataset called BotSim-24 and benchmark multiple bot\n",
      "detection strategies against it. The experimental results indicate that\n",
      "detection methods effective on traditional bot datasets perform worse on\n",
      "BotSim-24, highlighting the urgent need for new detection strategies to address\n",
      "the cybersecurity threats posed by these advanced bots.\n",
      "\n",
      "Title: algoTRIC: Symmetric and asymmetric encryption algorithms for Cryptography -- A comparative analysis in AI era\n",
      "Authors: Naresh Kshetri, Mir Mehedi Rahman, Md Masud Rana, Omar Faruq Osama, James Hutson\n",
      "Summary: The increasing integration of artificial intelligence (AI) within\n",
      "cybersecurity has necessitated stronger encryption methods to ensure data\n",
      "security. This paper presents a comparative analysis of symmetric (SE) and\n",
      "asymmetric encryption (AE) algorithms, focusing on their role in securing\n",
      "sensitive information in AI-driven environments. Through an in-depth study of\n",
      "various encryption algorithms such as AES, RSA, and others, this research\n",
      "evaluates the efficiency, complexity, and security of these algorithms within\n",
      "modern cybersecurity frameworks. Utilizing both qualitative and quantitative\n",
      "analysis, this research explores the historical evolution of encryption\n",
      "algorithms and their growing relevance in AI applications. The comparison of SE\n",
      "and AE algorithms focuses on key factors such as processing speed, scalability,\n",
      "and security resilience in the face of evolving threats. Special attention is\n",
      "given to how these algorithms are integrated into AI systems and how they\n",
      "manage the challenges posed by large-scale data processing in multi-agent\n",
      "environments. Our results highlight that while SE algorithms demonstrate\n",
      "high-speed performance and lower computational demands, AE algorithms provide\n",
      "superior security, particularly in scenarios requiring enhanced encryption for\n",
      "AI-based networks. The paper concludes by addressing the security concerns that\n",
      "encryption algorithms must tackle in the age of AI and outlines future research\n",
      "directions aimed at enhancing encryption techniques for cybersecurity.\n",
      "\n",
      "Title: The Fusion of Large Language Models and Formal Methods for Trustworthy AI Agents: A Roadmap\n",
      "Authors: Yedi Zhang, Yufan Cai, Xinyue Zuo, Xiaokun Luan, Kailong Wang, Zhe Hou, Yifan Zhang, Zhiyuan Wei, Meng Sun, Jun Sun, Jing Sun, Jin Song Dong\n",
      "Summary: Large Language Models (LLMs) have emerged as a transformative AI paradigm,\n",
      "profoundly influencing daily life through their exceptional language\n",
      "understanding and contextual generation capabilities. Despite their remarkable\n",
      "performance, LLMs face a critical challenge: the propensity to produce\n",
      "unreliable outputs due to the inherent limitations of their learning-based\n",
      "nature. Formal methods (FMs), on the other hand, are a well-established\n",
      "computation paradigm that provides mathematically rigorous techniques for\n",
      "modeling, specifying, and verifying the correctness of systems. FMs have been\n",
      "extensively applied in mission-critical software engineering, embedded systems,\n",
      "and cybersecurity. However, the primary challenge impeding the deployment of\n",
      "FMs in real-world settings lies in their steep learning curves, the absence of\n",
      "user-friendly interfaces, and issues with efficiency and adaptability.\n",
      "  This position paper outlines a roadmap for advancing the next generation of\n",
      "trustworthy AI systems by leveraging the mutual enhancement of LLMs and FMs.\n",
      "First, we illustrate how FMs, including reasoning and certification techniques,\n",
      "can help LLMs generate more reliable and formally certified outputs.\n",
      "Subsequently, we highlight how the advanced learning capabilities and\n",
      "adaptability of LLMs can significantly enhance the usability, efficiency, and\n",
      "scalability of existing FM tools. Finally, we show that unifying these two\n",
      "computation paradigms -- integrating the flexibility and intelligence of LLMs\n",
      "with the rigorous reasoning abilities of FMs -- has transformative potential\n",
      "for the development of trustworthy AI software systems. We acknowledge that\n",
      "this integration has the potential to enhance both the trustworthiness and\n",
      "efficiency of software engineering practices while fostering the development of\n",
      "intelligent FM tools capable of addressing complex yet real-world challenges.\n",
      "\n",
      "Title: Out-of-Distribution Detection for Neurosymbolic Autonomous Cyber Agents\n",
      "Authors: Ankita Samaddar, Nicholas Potteiger, Xenofon Koutsoukos\n",
      "Summary: Autonomous agents for cyber applications take advantage of modern defense\n",
      "techniques by adopting intelligent agents with conventional and\n",
      "learning-enabled components. These intelligent agents are trained via\n",
      "reinforcement learning (RL) algorithms, and can learn, adapt to, reason about\n",
      "and deploy security rules to defend networked computer systems while\n",
      "maintaining critical operational workflows. However, the knowledge available\n",
      "during training about the state of the operational network and its environment\n",
      "may be limited. The agents should be trustworthy so that they can reliably\n",
      "detect situations they cannot handle, and hand them over to cyber experts. In\n",
      "this work, we develop an out-of-distribution (OOD) Monitoring algorithm that\n",
      "uses a Probabilistic Neural Network (PNN) to detect anomalous or OOD situations\n",
      "of RL-based agents with discrete states and discrete actions. To demonstrate\n",
      "the effectiveness of the proposed approach, we integrate the OOD monitoring\n",
      "algorithm with a neurosymbolic autonomous cyber agent that uses behavior trees\n",
      "with learning-enabled components. We evaluate the proposed approach in a\n",
      "simulated cyber environment under different adversarial strategies.\n",
      "Experimental results over a large number of episodes illustrate the overall\n",
      "efficiency of our proposed approach.\n",
      "\n",
      "Title: Hacking CTFs with Plain Agents\n",
      "Authors: Rustem Turtayev, Artem Petrov, Dmitrii Volkov, Denis Volk\n",
      "Summary: We saturate a high-school-level hacking benchmark with plain LLM agent\n",
      "design. Concretely, we obtain 95% performance on InterCode-CTF, a popular\n",
      "offensive security benchmark, using prompting, tool use, and multiple attempts.\n",
      "This beats prior work by Phuong et al. 2024 (29%) and Abramovich et al. 2024\n",
      "(72%).\n",
      "  Our results suggest that current LLMs have surpassed the high school level in\n",
      "offensive cybersecurity. Their hacking capabilities remain underelicited: our\n",
      "ReAct&Plan prompting strategy solves many challenges in 1-2 turns without\n",
      "complex engineering or advanced harnessing.\n",
      "\n",
      "Title: Explore Reinforced: Equilibrium Approximation with Reinforcement Learning\n",
      "Authors: Ryan Yu, Mateusz Nowak, Qintong Xie, Michelle Yilin Feng, Peter Chin\n",
      "Summary: Current approximate Coarse Correlated Equilibria (CCE) algorithms struggle\n",
      "with equilibrium approximation for games in large stochastic environments but\n",
      "are theoretically guaranteed to converge to a strong solution concept. In\n",
      "contrast, modern Reinforcement Learning (RL) algorithms provide faster training\n",
      "yet yield weaker solutions. We introduce Exp3-IXrl - a blend of RL and\n",
      "game-theoretic approach, separating the RL agent's action selection from the\n",
      "equilibrium computation while preserving the integrity of the learning process.\n",
      "We demonstrate that our algorithm expands the application of equilibrium\n",
      "approximation algorithms to new environments. Specifically, we show the\n",
      "improved performance in a complex and adversarial cybersecurity network\n",
      "environment - the Cyber Operations Research Gym - and in the classical\n",
      "multi-armed bandit settings.\n",
      "\n",
      "Title: HackSynth: LLM Agent and Evaluation Framework for Autonomous Penetration Testing\n",
      "Authors: Lajos Muzsai, David Imolai, András Lukács\n",
      "Summary: We introduce HackSynth, a novel Large Language Model (LLM)-based agent\n",
      "capable of autonomous penetration testing. HackSynth's dual-module architecture\n",
      "includes a Planner and a Summarizer, which enable it to generate commands and\n",
      "process feedback iteratively. To benchmark HackSynth, we propose two new\n",
      "Capture The Flag (CTF)-based benchmark sets utilizing the popular platforms\n",
      "PicoCTF and OverTheWire. These benchmarks include two hundred challenges across\n",
      "diverse domains and difficulties, providing a standardized framework for\n",
      "evaluating LLM-based penetration testing agents. Based on these benchmarks,\n",
      "extensive experiments are presented, analyzing the core parameters of\n",
      "HackSynth, including creativity (temperature and top-p) and token utilization.\n",
      "Multiple open source and proprietary LLMs were used to measure the agent's\n",
      "capabilities. The experiments show that the agent performed best with the\n",
      "GPT-4o model, better than what the GPT-4o's system card suggests. We also\n",
      "discuss the safety and predictability of HackSynth's actions. Our findings\n",
      "indicate the potential of LLM-based agents in advancing autonomous penetration\n",
      "testing and the importance of robust safeguards. HackSynth and the benchmarks\n",
      "are publicly available to foster research on autonomous cybersecurity\n",
      "solutions.\n",
      "\n"
     ]
    }
   ],
   "source": [
    "results = fetcher.search(query=\"all:(agents AND cybersecurity)\", max_results=10)\n",
    "\n",
    "for doc in results:\n",
    "    print(f\"Title: {doc.metadata['title']}\")\n",
    "    print(f\"Authors: {', '.join(doc.metadata['authors'])}\")\n",
    "    print(f\"Summary: {doc.text}\\n\")"
   ]
  },
  {
   "cell_type": "markdown",
   "metadata": {},
   "source": [
    "Search for papers where \"quantum\" appears but not \"computing\":"
   ]
  },
  {
   "cell_type": "code",
   "execution_count": 5,
   "metadata": {},
   "outputs": [
    {
     "name": "stderr",
     "output_type": "stream",
     "text": [
      "INFO:floki.document.fetcher.arxiv:Searching for query: all:(quantum NOT computing)\n",
      "INFO:arxiv:Requesting page (first: True, try: 0): https://export.arxiv.org/api/query?search_query=all%3A%28quantum+NOT+computing%29&id_list=&sortBy=submittedDate&sortOrder=descending&start=0&max_results=100\n",
      "INFO:arxiv:Got first page: 100 of 356845 total results\n",
      "INFO:floki.document.fetcher.arxiv:Found 10 results for query: all:(quantum NOT computing)\n"
     ]
    },
    {
     "name": "stdout",
     "output_type": "stream",
     "text": [
      "Title: Mukkamala-Pereñiguez master function for even-parity perturbations of the Schwarzschild spacetime\n",
      "Authors: Eric Poisson\n",
      "Summary: Mukkamala and Pere\\~niguez recently discovered a new master function for\n",
      "even-parity metric perturbations of the Schwarzschild spacetime. Remarkably,\n",
      "this function satisfies the Regge-Wheeler equation (instead of the Zerilli\n",
      "equation), which was previously understood to govern the odd-parity sector of\n",
      "the perturbation only. In this paper I follow up on their work. First, I\n",
      "identify a source term for their Regge-Wheeler equation, constructed from the\n",
      "perturbing energy-momentum tensor. Second, I relate the new master function to\n",
      "the radiation fields at future null infinity and the event horizon. Third, I\n",
      "reconstruct the metric perturbation from the new master function, in the\n",
      "Regge-Wheeler gauge. The main conclusion of this work is that the greater\n",
      "simplicity of the Regge-Wheeler equation (relative to the Zerilli equation) is\n",
      "offset by a greater complexity of obtaining the radiation fields and\n",
      "reconstructing the metric.\n",
      "\n",
      "Title: On the distinguishability of geometrically uniform quantum states\n",
      "Authors: Juntai Zhou, Stefano Chessa, Eric Chitambar, Felix Leditzky\n",
      "Summary: A geometrically uniform (GU) ensemble is a uniformly weighted quantum state\n",
      "ensemble generated from a fixed state by a unitary representation of a finite\n",
      "group $G$. In this work we analyze the problem of discriminating GU ensembles\n",
      "from various angles. Assuming that the representation of $G$ is irreducible, we\n",
      "first give explicit expressions for the optimal success probability of\n",
      "discriminating the GU states, and optimal measurements achieving this value, in\n",
      "terms of the largest eigenvalue of the generator state and its associated\n",
      "eigenspace. A particular optimal measurement can be understood as the limit of\n",
      "weighted \"pretty good measurements\" (PGM). This naturally provides examples of\n",
      "state discrimination for which the unweighted PGM is provably sub-optimal. We\n",
      "extend this analysis to certain reducible representations, and use Schur-Weyl\n",
      "duality to discuss two particular examples of GU ensembles in terms of\n",
      "Werner-type and permutation-invariant generator states. For the case of\n",
      "pure-state GU ensembles we give a new streamlined proof of optimality of the\n",
      "PGM first proved in [Eldar et al., 2004]. We use this result to give a\n",
      "simplified proof of the optimality of the PGM for the hidden subgroup problem\n",
      "over semidirect product groups, along with an expression for the corresponding\n",
      "success probability, proved in [Bacon et al., 2005]. Finally, we consider the\n",
      "discrimination of generic mixed-state GU-ensembles in the $n$-copy setting and\n",
      "adapt a result of [Montanaro, 2007] to derive a compact and easily evaluated\n",
      "lower bound on the success probability of the PGM for this task. This result\n",
      "can be applied to the hidden subgroup problem to obtain a new proof for an\n",
      "upper bound on the sample complexity by [Hayashi et al., 2006].\n",
      "\n",
      "Title: Stochastic Calculus and Hochschild Homology\n",
      "Authors: Si Li, Zichang Wang, Peng Yang\n",
      "Summary: This paper is a case study of probabilistic approach to topological quantum\n",
      "field theory via the example of topological quantum mechanics. We propose that\n",
      "the topological correlations are realized in the large variance limit. An\n",
      "investigation on the relation between probabilistic topological correlations on\n",
      "the circle and Hochschild homology is illustrated.\n",
      "\n",
      "Title: Ensemble control of n-level quantum systems with a scalar control\n",
      "Authors: Ruikang Liang, Ugo Boscain, Mario Sigalotti\n",
      "Summary: In this paper we discuss how a general bilinear finite-dimensional closed\n",
      "quantum system with dispersed parameters can be steered between eigenstates. We\n",
      "show that, under suitable conditions on the separation of spectral gaps and the\n",
      "boundedness of parameter dispersion, rotating wave and adiabatic approximations\n",
      "can be employed in cascade to achieve population inversion between arbitrary\n",
      "eigenstates. We propose an explicit control law and test numerically the\n",
      "sharpness of the conditions on several examples.\n",
      "\n",
      "Title: A dagger kernel category of complete orthomodular lattices\n",
      "Authors: Michal Botur, Jan Paseka, Richard Smolka\n",
      "Summary: Dagger kernel categories, a powerful framework for studying quantum phenomena\n",
      "within category theory, provide a rich mathematical structure that naturally\n",
      "encodes key aspects of quantum logic. This paper focuses on the category\n",
      "SupOMLatLin of complete orthomodular lattices with linear maps. We demonstrate\n",
      "that SupOMLatLin itself forms a dagger kernel category, equipped with\n",
      "additional structure such as dagger biproducts and free objects. A key result\n",
      "establishes that every morphism in SupOMLatLin admits an essentially unique\n",
      "factorization as a zero-epi followed by a dagger monomorphism. This\n",
      "factorization theorem, along with the dagger kernel category structure of\n",
      "SupOMLatLin, provides new insights into the interplay between complete\n",
      "orthomodular lattices and the foundational concepts of quantum theory.\n",
      "\n",
      "Title: Decoherence of Schrödinger cat states in light of wave/particle duality\n",
      "Authors: Th. K. Mavrogordatos\n",
      "Summary: We challenge the standard picture of decohering Schr\\\"odinger cat states as\n",
      "an ensemble average obeying a Lindblad master equation, brought about locally\n",
      "from an irreversible interaction with an environment. We generate\n",
      "self-consistent collections of pure system states correlated with specific\n",
      "environmental records, corresponding to the function of the wave-particle\n",
      "correlator first introduced in Carmichael {\\it et al.} [Phys. Rev. Lett. 85,\n",
      "1855 (2000)]. In the spirit of Carmichael {\\it et al.} [Coherent States: Past,\n",
      "Present and Future, pp. 75--91, World Scientific (1994)], we find that the\n",
      "complementary unravelings evince a pronounced disparity when the ``position''\n",
      "and ``momentum'' of the damped cavity mode -- an explicitly open quantum system\n",
      "-- are measured. Intensity-field correlations may largely deviate from a\n",
      "monotonic decay, while Wigner functions of the cavity state display contrasting\n",
      "manifestations of quantum interference when conditioned on photon counts\n",
      "sampling a continuous photocurrent. In turn, the conditional photodetection\n",
      "events mark the contextual diffusion of both the net charge generated at the\n",
      "homodyne detector, and the electromagnetic field amplitude in the resonator.\n",
      "\n",
      "Title: Fully quantum inflation: quantum marginal problem constraints in the service of causal inference\n",
      "Authors: Isaac D. Smith, Elie Wolfe, Robert W. Spekkens\n",
      "Summary: Consider the problem of deciding, for a particular multipartite quantum\n",
      "state, whether or not it is realizable in a quantum network with a particular\n",
      "causal structure. This is a fully quantum version of what causal inference\n",
      "researchers refer to as the problem of causal discovery. In this work, we\n",
      "introduce a fully quantum version of the inflation technique for causal\n",
      "inference, which leverages the quantum marginal problem. We illustrate the\n",
      "utility of this method using a simple example: testing compatibility of\n",
      "tripartite quantum states with the quantum network known as the triangle\n",
      "scenario. We show, in particular, how the method yields a complete\n",
      "classification of pure three-qubit states into those that are and those that\n",
      "are not compatible with the triangle scenario. We also provide some\n",
      "illustrative examples involving mixed states and some where one or more of the\n",
      "systems is higher-dimensional. Finally, we examine the question of when the\n",
      "incompatibility of a multipartite quantum state with a causal structure can be\n",
      "inferred from the incompatibility of a joint probability distribution induced\n",
      "by implementing measurements on each subsystem.\n",
      "\n",
      "Title: Charge-density-wave quantum critical point under pressure in 2$H$-TaSe$_2$\n",
      "Authors: Yuliia Tymoshenko, Amir-Abbas Haghighirad, Rolf Heid, Tom Lacmann, Alsu Ivashko, Adrian Merritt, Xingchen Shen, Michael Merz, Gaston Garbarino, Luigi Paolasini, Alexei Bosak, Florian K. Diekmann, Kai Rossnagel, Stephan Rosenkranz, Ayman H. Said, Frank Weber\n",
      "Summary: Suppressing of an ordered state that competes with superconductivity is one\n",
      "route to enhance superconducting transition temperatures. Whereas the effect of\n",
      "suppressing magnetic states is still not fully understood, materials featuring\n",
      "charge-density waves and superconductivity offer a clearer scenario as both\n",
      "states can be associated with electron-phonon coupling. Metallic\n",
      "transition-metal dichalcogenides are prime examples for such intertwined\n",
      "electron-phonon-driven phases, yet, various compounds do not show the expected\n",
      "interrelation or feature additional mechanisms which makes an unambiguous\n",
      "interpretation difficult. Here, we report high-pressure X-ray diffraction and\n",
      "inelastic X-ray scattering measurements of the prototypical transition-metal\n",
      "dichalcogenide 2$H$-TaSe$_2$ and determine the evolution of the\n",
      "charge-density-wave state and its lattice dynamics up to and beyond its\n",
      "suppression at the critical pressure $p_c = 19.9(1)\\,\\rm{GPa}$ and at low\n",
      "temperatures. The high quality of our data allows the full refinement of the\n",
      "commensurate charge-density-wave superstructure at low pressure and we find the\n",
      "quantum critical point of the charge-density-wave to be in close vicinity to\n",
      "the reported maximum superconducting transition temperature $T_{sc} =\n",
      "8.2\\,\\rm{K}$. $Ab-initio$ calculations corroborate that 2$H$-TaSe$_2$ is a\n",
      "reference example of order-suppressed enhanced superconductivity and can serve\n",
      "as a textbook case to investigate superconductivity near a charge-density-wave\n",
      "quantum critical point.\n",
      "\n",
      "Title: Apparent violations of the second law in the quantum-classical dynamics of interacting levitated nanoparticles\n",
      "Authors: Pedro V. Paraguassú, Thiago Guerreiro\n",
      "Summary: Random exchanges of energy arise naturally in stochastic systems. As a\n",
      "consequence, apparent violations of the second law of thermodynamics can occur,\n",
      "as it holds true on average. Here we investigate the occurrence of these\n",
      "apparent violations -- termed free lunches -- in a quantum-classical system\n",
      "comprised of levitated nanoparticles exchanging energy via the Coulomb\n",
      "interaction. We consider different initial states for the quantum system, and\n",
      "how these exert work and fluctuations upon the classical particle affecting the\n",
      "probability of free lunches. With that, we initiate the study of hybrid\n",
      "quantum-classical systems through the lens of stochastic thermodynamics.\n",
      "\n",
      "Title: Noise avalanche and its quantum quenching in bosonic chains with random off-diagonal disorder\n",
      "Authors: Vladislav Stefanov, Andre Stefanov, Lea Sirota, Gregory Slepyan, Dmitri Mogilevtsev\n",
      "Summary: Here we discuss a phenomenon of sharp increase in the photon number noise at\n",
      "initial stages of propagation in tight-binding bosonic chains with off-diagonal\n",
      "disorder. Such a \"noise avalanche\" occurs under classical coherent excitation\n",
      "of waveguides and leads to high super-thermal photon bunching. Additional\n",
      "classical excitation slows but cannot quench this noise avalanche. However, an\n",
      "additional single-photon excitation stops the avalanche.\n",
      "\n"
     ]
    }
   ],
   "source": [
    "results = fetcher.search(query=\"all:(quantum NOT computing)\", max_results=10)\n",
    "\n",
    "for doc in results:\n",
    "    print(f\"Title: {doc.metadata['title']}\")\n",
    "    print(f\"Authors: {', '.join(doc.metadata['authors'])}\")\n",
    "    print(f\"Summary: {doc.text}\\n\")"
   ]
  },
  {
   "cell_type": "markdown",
   "metadata": {},
   "source": [
    "Search for papers authored by a specific person"
   ]
  },
  {
   "cell_type": "code",
   "execution_count": 6,
   "metadata": {},
   "outputs": [
    {
     "name": "stderr",
     "output_type": "stream",
     "text": [
      "INFO:floki.document.fetcher.arxiv:Searching for query: au:\"John Doe\"\n",
      "INFO:arxiv:Requesting page (first: True, try: 0): https://export.arxiv.org/api/query?search_query=au%3A%22John+Doe%22&id_list=&sortBy=submittedDate&sortOrder=descending&start=0&max_results=100\n",
      "INFO:arxiv:Got first page: 1 of 1 total results\n",
      "INFO:floki.document.fetcher.arxiv:Found 1 results for query: au:\"John Doe\"\n"
     ]
    },
    {
     "name": "stdout",
     "output_type": "stream",
     "text": [
      "Title: Double Deep Q-Learning in Opponent Modeling\n",
      "Authors: Yangtianze Tao, John Doe\n",
      "Summary: Multi-agent systems in which secondary agents with conflicting agendas also\n",
      "alter their methods need opponent modeling. In this study, we simulate the main\n",
      "agent's and secondary agents' tactics using Double Deep Q-Networks (DDQN) with\n",
      "a prioritized experience replay mechanism. Then, under the opponent modeling\n",
      "setup, a Mixture-of-Experts architecture is used to identify various opponent\n",
      "strategy patterns. Finally, we analyze our models in two environments with\n",
      "several agents. The findings indicate that the Mixture-of-Experts model, which\n",
      "is based on opponent modeling, performs better than DDQN.\n",
      "\n"
     ]
    }
   ],
   "source": [
    "results = fetcher.search(query='au:\"John Doe\"', max_results=10)\n",
    "\n",
    "for doc in results:\n",
    "    print(f\"Title: {doc.metadata['title']}\")\n",
    "    print(f\"Authors: {', '.join(doc.metadata['authors'])}\")\n",
    "    print(f\"Summary: {doc.text}\\n\")"
   ]
  },
  {
   "cell_type": "markdown",
   "metadata": {},
   "source": [
    "## Filter Papers by Date (e.g., Last 15 Days)"
   ]
  },
  {
   "cell_type": "code",
   "execution_count": 7,
   "metadata": {},
   "outputs": [
    {
     "name": "stderr",
     "output_type": "stream",
     "text": [
      "INFO:floki.document.fetcher.arxiv:Searching for query: all:(agents AND cybersecurity)\n",
      "INFO:arxiv:Requesting page (first: True, try: 0): https://export.arxiv.org/api/query?search_query=all%3A%28agents+AND+cybersecurity%29+AND+submittedDate%3A%5B20250107+TO+20250122%5D&id_list=&sortBy=submittedDate&sortOrder=descending&start=0&max_results=100\n",
      "INFO:arxiv:Got first page: 1 of 1 total results\n",
      "INFO:floki.document.fetcher.arxiv:Found 1 results for query: all:(agents AND cybersecurity) AND submittedDate:[20250107 TO 20250122]\n"
     ]
    },
    {
     "name": "stdout",
     "output_type": "stream",
     "text": [
      "Title: CyberMentor: AI Powered Learning Tool Platform to Address Diverse Student Needs in Cybersecurity Education\n",
      "Authors: Tianyu Wang, Nianjun Zhou, Zhixiong Chen\n",
      "Published: 2025-01-16\n",
      "Summary: Many non-traditional students in cybersecurity programs often lack access to\n",
      "advice from peers, family members and professors, which can hinder their\n",
      "educational experiences. Additionally, these students may not fully benefit\n",
      "from various LLM-powered AI assistants due to issues like content relevance,\n",
      "locality of advice, minimum expertise, and timing. This paper addresses these\n",
      "challenges by introducing an application designed to provide comprehensive\n",
      "support by answering questions related to knowledge, skills, and career\n",
      "preparation advice tailored to the needs of these students. We developed a\n",
      "learning tool platform, CyberMentor, to address the diverse needs and pain\n",
      "points of students majoring in cybersecurity. Powered by agentic workflow and\n",
      "Generative Large Language Models (LLMs), the platform leverages\n",
      "Retrieval-Augmented Generation (RAG) for accurate and contextually relevant\n",
      "information retrieval to achieve accessibility and personalization. We\n",
      "demonstrated its value in addressing knowledge requirements for cybersecurity\n",
      "education and for career marketability, in tackling skill requirements for\n",
      "analytical and programming assignments, and in delivering real time on demand\n",
      "learning support. Using three use scenarios, we showcased CyberMentor in\n",
      "facilitating knowledge acquisition and career preparation and providing\n",
      "seamless skill-based guidance and support. We also employed the LangChain\n",
      "prompt-based evaluation methodology to evaluate the platform's impact,\n",
      "confirming its strong performance in helpfulness, correctness, and\n",
      "completeness. These results underscore the system's ability to support students\n",
      "in developing practical cybersecurity skills while improving equity and\n",
      "sustainability within higher education. Furthermore, CyberMentor's open-source\n",
      "design allows for adaptation across other disciplines, fostering educational\n",
      "innovation and broadening its potential impact.\n",
      "\n"
     ]
    }
   ],
   "source": [
    "from datetime import datetime, timedelta\n",
    "\n",
    "# Calculate date 48 hours ago\n",
    "last_24_hours = (datetime.now() - timedelta(days=15)).strftime(\"%Y%m%d\")\n",
    "\n",
    "# Search for recent papers\n",
    "recent_results = fetcher.search(\n",
    "    query=\"all:(agents AND cybersecurity)\",\n",
    "    from_date=last_24_hours,\n",
    "    to_date=datetime.now().strftime(\"%Y%m%d\"),\n",
    "    max_results=5\n",
    ")\n",
    "\n",
    "# Display recent papers\n",
    "for doc in recent_results:\n",
    "    print(f\"Title: {doc.metadata['title']}\")\n",
    "    print(f\"Authors: {', '.join(doc.metadata['authors'])}\")\n",
    "    print(f\"Published: {doc.metadata['published']}\")\n",
    "    print(f\"Summary: {doc.text}\\n\")"
   ]
  },
  {
   "cell_type": "markdown",
   "metadata": {},
   "source": [
    "## Download Top 5 Papers as PDF Files"
   ]
  },
  {
   "cell_type": "code",
   "execution_count": 8,
   "metadata": {},
   "outputs": [
    {
     "name": "stderr",
     "output_type": "stream",
     "text": [
      "INFO:floki.document.fetcher.arxiv:Searching for query: all:(agents AND cybersecurity)\n",
      "INFO:arxiv:Requesting page (first: True, try: 0): https://export.arxiv.org/api/query?search_query=all%3A%28agents+AND+cybersecurity%29&id_list=&sortBy=submittedDate&sortOrder=descending&start=0&max_results=100\n",
      "INFO:arxiv:Got first page: 95 of 95 total results\n",
      "INFO:floki.document.fetcher.arxiv:Found 5 results for query: all:(agents AND cybersecurity)\n",
      "INFO:floki.document.fetcher.arxiv:Downloading paper to arxiv_papers/2501.09709v1.CyberMentor__AI_Powered_Learning_Tool_Platform_to_Address_Diverse_Student_Needs_in_Cybersecurity_Education.pdf\n",
      "INFO:floki.document.fetcher.arxiv:Downloading paper to arxiv_papers/2501.00855v1.What_is_a_Social_Media_Bot__A_Global_Comparison_of_Bot_and_Human_Characteristics.pdf\n",
      "INFO:floki.document.fetcher.arxiv:Downloading paper to arxiv_papers/2412.20787v3.SecBench__A_Comprehensive_Multi_Dimensional_Benchmarking_Dataset_for_LLMs_in_Cybersecurity.pdf\n",
      "INFO:floki.document.fetcher.arxiv:Downloading paper to arxiv_papers/2412.13420v1.BotSim__LLM_Powered_Malicious_Social_Botnet_Simulation.pdf\n",
      "INFO:floki.document.fetcher.arxiv:Downloading paper to arxiv_papers/2412.15237v1.algoTRIC__Symmetric_and_asymmetric_encryption_algorithms_for_Cryptography____A_comparative_analysis_in_AI_era.pdf\n"
     ]
    },
    {
     "name": "stdout",
     "output_type": "stream",
     "text": [
      "Downloaded Paper: CyberMentor: AI Powered Learning Tool Platform to Address Diverse Student Needs in Cybersecurity Education\n",
      "File Path: arxiv_papers/2501.09709v1.CyberMentor__AI_Powered_Learning_Tool_Platform_to_Address_Diverse_Student_Needs_in_Cybersecurity_Education.pdf\n",
      "\n",
      "Downloaded Paper: What is a Social Media Bot? A Global Comparison of Bot and Human Characteristics\n",
      "File Path: arxiv_papers/2501.00855v1.What_is_a_Social_Media_Bot__A_Global_Comparison_of_Bot_and_Human_Characteristics.pdf\n",
      "\n",
      "Downloaded Paper: SecBench: A Comprehensive Multi-Dimensional Benchmarking Dataset for LLMs in Cybersecurity\n",
      "File Path: arxiv_papers/2412.20787v3.SecBench__A_Comprehensive_Multi_Dimensional_Benchmarking_Dataset_for_LLMs_in_Cybersecurity.pdf\n",
      "\n",
      "Downloaded Paper: BotSim: LLM-Powered Malicious Social Botnet Simulation\n",
      "File Path: arxiv_papers/2412.13420v1.BotSim__LLM_Powered_Malicious_Social_Botnet_Simulation.pdf\n",
      "\n",
      "Downloaded Paper: algoTRIC: Symmetric and asymmetric encryption algorithms for Cryptography -- A comparative analysis in AI era\n",
      "File Path: arxiv_papers/2412.15237v1.algoTRIC__Symmetric_and_asymmetric_encryption_algorithms_for_Cryptography____A_comparative_analysis_in_AI_era.pdf\n",
      "\n"
     ]
    }
   ],
   "source": [
    "import os\n",
    "from pathlib import Path\n",
    "\n",
    "# Create a directory for downloaded papers\n",
    "os.makedirs(\"arxiv_papers\", exist_ok=True)\n",
    "\n",
    "# Search and download PDFs\n",
    "download_results = fetcher.search(query=\"all:(agents AND cybersecurity)\", max_results=5, download=True, dirpath=Path(\"arxiv_papers\"))\n",
    "\n",
    "for paper in download_results:\n",
    "    print(f\"Downloaded Paper: {paper['title']}\")\n",
    "    print(f\"File Path: {paper['file_path']}\\n\")"
   ]
  },
  {
   "cell_type": "code",
   "execution_count": 9,
   "metadata": {},
   "outputs": [
    {
     "data": {
      "text/plain": [
       "{'entry_id': 'http://arxiv.org/abs/2501.09709v1',\n",
       " 'title': 'CyberMentor: AI Powered Learning Tool Platform to Address Diverse Student Needs in Cybersecurity Education',\n",
       " 'authors': ['Tianyu Wang', 'Nianjun Zhou', 'Zhixiong Chen'],\n",
       " 'published': '2025-01-16',\n",
       " 'updated': '2025-01-16',\n",
       " 'primary_category': 'cs.CY',\n",
       " 'categories': ['cs.CY', 'cs.AI', 'K.3.2; I.2.1'],\n",
       " 'pdf_url': 'http://arxiv.org/pdf/2501.09709v1',\n",
       " 'file_path': 'arxiv_papers/2501.09709v1.CyberMentor__AI_Powered_Learning_Tool_Platform_to_Address_Diverse_Student_Needs_in_Cybersecurity_Education.pdf'}"
      ]
     },
     "execution_count": 9,
     "metadata": {},
     "output_type": "execute_result"
    }
   ],
   "source": [
    "download_results[0]"
   ]
  },
  {
   "cell_type": "markdown",
   "metadata": {},
   "source": [
    "## Download Top 5 Papers as PDF Files (Include Summary)"
   ]
  },
  {
   "cell_type": "code",
   "execution_count": 10,
   "metadata": {},
   "outputs": [
    {
     "name": "stderr",
     "output_type": "stream",
     "text": [
      "INFO:floki.document.fetcher.arxiv:Searching for query: all:(agents AND cybersecurity)\n",
      "INFO:arxiv:Requesting page (first: True, try: 0): https://export.arxiv.org/api/query?search_query=all%3A%28agents+AND+cybersecurity%29&id_list=&sortBy=submittedDate&sortOrder=descending&start=0&max_results=100\n",
      "INFO:arxiv:Got first page: 94 of 94 total results\n",
      "INFO:floki.document.fetcher.arxiv:Found 5 results for query: all:(agents AND cybersecurity)\n",
      "INFO:floki.document.fetcher.arxiv:Downloading paper to more_arxiv/2501.00855v1.What_is_a_Social_Media_Bot__A_Global_Comparison_of_Bot_and_Human_Characteristics.pdf\n",
      "INFO:floki.document.fetcher.arxiv:Downloading paper to more_arxiv/2412.20787v3.SecBench__A_Comprehensive_Multi_Dimensional_Benchmarking_Dataset_for_LLMs_in_Cybersecurity.pdf\n",
      "INFO:floki.document.fetcher.arxiv:Downloading paper to more_arxiv/2412.13420v1.BotSim__LLM_Powered_Malicious_Social_Botnet_Simulation.pdf\n",
      "INFO:floki.document.fetcher.arxiv:Downloading paper to more_arxiv/2412.15237v1.algoTRIC__Symmetric_and_asymmetric_encryption_algorithms_for_Cryptography____A_comparative_analysis_in_AI_era.pdf\n",
      "INFO:floki.document.fetcher.arxiv:Downloading paper to more_arxiv/2412.06512v1.The_Fusion_of_Large_Language_Models_and_Formal_Methods_for_Trustworthy_AI_Agents__A_Roadmap.pdf\n"
     ]
    }
   ],
   "source": [
    "import os\n",
    "from pathlib import Path\n",
    "\n",
    "# Create a directory for downloaded papers\n",
    "os.makedirs(\"arxiv_papers\", exist_ok=True)\n",
    "\n",
    "# Search and download PDFs\n",
    "download_results = fetcher.search(query=\"all:(agents AND cybersecurity)\", max_results=5, download=True, dirpath=Path(\"more_arxiv\"), include_summary=True)"
   ]
  },
  {
   "cell_type": "code",
   "execution_count": 11,
   "metadata": {},
   "outputs": [
    {
     "data": {
      "text/plain": [
       "{'entry_id': 'http://arxiv.org/abs/2501.00855v1',\n",
       " 'title': 'What is a Social Media Bot? A Global Comparison of Bot and Human Characteristics',\n",
       " 'authors': ['Lynnette Hui Xian Ng', 'Kathleen M. Carley'],\n",
       " 'published': '2025-01-01',\n",
       " 'updated': '2025-01-01',\n",
       " 'primary_category': 'cs.CY',\n",
       " 'categories': ['cs.CY', 'cs.AI', 'cs.SI'],\n",
       " 'pdf_url': 'http://arxiv.org/pdf/2501.00855v1',\n",
       " 'file_path': 'more_arxiv/2501.00855v1.What_is_a_Social_Media_Bot__A_Global_Comparison_of_Bot_and_Human_Characteristics.pdf',\n",
       " 'summary': 'Chatter on social media is 20% bots and 80% humans. Chatter by bots and\\nhumans is consistently different: bots tend to use linguistic cues that can be\\neasily automated while humans use cues that require dialogue understanding.\\nBots use words that match the identities they choose to present, while humans\\nmay send messages that are not related to the identities they present. Bots and\\nhumans differ in their communication structure: sampled bots have a star\\ninteraction structure, while sampled humans have a hierarchical structure.\\nThese conclusions are based on a large-scale analysis of social media tweets\\nacross ~200mil users across 7 events. Social media bots took the world by storm\\nwhen social-cybersecurity researchers realized that social media users not only\\nconsisted of humans but also of artificial agents called bots. These bots wreck\\nhavoc online by spreading disinformation and manipulating narratives. Most\\nresearch on bots are based on special-purposed definitions, mostly predicated\\non the event studied. This article first begins by asking, \"What is a bot?\",\\nand we study the underlying principles of how bots are different from humans.\\nWe develop a first-principle definition of a social media bot. With this\\ndefinition as a premise, we systematically compare characteristics between bots\\nand humans across global events, and reflect on how the software-programmed bot\\nis an Artificial Intelligent algorithm, and its potential for evolution as\\ntechnology advances. Based on our results, we provide recommendations for the\\nuse and regulation of bots. Finally, we discuss open challenges and future\\ndirections: Detect, to systematically identify these automated and potentially\\nevolving bots; Differentiate, to evaluate the goodness of the bot in terms of\\ntheir content postings and relationship interactions; Disrupt, to moderate the\\nimpact of malicious bots.'}"
      ]
     },
     "execution_count": 11,
     "metadata": {},
     "output_type": "execute_result"
    }
   ],
   "source": [
    "download_results[0]"
   ]
  },
  {
   "cell_type": "code",
   "execution_count": 13,
   "metadata": {},
   "outputs": [
    {
     "name": "stdout",
     "output_type": "stream",
     "text": [
      "Chatter on social media is 20% bots and 80% humans. Chatter by bots and\n",
      "humans is consistently different: bots tend to use linguistic cues that can be\n",
      "easily automated while humans use cues that require dialogue understanding.\n",
      "Bots use words that match the identities they choose to present, while humans\n",
      "may send messages that are not related to the identities they present. Bots and\n",
      "humans differ in their communication structure: sampled bots have a star\n",
      "interaction structure, while sampled humans have a hierarchical structure.\n",
      "These conclusions are based on a large-scale analysis of social media tweets\n",
      "across ~200mil users across 7 events. Social media bots took the world by storm\n",
      "when social-cybersecurity researchers realized that social media users not only\n",
      "consisted of humans but also of artificial agents called bots. These bots wreck\n",
      "havoc online by spreading disinformation and manipulating narratives. Most\n",
      "research on bots are based on special-purposed definitions, mostly predicated\n",
      "on the event studied. This article first begins by asking, \"What is a bot?\",\n",
      "and we study the underlying principles of how bots are different from humans.\n",
      "We develop a first-principle definition of a social media bot. With this\n",
      "definition as a premise, we systematically compare characteristics between bots\n",
      "and humans across global events, and reflect on how the software-programmed bot\n",
      "is an Artificial Intelligent algorithm, and its potential for evolution as\n",
      "technology advances. Based on our results, we provide recommendations for the\n",
      "use and regulation of bots. Finally, we discuss open challenges and future\n",
      "directions: Detect, to systematically identify these automated and potentially\n",
      "evolving bots; Differentiate, to evaluate the goodness of the bot in terms of\n",
      "their content postings and relationship interactions; Disrupt, to moderate the\n",
      "impact of malicious bots.\n"
     ]
    }
   ],
   "source": [
    "print(download_results[0][\"summary\"])"
   ]
  },
  {
   "cell_type": "markdown",
   "metadata": {},
   "source": [
    "## Reading Downloaded PDFs\n",
    "\n",
    "To read the downloaded PDF files, we'll use the `PyPDFReader` class from floki.document. This allows us to extract the content of each page while retaining the associated metadata for further processing."
   ]
  },
  {
   "cell_type": "code",
   "execution_count": null,
   "metadata": {},
   "outputs": [],
   "source": [
    "# Ensure you have the required library for reading PDFs installed. If not, you can install it using the following command:\n",
    "!pip install pypdf"
   ]
  },
  {
   "cell_type": "markdown",
   "metadata": {},
   "source": [
    "The following code reads each downloaded PDF file and extracts its pages. Each page is stored as a separate Document object, containing both the page's text and the metadata from the original PDF."
   ]
  },
  {
   "cell_type": "code",
   "execution_count": 16,
   "metadata": {},
   "outputs": [
    {
     "name": "stderr",
     "output_type": "stream",
     "text": [
      "WARNING:pypdf._reader:Ignoring wrong pointing object 6 0 (offset 0)\n",
      "WARNING:pypdf._reader:Ignoring wrong pointing object 8 0 (offset 0)\n",
      "WARNING:pypdf._reader:Ignoring wrong pointing object 10 0 (offset 0)\n",
      "WARNING:pypdf._reader:Ignoring wrong pointing object 12 0 (offset 0)\n",
      "WARNING:pypdf._reader:Ignoring wrong pointing object 14 0 (offset 0)\n",
      "WARNING:pypdf._reader:Ignoring wrong pointing object 16 0 (offset 0)\n",
      "WARNING:pypdf._reader:Ignoring wrong pointing object 18 0 (offset 0)\n",
      "WARNING:pypdf._reader:Ignoring wrong pointing object 20 0 (offset 0)\n",
      "WARNING:pypdf._reader:Ignoring wrong pointing object 40 0 (offset 0)\n",
      "WARNING:pypdf._reader:Ignoring wrong pointing object 45 0 (offset 0)\n",
      "WARNING:pypdf._reader:Ignoring wrong pointing object 54 0 (offset 0)\n",
      "WARNING:pypdf._reader:Ignoring wrong pointing object 78 0 (offset 0)\n",
      "WARNING:pypdf._reader:Ignoring wrong pointing object 87 0 (offset 0)\n",
      "WARNING:pypdf._reader:Ignoring wrong pointing object 89 0 (offset 0)\n",
      "WARNING:pypdf._reader:Ignoring wrong pointing object 91 0 (offset 0)\n"
     ]
    },
    {
     "name": "stdout",
     "output_type": "stream",
     "text": [
      "Extracted 107 documents from the PDFs.\n"
     ]
    }
   ],
   "source": [
    "from pathlib import Path\n",
    "from floki.document import PyPDFReader\n",
    "\n",
    "# Initialize the PDF reader\n",
    "docs_read = []\n",
    "reader = PyPDFReader()\n",
    "\n",
    "# Remove 'summary' from metadata in download_results\n",
    "for paper in download_results:\n",
    "    paper.pop(\"summary\", None)  # Remove the 'summary' key if it exists\n",
    "\n",
    "# Process each downloaded PDF\n",
    "for paper in download_results:\n",
    "    local_pdf_path = Path(paper[\"file_path\"])  # Ensure the key matches the output\n",
    "    documents = reader.load(local_pdf_path, additional_metadata=paper)  # Load the PDF with metadata\n",
    "    \n",
    "    # Append each page's document to the main list\n",
    "    docs_read.extend(documents)  # Flatten into one list of all documents\n",
    "\n",
    "# Verify the results\n",
    "print(f\"Extracted {len(docs_read)} documents from the PDFs.\")"
   ]
  },
  {
   "cell_type": "code",
   "execution_count": 17,
   "metadata": {},
   "outputs": [
    {
     "data": {
      "text/plain": [
       "[Document(metadata={'file_path': 'more_arxiv/2501.00855v1.What_is_a_Social_Media_Bot__A_Global_Comparison_of_Bot_and_Human_Characteristics.pdf', 'page_number': 1, 'total_pages': 33, 'entry_id': 'http://arxiv.org/abs/2501.00855v1', 'title': 'What is a Social Media Bot? A Global Comparison of Bot and Human Characteristics', 'authors': ['Lynnette Hui Xian Ng', 'Kathleen M. Carley'], 'published': '2025-01-01', 'updated': '2025-01-01', 'primary_category': 'cs.CY', 'categories': ['cs.CY', 'cs.AI', 'cs.SI'], 'pdf_url': 'http://arxiv.org/pdf/2501.00855v1'}, text='What is a Social Media Bot? A Global Comparison of\\nBot and Human Characteristics\\nLynnette Hui Xian Ng1,* and Kathleen M. Carley1\\n1Center for Informed Democracy & Social - cybersecurity (IDeaS), Societal and Software Systems Carnegie Mellon\\nUniversity, Pittsburgh, PA 15213\\n*lynnetteng@cmu.edu\\nABSTRACT\\nChatter on social media about global events comes from 20% bots and 80% humans. The chatter by bots and humans is\\nconsistently different: bots tend to use linguistic cues that can be easily automated (e.g., increased hashtags, and positive\\nterms) while humans use cues that require dialogue understanding (e.g. replying to post threads). Bots use words in categories\\nthat match the identities they choose to present, while humans may send messages that are not obviously related to the\\nidentities they present. Bots and humans differ in their communication structure: sampled bots have a star interaction structure,\\nwhile sampled humans have a hierarchical structure. These conclusions are based on a large-scale analysis of social media\\ntweets across ∼ 200 million users across 7 events.\\nSocial media bots took the world by storm when social-cybersecurity researchers realized that social media users not only\\nconsisted of humans, but also of artificial agents called bots. These bots wreck havoc online by spreading disinformation and\\nmanipulating narratives. However, most research on bots are based on special-purposed definitions, mostly predicated on the\\nevent studied. In this article, we first begin by asking, “What is a bot?\", and we study the underlying principles of how bots are\\ndifferent from humans. We develop a first-principle definition of a social media bot. This definition refines existing academic\\nand industry definitions: “A Social Media Bot is An automated account that carries out a series of mechanics on social media\\nplatforms, for content creation, distribution and collection, and/or for relationship formation and dissolutions.\" With this definition\\nas a premise, we systematically compare the characteristics between bots and humans across global events, and reflect on\\nhow the software-programmed bot is an Artificial Intelligent algorithm, and its potential for evolution as technology advances.\\nBased on our results, we provide recommendations for the use of bots and for the regulation of bots. Finally, we discuss three\\nopen challenges and future directions of the study of bots: Detect, to systematically identify these automated and potentially\\nevolving bots; Differentiate, to evaluate the goodness of the bot in terms of their content postings and relationship interactions;\\nDisrupt, to moderate the impact of malicious bots, while not unsettling human conversations.\\nIntroduction\\nThe notion of “bots” on social media is ubiquitous across many scholarship. These studies captured a range of different social\\nphenomena where bots operate: politics, hate speech, toxicity and so forth. Bots were used to boost the follower count of\\npoliticians in the 2011 Arab Springs uprising, generating false impressions of popularity1, 2. In the same uprising, bots flooded\\nnews streams to interrupt efforts of political dissidents1, 2. In the US 2020 elections, bots augmented human users in strategic\\ncommunications, and actively distorted or fabricated narratives to create a polarized society3–5. More recently, bots aggressively\\npushed anti-vaccine narratives and conspiracy theories on social media during the 2021 coronavirus pandemic6, 7. Bots applied\\nsocial pressure to influence humans to favor the anti-vaccine ideology 3, 8. When the tension of the online ideologies are\\nsufficiently strong, and the spread sufficiently wide, these ideologies spillover to the offline world, resulting in protests, riots\\nand targeted hate-speech9–12. Social media bots gained further media attention in 2022 when Elon Musk proclaimed that at\\nleast 20% of the Twitter users were bots, which were influencing content quality13. Musk later bought the platform, and took\\nsteps to curtail the bot population in a “global bot purge\", which includes removing huge amounts of bots, and charging newly\\ncreated accounts to post and interact on the platform14.\\nMuch research on social media bots involve constructing bot detection algorithms and applying bot detection algorithms to\\nanalyze bot activity during an event. Bot detection algorithms typically extract a series of features from user and post data,\\nthen build a supervised machine learning model which classifies the likelihood of a user being a bot or a human 15. These\\nmachine learning models range from logistic regression16, to random forests17, to ensemble of classifiers4, 18, to deep learning\\nmethods19, 20. Another technique of bot detection is graph-based methods, which infers the probability of a user being a bot by\\nits connections, i.e. friends21, 22. Most recently, Large Language Models (LLMs) are incorporated in bot detection algorithms\\nto handle the diverse user information and content modalities23. These bot detection classifiers have been used to study bot\\nbehavior in many events, ranging from political events4, 24–26 to natural disasters27, 27 to the spread of information and opinions\\n1\\narXiv:2501.00855v1  [cs.CY]  1 Jan 2025'),\n",
       " Document(metadata={'file_path': 'more_arxiv/2501.00855v1.What_is_a_Social_Media_Bot__A_Global_Comparison_of_Bot_and_Human_Characteristics.pdf', 'page_number': 2, 'total_pages': 33, 'entry_id': 'http://arxiv.org/abs/2501.00855v1', 'title': 'What is a Social Media Bot? A Global Comparison of Bot and Human Characteristics', 'authors': ['Lynnette Hui Xian Ng', 'Kathleen M. Carley'], 'published': '2025-01-01', 'updated': '2025-01-01', 'primary_category': 'cs.CY', 'categories': ['cs.CY', 'cs.AI', 'cs.SI'], 'pdf_url': 'http://arxiv.org/pdf/2501.00855v1'}, text='on social media8, 28, 29.\\nAlthough researchers have built automatic bot detection classifiers, behavioral studies show that humans are unable to\\ndifferentiate between the bot and human user 30. In fact, the identification of bots by security students are akin to random\\nguesses31. Consequently, it is important to study bots and their characteristic nature and activity patterns. Our study is\\npositioned within the social cybersecurity realm, which studies how the digital environment, particularly bots, can be exploited\\nto alter the content and community relationships32.\\nThis article is being driven by looking at a first principles approach to bots. We ask the following research questions:\\n• RQ1: What is a social media bot? Many studies are predicated on a general purpose understanding of a bot, or a\\nspecific definition particular to the event of study. Instead, we pare down the definition of a bot into its treatment of the\\ncore elements of a social media platform (users, content, relationships).\\n• RQ2: How does the nature of a bot differ from a human? Systematically, we look at the difference between bots\\nand humans. We use a large scale dataset from Twitter/X that spans over 200 million users, and analyzed four aspects:\\nvolume of bot/human user types, use of linguistic cues, use of identity terms, and social interactions.\\nAfter an examination of the social media bot, we discuss how a bot is also an Artificial Intelligent (AI) agent, and its\\npotential evolution alongside technological advancements. We finally follow with a discussion of the open research challenges\\nof the study of bots to encourage future studies in this field. The challenges we identify reflect the definition of a bot: Detect, to\\nsystematically identify these automated and evolving bots; Differentiate, to evaluate the goodness of the bot in terms of their\\ncontent postings and relationship interactions; and Disrupt, to moderate the impact of malicious bots, while not unsettling\\ndigital human communities.\\nWhat is a Social Media Bot?\\nThe term “bot\" has become a pervasive metaphor for inauthentic online users8, 33. Most social media users have an implicit\\nunderstanding of a bot, as do most researchers30. Table 2 summarizes some of the recent definitions of bots retrieved from\\nacademic literature. The security industry also watches social media bot accounts, and Table 3 summarizes definitions from\\nindustry sources. Each of the definition grasps one or more relevant properties (highlighted in bold) of a social media bot, yet\\nare not sufficiently comprehensive to describe the bot. Some of these relevant properties are: “automated\", “interacts with\\nhumans\", “artificial agents\".\\nOne of the problems with existing definitions is that they often define bots as being malicious and they highlight the nefarious\\nuse of bots5, 34–37: “malicious actors\", “public opinion manipulation\", “malicious tasks\"18, 38, 39. Most often, the study of bots\\nis established upon nefarious tasks: election manipulation, information operations, even promoting extremism 33, 34, 40. The\\nexact same technology can be used in both good and bad ways. There are plenty of good bots41–43. Bots provide notifications\\nand entertainment44, such as the @CoronaUpdateBot found in our dataset which posts critical public health information. Bots\\nsupport crisis management efforts by gathering the needs and combined locations of people after a disaster, for authorities and\\ncommunity volunteers to identify crucial areas and providing help45. Chat bots provide emotional support during stress46 and\\ncontinue bonds in times of grieve47. Celebrities and organizations use bots to facilitate strategic communications with their fans\\nand clients3, 48.\\nIn essence, a bot is a computer algorithm. As an algorithm, a bot is neither bad or good. It is the persona it is afforded to\\nthat determines the goodness of its use. We develop a generic definition of a bot. The definition is independent of the use of the\\nbot. The determination of the use of the bot warrants separate treatment beyond this paper. Regardless of whether a bot is used\\nfor good or ill, the behavioral characteristics of bots remain the same.\\nTo better describe the social media bot, we first need to characterize the environment in which it lives: the social media\\nplatform. Within a social media platform, there are three main elements: users, content and relationships49. Users are represented\\nby their virtual accounts, and are the key actors driving the system, creating and distributing information. Content is the\\ninformation generated by users on the platform. Relationships are formed from the user-user, user-content and content-content\\ninteractions.\\nAfter distilling a social media platform into its core building blocks, it follows that definition of a social media bot should\\nbe based on the foundations of a social media platform as first principles. The presence of these components in each of the\\nreference definitions are broken down in Table 4. The first principles of a bot are:\\n• User: An automated account that carries out a series of mechanics. A key characteristic of bots is its programmability,\\nwhich give it its artificial and inauthentic characteristic. Automation is an aspect that has been iterated in all the reference\\ndefinitions. The key here is that a bot is automated. The model underlying the automation does not matter; any model\\ncan be applied equally well to humans and bot. A bot could be built to mimic humans, or it could be built to optimize\\n2/33'),\n",
       " Document(metadata={'file_path': 'more_arxiv/2501.00855v1.What_is_a_Social_Media_Bot__A_Global_Comparison_of_Bot_and_Human_Characteristics.pdf', 'page_number': 3, 'total_pages': 33, 'entry_id': 'http://arxiv.org/abs/2501.00855v1', 'title': 'What is a Social Media Bot? A Global Comparison of Bot and Human Characteristics', 'authors': ['Lynnette Hui Xian Ng', 'Kathleen M. Carley'], 'published': '2025-01-01', 'updated': '2025-01-01', 'primary_category': 'cs.CY', 'categories': ['cs.CY', 'cs.AI', 'cs.SI'], 'pdf_url': 'http://arxiv.org/pdf/2501.00855v1'}, text='other functions. For example, some studies describe bots in terms of its mimicry of humans33, 50, but others observe that\\nbots eventually influence the social space such that humans mimic bots51, 52.\\n• Content: for content creation, distribution, and collection and processing. Bots often generate their content in bulk to\\ndistribute a certain ideology24, 53, such as a good portrayal of their affiliated country54. Instances where bots perform\\ncontent distribution is where the spread fake news and disinformation content28, 55, 56, or when they distribute general\\nnews information57. Bots in the form of web crawlers and scrapers download and index data from social media in bulk58,\\nand sometimes process the data to perform functions like analyzing sentiment of opinions59.\\n• Relationships: for relationship formation and dissolution. In other words, forming a relationship online means to connect\\nwith other users via post-based (i.e., retweet, mention) or user-based (i.e., following, friend) mechanisms. Dissolving\\na relationship means to destroy a connection by forcing users to leave a community. Bots are an actively form and\\ndestroy relationships on social media platforms. An example of the formation of post-based relationship is the active\\namplification of narratives. This technique is mostly employed in the political realm where the bots retweet political\\nideology in an organized fashion24, 60, 61. User-based relationships can grow through coordinated fake-follower bots,\\nthat are used to boost online popularity62, or can be dissolved through toxic bots that spread hate and directed religious\\nideologies40, 63, causing users to break away from the community64.\\nFigure 1 reflects a first principles definition of a social media bot. A Social Media Bot is “An automated account that carries\\nout a series of mechanics on social media platforms, for content creation, distribution, and collection and processing, and/or for\\nrelationship formation and dissolutions.\" This definition displays the possibilities of mechanics that the bot account can carry\\nout. A bot does not necessarily carry out all the mechanics. The combinations of mechanics that a bot carries out thus affects\\nthe type of bot it is and the role it plays within the social media space, and as shown in Table 1, those mechanics can be used for\\neither good or bad. Bot types can be named for their actions or for their content. For example, a bot that carries out relationship\\nformation between two different communities, and does not do any content mechanics can be classified as a bridging bot16. We\\nillustrate a few types of bots and their use for good and bad in Table 1. Note that this list is not meant to be an exhaustive list\\nbut an illustrative list of the variety of bots in the social media space.\\nFigure 1.Definition of Social Media Bot. This definition displays the possibilities of mechanics that the bot account can carry\\nout. A bot does not necessarily carry out all the mechanics.\\nType of Bot Use for Good Use for bad\\nGeneral Bot search engine optimization, data collection 58 spread disinformation29, manipulate opinion8\\nBridging Bot political commentators that aggregate informa-\\ntion16\\ncross-cultural social marketing, disseminate infor-\\nmation across community differences54\\nPolitical Bot “establishing brand and amplifying messages\"3, 25,\\ndigital campaigning16\\npolitical manipulation65\\nChat Bot emotional support during stress 46 and grieve47 Post offensive and inflammatory comments66\\nActivist Bot crisis management 45 trigger and initiate activism2, 9\\nTable 1.Illustration of type of bots and their role in the social media space. Note that this list is not exhaustive but illustrative.\\n3/33'),\n",
       " Document(metadata={'file_path': 'more_arxiv/2501.00855v1.What_is_a_Social_Media_Bot__A_Global_Comparison_of_Bot_and_Human_Characteristics.pdf', 'page_number': 4, 'total_pages': 33, 'entry_id': 'http://arxiv.org/abs/2501.00855v1', 'title': 'What is a Social Media Bot? A Global Comparison of Bot and Human Characteristics', 'authors': ['Lynnette Hui Xian Ng', 'Kathleen M. Carley'], 'published': '2025-01-01', 'updated': '2025-01-01', 'primary_category': 'cs.CY', 'categories': ['cs.CY', 'cs.AI', 'cs.SI'], 'pdf_url': 'http://arxiv.org/pdf/2501.00855v1'}, text='Year Reference Definition\\n2016 33 A social bot is a computer algorithm that automatically\\nproduces content and interacts with humans on social\\nmedia, trying to emulate and possibly alter their behavior.\\n2016 26 [...] social bots, algorithmically controlled accounts\\nthat emulate the activity of human users but operate at\\nmuch higher pace (e.g., automatically producing content\\nor engaging in social interactions), while successfully\\nkeeping their artificial identity undisclosed\\n2016 50 Automated accounts, called bots, [...]\\n2018 58 Bots are have been generally defined asautomated agents\\nthat function on an online platform [..]. As some put it,\\nthese are programs that run continuously, formulate deci-\\nsions, act upon those decisions without human interven-\\ntion, and are able adapt to the context they operate in.\\n2018 67 The term “social bot” describes accounts on social media\\nsites that are controlled by botsand imitate human users\\nto a high degree but differ regarding their intent.\\n2018 17 [...] malicious automated agents\\n2020 20 Social Media Bots (SMB) are computer algorithms that\\nproduce content and interacts with users\\n2020 38 [...] social bots, (semi-) automatized accounts in social\\nmedia, gained global attention in the context of public\\nopinion manipulation.\\n2020 18 Malicious actors create inauthentic social media ac-\\ncounts controlled in part by algorithms, known as social\\nbots, to disseminate misinformation and agitate online\\ndiscussion.\\n2021 68 Social bots – partially or fully automated accounts on\\nsocial media platforms [...]\\n2022 69 Social media bots are automated accounts controlled by\\nsoftware algorithms rather than human users\\n2023 41 Social bots are automated social media accounts gov-\\nerned by software and controlled by humans at the back-\\nend.\\n2023 15 A bot is a software that mimics human behavior and oper-\\nates autonomously and automatically.\\n2023 70 Twitter accounts controlled by automated programs.\\n2023 71 Automated accounts on social media that impersonate\\nreal users, often called “social bots,”\\n2023 72 Social bots are social media accounts controlled by soft-\\nware that can carry out content and post content auto-\\nmatically.\\n2024 30 Social bots are artificial agents that infiltrate social media\\n2024 73 Social bots are social media accounts controlled in part\\nby software [...] Social media bots display profiles and\\nengage with others through various means, including fol-\\nlowing, liking, and retweeting\\nTable 2.Definitions of “Social Media Bot\" in academic literature.\\n4/33'),\n",
       " Document(metadata={'file_path': 'more_arxiv/2501.00855v1.What_is_a_Social_Media_Bot__A_Global_Comparison_of_Bot_and_Human_Characteristics.pdf', 'page_number': 5, 'total_pages': 33, 'entry_id': 'http://arxiv.org/abs/2501.00855v1', 'title': 'What is a Social Media Bot? A Global Comparison of Bot and Human Characteristics', 'authors': ['Lynnette Hui Xian Ng', 'Kathleen M. Carley'], 'published': '2025-01-01', 'updated': '2025-01-01', 'primary_category': 'cs.CY', 'categories': ['cs.CY', 'cs.AI', 'cs.SI'], 'pdf_url': 'http://arxiv.org/pdf/2501.00855v1'}, text='Year Reference Definition\\n2018 US Department of\\nHomeland Security39\\n[...] Social Media Bots as programs that vary in size de-\\npending on their function, capability, and design; and can\\nbe used on social media platforms to do various useful\\nand malicious tasks while simulating human behavior\\n2024 Microsoft 74 Social media bots are automated programs designed to\\ninteract with account users.\\n2024 Meltwater 75 Refers to the definition by US CSIA (see below)\\nNot Dated CloudFlare 37 [...] social media bots are automated programs used to\\nengage in social media. These bots behave in an either\\npartially or fully autonomous fashion, and are often de-\\nsigned to mimic human users.\\nNot Dated Cybersecurity and In-\\nfrastructure Security\\nAgency (CISA)44\\nSocial Media Bots are automated programs that simu-\\nlate human engagement on social media platforms.\\nNote Dated Imperva 76 An Internet bot is a software application that runs auto-\\nmated tasks over the internet.\\nTable 3.Definitions of “Social Media Bot\" in industry literature\\nUser Content Interactions\\nReference Automation Mimicry Creation Distribution Communication Relationship\\n33 x x x\\n26 x x x x x\\n50 x\\n58 x\\n67 x x x\\n17 x\\n20 x x x x\\n38 x\\n18 x x\\n68 x\\n69 x\\n15 x x\\n41 x x x\\n70 x\\n71 x x\\n72 x x x\\n30 x\\n73 x x x\\nUS Department of\\nHomeland Security\\nx x\\nMicrosoft x x x\\nCloudFlare x x x x\\nCISA x x x x\\nImperva x\\nTable 4.Components of definitions of “Social media Bot\"\\n5/33'),\n",
       " Document(metadata={'file_path': 'more_arxiv/2501.00855v1.What_is_a_Social_Media_Bot__A_Global_Comparison_of_Bot_and_Human_Characteristics.pdf', 'page_number': 6, 'total_pages': 33, 'entry_id': 'http://arxiv.org/abs/2501.00855v1', 'title': 'What is a Social Media Bot? A Global Comparison of Bot and Human Characteristics', 'authors': ['Lynnette Hui Xian Ng', 'Kathleen M. Carley'], 'published': '2025-01-01', 'updated': '2025-01-01', 'primary_category': 'cs.CY', 'categories': ['cs.CY', 'cs.AI', 'cs.SI'], 'pdf_url': 'http://arxiv.org/pdf/2501.00855v1'}, text='Results\\nWe perform a global comparison of bot and human characteristics by combining several datasets obtained from X (previously\\nnamed Twitter) using the Twitter V1 Developed API. These events are: Asian Elections 25, 34, Black Panther 77, Canadian\\nElections 201978, Captain Marvel79, Coronavirus,80 ReOpen America9, 80 and US Elections 202080. In total, these datasets\\ncontain ∼ 5 billion tweets and ∼ 200 million users. Each user in this database is labeled as bot or human using the BotHunter\\nalgorithm17.\\nHow many bots are there?\\nFigure 2 presents the percentage of bot users within each dataset. On average, the bot volume across the events are about 20%\\nwith the bot percentage spiking up to 43% during the US Elections. This is in line with past work, where a general sample of\\nusers usually reveal a bot percentage below 30%70, yet in a politically-charged topic (i.e. elections, tensions between countries),\\nthe bot percentage rises34, 80. Our estimate is also empirically consistent with Elon Musk’s estimate of 20%13. This finding is\\nimportant for event analysis, because it provides a comparison baseline towards the percentage of bot-like users within an event.\\nSpikes in bot user percentage beyond 20% suggest that the event and conversation has caught the interest of bot operators, and\\nthe analyst can monitor for signs of conversation manipulation.\\n19.7%\\n80.3%\\n43.9%\\n56.1%\\n18.5%\\n81.5%\\n18.4%\\n81.6%\\n20.4%\\n79.6%\\n17%\\n83%\\n15.7%\\n84.3%\\n21.9%\\n78.1%\\nAsian Elections\\nBlack Panther\\nCanadian Elections 2019\\nCaptain Marvel\\nCoronavirus 2020−2021\\nReOpen America\\nUS Elections 2020\\nOverall\\nDataset\\nPercentage\\nClass\\nBot\\nHuman\\nFigure 2.Comparison of Bot volume across events. The percentage of bot users across the events are on average around 20%.\\nHow do bots differ from humans linguistically?\\nWe extract psycholinguistic cues from the tweets using the NetMapper software 81. The software returns the count of each\\ncue in the sentence, i.e., the number of words belonging to the cue in the tweet. There are three categories of cues: semantic,\\nemotion and metadata. Semantic and emotion cues are derived from the tweet text, while metadata cues are derived from the\\nmetadata of the user. Semantic cues include: first person pronouns, second person pronouns, third person pronouns and reading\\ndifficulty. Emotion cues include: abusive terms, expletives, negative sentiment, positive sentiment. Metadata cues include:\\nthe use of mentions, media, URLs, hashtags, retweets, favorites, replies, quotes, and the number of followers, friends, tweets,\\ntweets per hour, time between tweets and friends:followers ratio.\\nFigure 3a presents the differences between cues used by bots and humans. The detailed numeric differences are in the\\nSupplementary Material. This difference is examined overall, and by event. There are consistent differences in the use of cues\\nby bots and humans. For example, across all events, bots use significantly more abusive terms and expletives, and tweet more\\nthan humans. On the other hand, humans use more first person pronouns, positive sentiment, and media (i.e., images, videos).\\nHumans tend to quote and reply to tweets, while bots tend to retweet.\\nMost events have consistent cue distribution, but some events look different. In general, humans use more sentiment cues.\\nHowever, in the two elections (US Elections 2020 and Canadian Elections 2019), bots used more sentiment cues. This reveals a\\ndeliberate attempt to use bots during the election seasons to polarize online sentiments. Prior research has shown that bots can\\nbe highly negative during the election season82, and that bots express hugely different sentiment sentiment when mentioning\\ndifferent political candidates8, 83.\\n6/33'),\n",
       " Document(metadata={'file_path': 'more_arxiv/2501.00855v1.What_is_a_Social_Media_Bot__A_Global_Comparison_of_Bot_and_Human_Characteristics.pdf', 'page_number': 7, 'total_pages': 33, 'entry_id': 'http://arxiv.org/abs/2501.00855v1', 'title': 'What is a Social Media Bot? A Global Comparison of Bot and Human Characteristics', 'authors': ['Lynnette Hui Xian Ng', 'Kathleen M. Carley'], 'published': '2025-01-01', 'updated': '2025-01-01', 'primary_category': 'cs.CY', 'categories': ['cs.CY', 'cs.AI', 'cs.SI'], 'pdf_url': 'http://arxiv.org/pdf/2501.00855v1'}, text='Semantic Cues Emotion Cues Metadata Cues\\n(a) Differences in the use of psycholinguistic cues between bots and humans.\\nSemantic Cues Emotion Cues Metadata Cues\\n(b) Differences in the use of psycholinguistic cues between bots and humans for the combination of Captain\\nMarvel and Black Panther datasets. This compares the cue distribution with and without retweets.\\nFigure 3.Comparison of psycholinguistic overall cue usage (average cue usage per user) by bots and humans across datasets.\\nGreen cells show that humans use a larger number of the cue. Red cells show that bots use a larger number of the cue. *\\nindicates there is a significant difference in the usage of the cue between bots and humans.\\n7/33'),\n",
       " Document(metadata={'file_path': 'more_arxiv/2501.00855v1.What_is_a_Social_Media_Bot__A_Global_Comparison_of_Bot_and_Human_Characteristics.pdf', 'page_number': 8, 'total_pages': 33, 'entry_id': 'http://arxiv.org/abs/2501.00855v1', 'title': 'What is a Social Media Bot? A Global Comparison of Bot and Human Characteristics', 'authors': ['Lynnette Hui Xian Ng', 'Kathleen M. Carley'], 'published': '2025-01-01', 'updated': '2025-01-01', 'primary_category': 'cs.CY', 'categories': ['cs.CY', 'cs.AI', 'cs.SI'], 'pdf_url': 'http://arxiv.org/pdf/2501.00855v1'}, text='When a bot retweets a human, its linguistic profile, by definition, is identical to the human’s. The question though, is\\nwhether the bots that are sending original tweets match the linguistic profile of those retweeting, or is the linguistic profile\\ndifferent? For the Black Panther and Captain Marvel events (Figure 3b), we compared the psycholinguistic profile for all tweets,\\nand the original tweets only (i.e., no retweets). In these two events, bots retweet significantly more than humans. However, the\\nbot-human difference between linguistic cue use of the original tweets vs all tweets are rather similar. Only the average tweet\\nreading difficulty and the number of friends are different: in original tweets, humans have higher values; in all tweets, bots have\\nhigher values. Therefore, bots have their unique signature when generating new content, but are guaranteed to match human’s\\ncontent when retweeting the human’s.\\nBots construct tweets with cues that can be easily and heavily automated, while humans construct more personal tweets that\\nrequire higher cognitive processing to create. Such differences shows how bot accounts still use rather rudimentary techniques:\\nhashtag latching using multiple hashtags 27, 40, connecting several users together with increased number of mentions 54 and\\nflooding the zone with lots of tweets tweets of their desired narratives 24, 84. More sophisticated communication techniques\\nlike having an increased number of media, and more advanced interaction techniques that involve dialogue understanding like\\nincreasing the number of replies and quotes, are still left to the humans. In short, bots have not entirely mimicked humans, yet.\\nHow do bots present themselves differently from humans?\\nSocial identity theory depicts how social media users portray their image online, and the community that they want to be\\nassociated with85, 86. We analyze the difference in the self-presentation of the identities between bots and humans, and the\\ndifference between the linguistic cues used by the identities. Across the events, there are consistently a smaller proportion of\\nbots that present with an identity. Overall, 21.4% of bots present an identity, while 27.0% of humans present an identity (see\\nAppendix Table 10). Bots are more likely to obfuscate their identities87, allowing them to take on different personas to suit their\\noperation requirements88. Figure 4a presents the top 25 identities by frequency between bots and humans. There is a more\\nexponential drop of the frequency of the use of identities in bot users than in human users, suggesting that bots concentrate their\\nself-presentation on certain identities, mostly the common ones: man, son, fan, lover; while humans have a more varied identity\\npresentation.\\nWe then ask a follow-up question: “How do the same bot/human identities talk about the same topics?\" We compare the use\\nof topic frames per identity for the most frequent identity affiliations in Figure 4b. This plots the percentage difference of the\\nuse of framing cues (Family, Gender, Political, Race/Nationality, Religion) between bots and humans. This metric compares\\nthe use of cues with the human usage as a baseline. Overall, bots converse more aggressively in all topic frames. In particular,\\nbots converse most around societal fault lines: gender, political, race/nationality. These conversations lie on societal fault\\nlines, which could sow discord and chaos89, therefore such bots are of interest to monitor and moderate. In fact, bots use more\\ngender-based cues. Other research groups have also identified that a disproportionate number of bots that spread disinformation\\nare females90, 91, and are thus more likely to use gender frames in their posts. Bots tend to converse largely about political\\ntopics, regardless of the identity they affiliate with, indicating that a good proportion of bots are deployed for political purposes,\\neither by political parties or by political pundits 16, 26, 68. Finally, the difference between the usage of topic frames between\\nbots and humans could be due to their vocabulary used. The words used by humans are more varied and mostly not standard\\ndictionary words, while bots are still being programmed with a limited set of vocabulary, as evidenced by the proportion of\\nwords identified by the dictionaries in the NetMapper program used. In a similar aspect, chat bot interactions have a more\\nlimited vocabulary than human interactions92.\\nFigure 4c presents the average use of topic frames by identity categories. Humans affiliate themselves equally with all\\nidentity categories, while bots generally affiliate themselves with racial and political identities. Both bots and humans converse\\na lot on gender and political issues.\\nBots converse mostly about topics that closely match their identity. For example, a bot that presents itself as “man\" and\\n“son\" mostly converse about family then gender; while bots that take on the identities “conservative\" and “american\" converse\\nsignificantly more about politics. This observation can be read from the heatmap: for the bots that associate with the religion\\nidentity, the average use of religious words is 0.04, while that for humans is 0.00. If the users associate with the family identity,\\nthe average proportion of the use of family words within the content is 0.19 for bots and 0.04 for humans. Such is the curated\\npresentation and programming of bot users, which allows for an aspect of predictability - if a bot user affiliates with a certain\\nidentity, it is likely to talk about topics related to its identity. This shows that bots are likely designed to look like humans. They\\nare strategically designed to be in character by having the right affiliation to fit in and converse with a specific group.\\nOur observations in the affiliation of identities by bots in their user description and the use of identity-related topic frames\\nmeans that bots are being used strategically. They are not just used to support or dismiss groups in general, but are specifically\\nbeing aimed at a gender (i.e., women or men), or at a political actor (i.e., president, governor, politician). Bots are overused in\\nthe political, religious, and racial realm, suggesting that they are targeting topics of societal tensions.\\n8/33'),\n",
       " Document(metadata={'file_path': 'more_arxiv/2501.00855v1.What_is_a_Social_Media_Bot__A_Global_Comparison_of_Bot_and_Human_Characteristics.pdf', 'page_number': 9, 'total_pages': 33, 'entry_id': 'http://arxiv.org/abs/2501.00855v1', 'title': 'What is a Social Media Bot? A Global Comparison of Bot and Human Characteristics', 'authors': ['Lynnette Hui Xian Ng', 'Kathleen M. Carley'], 'published': '2025-01-01', 'updated': '2025-01-01', 'primary_category': 'cs.CY', 'categories': ['cs.CY', 'cs.AI', 'cs.SI'], 'pdf_url': 'http://arxiv.org/pdf/2501.00855v1'}, text='(a) Comparison of the use of the identity affiliations by\\nbots and humans. 21% of the users affiliate with an identity\\nin their user description.\\nFrame: Race/Nationality Frame: Religion\\nFrame: Family Frame: Gender Frame: Political\\n−9\\n−6\\n−3\\n0\\n−9\\n−6\\n−3\\n0\\n−9\\n−6\\n−3\\n0\\nally\\nartist\\nass\\nblack\\nfan\\nfriend\\ngirl\\ngod\\nlover\\nman\\nperson\\nrat\\nson\\nstar\\nstudent\\nwriter\\nally\\nartist\\nass\\nblack\\nfan\\nfriend\\ngirl\\ngod\\nlover\\nman\\nperson\\nrat\\nson\\nstar\\nstudent\\nwriter\\nally\\nartist\\nass\\nblack\\nfan\\nfriend\\ngirl\\ngod\\nlover\\nman\\nperson\\nrat\\nson\\nstar\\nstudent\\nwriter\\nally\\nartist\\nass\\nblack\\nfan\\nfriend\\ngirl\\ngod\\nlover\\nman\\nperson\\nrat\\nson\\nstar\\nstudent\\nwriter\\nally\\nartist\\nass\\nblack\\nfan\\nfriend\\ngirl\\ngod\\nlover\\nman\\nperson\\nrat\\nson\\nstar\\nstudent\\nwriter\\nPercentage Difference\\n(b) Percentage Difference (H−B)\\nH of the use of each topic frame in messages by\\nthe top frequent identity affiliations.\\n0.19 0.31 0.30 0.17 0.04\\n0.18 0.31 0.27 0.15 0.03\\n0.17 0.29 0.26 0.15 0.03\\n0.16 0.28 0.24 0.14 0.03\\n0.19 0.31 0.35 0.19 0.04\\n0.17 0.29 0.33 0.19 0.03\\n0.16 0.29 0.30 0.16 0.04\\n1.22 2.09 2.04 1.16 0.24\\n1.00\\n0.94\\n0.91\\n0.85\\n1.08\\n1.01\\n0.95\\n6.75\\nfamily\\ngender\\njob\\nother\\npolitical\\nrace_nationality\\nreligion\\ntotal\\navg_familyavg_gender avg_political\\navg_race_nationality\\navg_religion\\ntotal\\n0.00 0.10 0.20 0.30 0.40\\nBots\\n0.04 0.07 0.07 0.02 0.00\\n0.05 0.08 0.06 0.02 0.00\\n0.05 0.08 0.07 0.03 0.01\\n0.05 0.08 0.06 0.02 0.01\\n0.05 0.08 0.08 0.03 0.01\\n0.06 0.08 0.10 0.04 0.00\\n0.04 0.09 0.09 0.03 0.01\\n0.34 0.56 0.54 0.19 0.04\\n0.20\\n0.22\\n0.24\\n0.22\\n0.26\\n0.27\\n0.26\\n1.67\\nfamily\\ngender\\njob\\nother\\npolitical\\nrace_nationality\\nreligion\\ntotal\\navg_familyavg_gender avg_political\\navg_race_nationality\\navg_religion\\ntotal\\n0.00 0.10 0.20 0.30 0.40\\nHumans\\nT opic Frame\\nIdentity Category\\n(c) Average use of topic frames by identity category referred to. Bots are more likely to refer to gender and\\npolitical identities, and are more likely to utilize racially typed language.\\nFigure 4.Comparison of identity-related behaviors in bots and humans\\nHow do bots communicate differently from humans?\\nSocial interactions between users are an indication of the information dissemination patterns and the communication strategies of\\nthe users. We calculate the network metrics (total degree, in degree, out degree, density) of the all-communication ego-networks\\nof the users. In the network graphs, the users are nodes, and the links between users represent all communications between the\\ntwo users (i.e., replies, quotes, mentions, retweets). Table 5 compares the two metrics for bots and humans. Bot ego networks\\n9/33'),\n",
       " Document(metadata={'file_path': 'more_arxiv/2501.00855v1.What_is_a_Social_Media_Bot__A_Global_Comparison_of_Bot_and_Human_Characteristics.pdf', 'page_number': 10, 'total_pages': 33, 'entry_id': 'http://arxiv.org/abs/2501.00855v1', 'title': 'What is a Social Media Bot? A Global Comparison of Bot and Human Characteristics', 'authors': ['Lynnette Hui Xian Ng', 'Kathleen M. Carley'], 'published': '2025-01-01', 'updated': '2025-01-01', 'primary_category': 'cs.CY', 'categories': ['cs.CY', 'cs.AI', 'cs.SI'], 'pdf_url': 'http://arxiv.org/pdf/2501.00855v1'}, text='have higher density than ego networks (8.33% more dense), which reflects that the bots have tighter communication structures\\nand form more direct interactions than humans. On average, a bot has 9.66% bot alters and 90.34% human alters, whereas on\\naverage a human has 7.31% bot alters and 92.69% human alters. Although bots interact with a higher proportion of bot alters\\nthan humans do (32% more bot alters), our findings show that both bots and humans interact more with humans rather than bots\\nin their ego network. By the principle of homophily, it is natural for humans to interact with other humans93. However, bots\\nviolate the principle of homophily, and instead of interacting with more bots, they interact with more humans. Therefore, bots\\nare actively forming communication interactions with humans, perhaps attempting to influence humans94.\\nBot Humans\\nIn-degree 0.05 ± 0.08 0.02 ± 0.02\\nOut-degree 8E-4 ± 1.4E-3 1.6E-3 ± 3.3E-3\\nTotal degree 0.15 ± 0.09 0.16 ± 0.11\\nDensity 0.35 ± 0.06 0.034 ± 0.06\\n% bot alters 9.66 ± 2.98 7.31 ± 3.10\\nTable 5.Comparison of network metrics. For the in-degree, out-degree, total degree and density, we present the ratio of\\nmean(metric) for agent type : max(metric) across all agents in the event\\nFigure 5 shows the interaction of bots and humans in a network diagram. These users are illustrative of the most frequent\\ncommunicators in the Asian Elections dataset. In this diagram, users are represented as nodes, and links between users represent\\na communication (e.g. a retweet, reply, mention). The network diagrams presented are one- and two-degree ego-networks,\\ngenerated by the ORA software81. This means that the networks present users that are in direct communication with the user\\n(1-degree), and are in direct communication with the 1st-degree users (2-degree).\\nFigure 5.Ego network structures of Bots and Humans who are the most frequent communicators in the Asian Elections\\ndataset. Nodes represent social media users. Links between users represent a communication relationship between the two\\nusers (i.e., retweet, mention). Bot users are colored in red, human users in grey. The width of the links represent the extent of\\ninteractions between the two users. In these most frequent communicators, bots have a star network structure, and humans a\\ntree structure. Bot networks have more bot alters, while human networks have more human alters.\\nA common way for bots to be used in political discourse (e.g. elections) is to amplify other users. As an amplifier, bots are\\n10/33'),\n",
       " Document(metadata={'file_path': 'more_arxiv/2501.00855v1.What_is_a_Social_Media_Bot__A_Global_Comparison_of_Bot_and_Human_Characteristics.pdf', 'page_number': 11, 'total_pages': 33, 'entry_id': 'http://arxiv.org/abs/2501.00855v1', 'title': 'What is a Social Media Bot? A Global Comparison of Bot and Human Characteristics', 'authors': ['Lynnette Hui Xian Ng', 'Kathleen M. Carley'], 'published': '2025-01-01', 'updated': '2025-01-01', 'primary_category': 'cs.CY', 'categories': ['cs.CY', 'cs.AI', 'cs.SI'], 'pdf_url': 'http://arxiv.org/pdf/2501.00855v1'}, text='the pendants of the user they are amplifying. Therefore, bots appear in star networks in many of the peripheral nodes. A star\\nstructure is a network that have a strongly connected core and peripheral networks. This structure is most prominent in bots in\\npolitical discourse, where core bots create information, and peripheral bots amplify the information through the retweeting\\nmechanic24. Humans, on the other hand, are more likely to be part of a tree structure, where one can make out the tiered\\nfirst- and second-hop interactions. In the same discourse, humans are more likely to be performing many actions, sometimes\\nretweeting other users, sometimes tagging other users and so forth.\\nThis difference in interactions between bot and human users reveals the communication patterns of both user classes. The\\nstar structure of bots suggests that they have a hierarchy of interconnected bot users in an operation network to disseminate\\ninformation, which is easily achieved with the help of automation. On the other hand, humans communicate predominantly\\nwithin their immediate network before extending their communication outwards. The bot ego networks are more dense,\\nsignifying that they were constructed to interact more than do humans, and are sometimes constructed as networks of bots (the\\nbotnet)94, 95.\\nDiscussion\\nThrough our large scale empirical study, we show that bots and humans have interesting and consistent differences between\\nthem. These differences span from their volume, to the linguistic features of their text, to the identities they affiliate with, to\\ntheir social network structure. These features can be used to characterize a social media bot, and how it differs from humans.\\nWe study a huge amount of data dated from 2018 to 2021. These data show consistent differences over the years, which means\\nthat while bot technology do evolve, it does not evolve drastically. Moreover, the consistent differences show that there are\\nscenarios where bots can be better than humans, and scenarios where humans can be better than bots. These differences provide\\ninsights to how both can be utilized to afford conversations on social media: bots can be used for methodological postings with\\ndeliberate selection of hashtags, tweets per hour, and a structured star communication network. Humans can be used for more\\ncomplex cognitive tasks such as adding media to a post or replying to a post, and for conversing on a larger range of topics3.\\nStrengths of Social Media Bots\\nAn Artificial Intelligent (AI) system is a machine, or computer system, that can perceive its environment and use intelligence to\\nperform actions to achieve defined goals96. The social media bot perceives the digital environment to decide their targets (i.e.,\\nusers to retweet, users to mention), and intelligently carry out content and interaction mechanics to achieve their goals (i.e.,\\nspreading information28, 56, sowing discord97, 98, assisting the community45–47). The software-programmed social media bot is\\nan AI algorithm, and thus has potential to be harnessed for social good.\\nTable 6 lists some recommendations of our results on how bots can be leveraged on for social good, and how they can be\\nregulated. First, given that bots use more retweets and mentions than humans, and have high tweets per hour, bots can be used\\nfor menial tasks like announcements and distribution of information. Second, since bots have a star interaction network, they\\ncan be used for big announcements like disaster and crisis management without message distortion. A star network sends\\nmessages directly through interactions, hence the original message is preserved. However, the human’s hierarchal interaction\\nnetwork will distort the message as it passes through the tiers. Third, bots typically post content that matches their identity,\\nthey can be used to provide educational material about topics that people associate with certain profession. For example, a\\nweather news bot can provide weather information. Lastly, since bots use more abusive and expletive terms than humans,\\ninstead of regulating toxic language itself, regulation can be focused on disallowing bots to use such toxic language, which\\nwould therefore reduce the amount of hyperbole and offense online.\\nResult Recommendation\\nBots use a lot of retweets and mentions, and have\\nhigh tweets per hour\\nUse bots for menial tasks like announcements and amplification of\\nannouncements\\nBots have a star interaction network Use bots for big announcements (e.g., disaster, crisis management) with-\\nout message distortion\\nBot content matches identity Use bots to provide educational material about topics that people asso-\\nciate with certain professions (e.g. weather information from a weather\\nnews bot)\\nBots use more abusive and expletive terms than\\nhumans\\nFocus regulation to disallow bots to use toxic language\\nTable 6.Recommendations of our observations on leveraging and regulating bots for social good\\n11/33'),\n",
       " Document(metadata={'file_path': 'more_arxiv/2501.00855v1.What_is_a_Social_Media_Bot__A_Global_Comparison_of_Bot_and_Human_Characteristics.pdf', 'page_number': 12, 'total_pages': 33, 'entry_id': 'http://arxiv.org/abs/2501.00855v1', 'title': 'What is a Social Media Bot? A Global Comparison of Bot and Human Characteristics', 'authors': ['Lynnette Hui Xian Ng', 'Kathleen M. Carley'], 'published': '2025-01-01', 'updated': '2025-01-01', 'primary_category': 'cs.CY', 'categories': ['cs.CY', 'cs.AI', 'cs.SI'], 'pdf_url': 'http://arxiv.org/pdf/2501.00855v1'}, text='Challenges and Opportunities of studying Social Media Bots\\nNext, we elaborate on three challenges in the study of social media bot, and discuss some opportunities for future research.\\nDetect The first step to bot detection is to systematically detect these bots. However, these automated agents are constantly\\nevolving and adapting their behavior in response to the changing setup of social media platforms and user patterns. The\\nstricter data collection rules of social media platforms99, 100 and the increasing usage of AI in these bot agents73 creates further\\nvariability in these digital spaces bots reside in. This therefore muddles any developed algorithms based on previous datasets.\\nAlready, linguistic differences between bot and human tweets have narrowed between 2017 and 2020, making bot accounts\\nmore difficult to systematically differentiate19. More recently, AI-powered botnets have emerged, using ChatGPT models to\\ngenerate human-like content73, closing the gap between bot and human.\\nBot evolution and bot detection are thus a “never-ending clash\"101, and sometimes bot accounts evolve faster than current\\nknown bot detection algorithms68, presenting several opportunities in continual improvement of bot detection algorithms,\\nspecifically to be adaptable, faster, and more efficient. The increasing trends of using Large Language Models and Large Vision\\nModels to create generated texts and deepfakes lend bots a helping hand in the construction of more believable narratives.\\nThese same generative technology are also used to construct offensive bots for humor102. However, current trends reflect that\\nthe use of such technologies are not very prevalent, for example,73 only found one set of such botnet in their study, reflecting\\nthat bots are still relying on traditional techniques, likely because such heuristic-based techniques are easier and faster to deploy\\nen masse.\\nDifferentiate After identifying which users are likely to be bots, one must differentiate the goodness of the bot and its function.\\nThis evaluation can be inferred from the bot’s content postings and relationship interactions. However, bots do not fall squarely\\nin a spectrum of goodness; the lines of good and bad bots are blurred. In fact, bots can move between neutral in which they\\npost messages that are not harmful, to bad, where they post politically charged and extremist messages40, 103. Herein lies an\\nopportunity to construct a rubric to determine the goodness of the bot; this, though, is a complex task, for there are ethical and\\nsocietal issues to consider. Bots can change their goodness, too. They may be supporting a certain cause initially, then making\\na swing to a different stance soon enough. This swing of support was witnessed during the coronavirus pandemic era, and\\nespecially so when the bots require little conviction to change allegiances8. Another challenge involves identifying the type\\nof bot, which can provide insight towards possible impact of the bot. For example, an Amplifier Bot that intensifies political\\nmessages could be intended to sow discord24, 61.\\nDisrupt The third challenge is to mindfully disrupt the operations of bot users. That is, moderating the impact of malicious\\nbots, while not unsettling human conversations. While banning bot users can be an easy solution, a blanket ban can result in\\nmany false positives, which thus results in humans being identified as bots and being banned. Such situations can result in\\nemotional or psychological harm of the human being banned, or toxic online behavior where users repeatedly report another\\nuser that they personally dislike as a bot to silence them104. Additionally, social media bots do not necessarily work alone: they\\ncoordinate with other bots – sometimes even human agents – to push out their agenda80, and therefore if one agent warrants a\\nban, should the entire network be banned? To ban an entire network may entangle several unsuspecting humans who have been\\ninfluenced by the bots to partake in the conversation. With these considerations in mind, regulation is a scope of problem with\\nwhich to be studied: which types of bots should we ban? What are the activities of a bot that would warrant a ban?\\nMethods\\nExamining Bot Literature\\nWe examined recent bot literature for the definition of “social media bot\". For academic definitions, we searched the phrase\\n“social media bot\" on Google Scholar. For industry literature, we searched the phrase “social media bot\" on Google Search.\\nThen, we manually scanned through the results. We picked out the more relevant and highly cited papers that had a definition of\\na social media bot. We read through each paper, and manually extracted the definition of a social media bot stated in the paper.\\nNext, we looked through all the definitions and picked out key phrases. We then harmonized the phrases and definitions to\\ncreate a general definition of the bot. All authors agreed on the definitions and categorizations.\\nData Collection and Labeling\\nWe collected a dataset from Twitter/X involving global events which provides a richness in a general understanding of the bot\\nand human differentiation. The list of data collection parameters are detailed in Appendix Table 8.\\nWe labeled each user in this dataset as bot or human with the BotHunter algorithm. This algorithm uses a tiered random\\nforest classifier with increasing amounts of user data to evaluate the probability of the user being a bot. The algorithm returns\\na bot probability score that is between 0 and 1, where scores above 0.7 we deem as a bot, and scores below 0.7 we deem\\nas a human. This 0.7 threshold value is determined from a previous longitudinal study that sought to identify a stable bot\\n12/33'),\n",
       " Document(metadata={'file_path': 'more_arxiv/2501.00855v1.What_is_a_Social_Media_Bot__A_Global_Comparison_of_Bot_and_Human_Characteristics.pdf', 'page_number': 13, 'total_pages': 33, 'entry_id': 'http://arxiv.org/abs/2501.00855v1', 'title': 'What is a Social Media Bot? A Global Comparison of Bot and Human Characteristics', 'authors': ['Lynnette Hui Xian Ng', 'Kathleen M. Carley'], 'published': '2025-01-01', 'updated': '2025-01-01', 'primary_category': 'cs.CY', 'categories': ['cs.CY', 'cs.AI', 'cs.SI'], 'pdf_url': 'http://arxiv.org/pdf/2501.00855v1'}, text='score threshold that best represents the automation capacity of a user69. This bot algorithm and threshold is chosen so that our\\nstudies will be consistent with the original studies of the dataset that used the BotHunter algorithm9, 34, 77–80. We calculated the\\nproportion of bot users against the total number of users within each event. Our results are presented in a bar graph.\\nComparison by Psycholinguistic Cues We parse the collected dataset of tweets through the NetMapper software 81 to\\nextract out psycholinguistic cues of the texts. NetMapper extracts the number of each of the cues per tweet. The software\\nreturns three types of cues: semantic cues, emotion cues and metadata cues. The linguistic cues are returned by matching words\\nagainst a dictionary for each category. The dictionary has words in 40 languages. Then, for each user, we average the use of\\neach cue per category, as the trend for the user. We then perform a student t-test comparison between the cues of each user type\\nwith Bonferroni correction, and identify whether the cues are significantly different between the bot and human at the p < 0.05\\nlevel. We then remove the retweets from the Captain Marvel and Black Panther datasets and compare the cue distribution of\\noriginal tweets with all tweets. This analysis compares the differences in the distribution of cues of tweets originating from the\\nuser type and their retweets.\\nComparison by Self-Presentation of IdentityTo classify identities, we compare the user description and bio information\\nagainst a survey of occupations of United States users performed in 2015105. If the occupation is present in the user information,\\nthe user is tagged with the identity. A user can have more than one identity. We compare the top identities used by bots and\\nhuman users across all events. These identities are also divided up into seven categories: religion, race/nationality, political, job,\\ngender, family and others. We then classify each user into these categories of identities. Again, each user can fall into multiple\\ncategories.\\nNext, we examined how different identities frame their posts differently. We extract framing cues from the overall set of of\\npsycholinguistic cues generated. The topic frames we examined are: family, gender, political, race/nationality and religion. For\\neach most frequent identity affiliated with by bots and humans, we compare the difference in the average use of each topic\\nframe through a percentage difference calculation. The percentage difference in the use of framing cues is calculated as: (H−B)\\nH ,\\nwhere H is the average use of the framing cue by humans, and B is the average use of framing cue by bots. This comparison\\ntells us how much more bots use a framing cue as compared to humans. If the percentage is negative, bots use the framing cue\\nmore than humans. If the percentage is positive, bots use the cue less than humans.\\nThe set of topic frames also corresponds with the identity categories. Therefore, we also compared the identity categories\\nagainst the average use of each topic frame. This comparison is performed across bots and humans. We plot heatmaps to show\\nthe relationship between the average use of each topic frame topic frame against the identity categories.\\nComparison by Social Interactions We construct the all-communication ego-networks of the users in our dataset. We\\nanalyzed all the users for Asian Elections, Black Panther, Canadian Elections 2019, Captain Marvel and ReOpen America\\nevents. Due to the size of the data, we analyzed a 2% sample of users of the Coronavirus2020-2021 users (N = 4.6mil), and a\\n50% sample of users from the US Elections 2020 (N = 500k). The ego-networks are network graphs of the bot and human users\\nin focus. In the networks, each user is represented as a node, and a communication interaction between users are represented as\\nlinks. The ego-networks are constructed using all-communication interactions, that is any communication between users (i.e.,\\nretweet, @mentions, reply, quote) is reflected as a link. We analyzed the network properties of the ego-networks constructed\\nper event. These properties are: total-degree, in degree, out degree, density. We also analyzed the number of bot and human\\nalters there are in the ego networks. No pre-processing were performed on the networks prior to the calculations. We used the\\nORA software to load in the networks and perform the calculations81. We finally visualize the network graphs of one- and two-\\ndegree ego networks of a sample of bots and humans Figure 5. These are the 20 most frequent communicators in the Asian\\nElections sub-dataset A 1-degree network shows alters (connected users) that are in direct communication with the user, and a\\n2-degree network shows alters in direct communication with the 1st-degree alters.\\nConclusion\\nSocial media bots are deeply interweaved into our digital ecosystem. More than half of the Internet traffic in 2023 were\\ngenerated by these AI agents106. Bots are able to generate this volume of traffic because of their use of automation, which\\nenables them to create more content and form more relationships. This article surmised a definition of a social media bot\\nbased on the three elements that a social media platform contains: user, content, interactions. Our definition breaks down\\nthe automation on social media platforms into its core mechanics, and therefore provide the foundation for further research,\\nanalysis and policies regulating the digital space. We performed a large scale data analysis of bot and human characteristics\\nacross events around the globe, presenting the uniqueness of the bot species from a macro perspective: how bots and humans\\ndiffer in terms of the use of linguistic cues, social identity affiliations and social interactions. On a global scale, bots and\\nhumans do have consistent differences, which can be used to differentiate the two species of users. Table 7 summarizes the\\ndifferences between bots and humans as a conclusive remark. Finally, we provide recommendations for the use and regulation\\n13/33'),\n",
       " Document(metadata={'file_path': 'more_arxiv/2501.00855v1.What_is_a_Social_Media_Bot__A_Global_Comparison_of_Bot_and_Human_Characteristics.pdf', 'page_number': 14, 'total_pages': 33, 'entry_id': 'http://arxiv.org/abs/2501.00855v1', 'title': 'What is a Social Media Bot? A Global Comparison of Bot and Human Characteristics', 'authors': ['Lynnette Hui Xian Ng', 'Kathleen M. Carley'], 'published': '2025-01-01', 'updated': '2025-01-01', 'primary_category': 'cs.CY', 'categories': ['cs.CY', 'cs.AI', 'cs.SI'], 'pdf_url': 'http://arxiv.org/pdf/2501.00855v1'}, text='of bots. These recommendations are informed by our results. We also lay out the challenges and opportunities for the future of\\nbot detection in a “Detect, Differentiate, Disrupt\" frame. We invite academics, non-profits and policymakers to take part in this\\nactive research area.\\nBots Humans\\nVolume (%) 21.9 ± 9.8 78.1 ± 9.8\\nPsycholinguistic Cues Use more hashtags, mentions; has\\nmore tweets/hour, total tweets,\\nfriends:followers ratio\\nuses more media, favorites, replies,\\nquotes, urls\\nSelf-presentation of Identity Concentrate their affiliations on a\\nfew identities\\nHave a more varied identity affilia-\\ntions\\nHave identity affiliation (%) 21.4±5.7 27.0 ±9.2\\nTopic Frames Political topics Family and Gender\\nIdentity vs Topic Frames Converse about topics that closely\\nmatch their identity\\nHave a larger range of topics\\nSocial Interactions Star communication structure Tiered communication structure\\nDenser interaction networks Less dense interaction networks\\nInteract with more human than bot\\nalters\\nInteract with more human than bot\\nalters\\nTable 7.Summary of Differences between Bots and Humans.\\nReferences\\n1. Woolley, S. C. Automating power: Social bot interference in global politics. First Monday (2016).\\n2. Lotan, G. et al. The arab spring| the revolutions were tweeted: Information flows during the 2011 tunisian and egyptian\\nrevolutions. Int. journal communication 5, 31 (2011).\\n3. Ng, L. H. X., Robertson, D. C. & Carley, K. M. Cyborgs for strategic communication on social media. Big Data & Soc.\\n11, 20539517241231275 (2024).\\n4. Ng, L. H. X. & Carley, K. M. Assembling a multi-platform ensemble social bot detector with applications to us 2020\\nelections. Soc. Netw. Analysis Min. 14, 45 (2024).\\n5. Chang, H.-C. H., Chen, E., Zhang, M., Muric, G. & Ferrara, E. Social bots and social media manipulation in 2020: The\\nyear in review. In Handbook of Computational Social Science, Volume 1, 304–323 (Routledge, 2021).\\n6. Seckin, O. C., Atalay, A., Otenen, E., Duygu, U. & Varol, O. Mechanisms driving online vaccine debate during the\\ncovid-19 pandemic. Soc. Media+ Soc. 10, 20563051241229657 (2024).\\n7. Ferrara, E. What types of covid-19 conspiracies are populated by twitter bots? arXiv preprint arXiv:2004.09531 (2020).\\n8. Ng, L. H. X. & Carley, K. M. Pro or anti? a social influence model of online stance flipping. IEEE Transactions on Netw.\\nSci. Eng. 10, 3–19 (2022).\\n9. Magelinski, T., Ng, L. H. X. & Carley, K. M. A synchronized action framework for responsible detection of coordination\\non social media. arXiv preprint arXiv:2105.07454 (2021).\\n10. Broniatowski, D. A. et al. Weaponized health communication: Twitter bots and russian trolls amplify the vaccine debate.\\nAm. journal public health 108, 1378–1384 (2018).\\n11. Shao, C. et al. The spread of low-credibility content by social bots. Nat. communications 9, 1–9 (2018).\\n12. Ng, L. H. X., Cruickshank, I. J. & Carley, K. M. Cross-platform information spread during the january 6th capitol riots.\\nSoc. Netw. Analysis Min. 12, 133 (2022).\\n13. Ingram, M. Musk’s Twitter bid, and the ‘bot’ complication. https://www.cjr.org/the_media_today/\\nmusks-twitter-bid-and-the-bot-complication.php (2022). [Accessed 28-10-2024].\\n14. Childs, J. Elon Musk says X is fighting bots and spam, and the solution is: $1 subscriptions — latimes.com. https://\\nwww.latimes.com/business/story/2023-10-18/x-pilot-program-to-charge-1-a-year-in-effort-to-combat-bots-spam (2023).\\n[Accessed 28-10-2024].\\n14/33'),\n",
       " Document(metadata={'file_path': 'more_arxiv/2501.00855v1.What_is_a_Social_Media_Bot__A_Global_Comparison_of_Bot_and_Human_Characteristics.pdf', 'page_number': 15, 'total_pages': 33, 'entry_id': 'http://arxiv.org/abs/2501.00855v1', 'title': 'What is a Social Media Bot? A Global Comparison of Bot and Human Characteristics', 'authors': ['Lynnette Hui Xian Ng', 'Kathleen M. Carley'], 'published': '2025-01-01', 'updated': '2025-01-01', 'primary_category': 'cs.CY', 'categories': ['cs.CY', 'cs.AI', 'cs.SI'], 'pdf_url': 'http://arxiv.org/pdf/2501.00855v1'}, text='15. Ellaky, Z., Benabbou, F. & Ouahabi, S. Systematic literature review of social media bots detection systems. J. King Saud\\nUniv. Inf. Sci. 35, 101551 (2023).\\n16. Ng, L. H. X., Bartulovic, M. & Carley, K. M. Tiny-botbuster: Identifying automated political coordination in digital\\ncampaigns. In International Conference on Social Computing, Behavioral-Cultural Modeling and Prediction and\\nBehavior Representation in Modeling and Simulation, 25–34 (Springer, 2024).\\n17. Beskow, D. M. & Carley, K. M. Bot-hunter: a tiered approach to detecting & characterizing automated activity on twitter.\\nIn Conference paper. SBP-BRiMS: International conference on social computing, behavioral-cultural modeling and\\nprediction and behavior representation in modeling and simulation, vol. 3 (2018).\\n18. Sayyadiharikandeh, M., Varol, O., Yang, K.-C., Flammini, A. & Menczer, F. Detection of novel social bots by ensembles\\nof specialized classifiers. In Proceedings of the 29th ACM international conference on information & knowledge\\nmanagement, 2725–2732 (2020).\\n19. Ng, L. H. X. & Carley, K. M. Botbuster: Multi-platform bot detection using a mixture of experts. In Proceedings of the\\ninternational AAAI conference on web and social media, vol. 17, 686–697 (2023).\\n20. Orabi, M., Mouheb, D., Al Aghbari, Z. & Kamel, I. Detection of bots in social media: a systematic review. Inf. Process.\\n& Manag. 57, 102250 (2020).\\n21. Kolomeets, M., Chechulin, A. & Kotenko, I. V . Bot detection by friends graph in social networks.J. Wirel. Mob. Networks\\nUbiquitous Comput. Dependable Appl. 12, 141–159 (2021).\\n22. Li, S. et al. Botfinder: a novel framework for social bots detection in online social networks based on graph embedding\\nand community detection. World Wide Web26, 1793–1809 (2023).\\n23. Feng, S. et al. What does the bot say? opportunities and risks of large language models in social media bot detection.\\narXiv preprint arXiv:2402.00371 (2024).\\n24. Jacobs, C. S., Ng, L. H. X. & Carley, K. M. Tracking china’s cross-strait bot networks against taiwan. In International\\nconference on social computing, behavioral-cultural modeling and prediction and behavior representation in modeling\\nand simulation, 115–125 (Springer, 2023).\\n25. Uyheng, J. & Carley, K. M. Bot impacts on public sentiment and community structures: Comparative analysis of three\\nelections in the asia-pacific. In Social, Cultural, and Behavioral Modeling: 13th International Conference, SBP-BRiMS\\n2020, Washington, DC, USA, October 18–21, 2020, Proceedings 13, 12–22 (Springer, 2020).\\n26. Bessi, A. & Ferrara, E. Social bots distort the 2016 us presidential election online discussion. First monday 21 (2016).\\n27. Khaund, T., Al-Khateeb, S., Tokdemir, S. & Agarwal, N. Analyzing social bots and their coordination during natural\\ndisasters. In Social, Cultural, and Behavioral Modeling: 11th International Conference, SBP-BRiMS 2018, Washington,\\nDC, USA, July 10-13, 2018, Proceedings 11, 207–212 (Springer, 2018).\\n28. Ng, L. H. & Taeihagh, A. How does fake news spread? understanding pathways of disinformation spread through apis.\\nPolicy & Internet 13, 560–585 (2021).\\n29. Hajli, N., Saeed, U., Tajvidi, M. & Shirazi, F. Social bots and the spread of disinformation in social media: the challenges\\nof artificial intelligence. Br. J. Manag. 33, 1238–1253 (2022).\\n30. Kenny, R., Fischhoff, B., Davis, A., Carley, K. M. & Canfield, C. Duped by bots: why some are better than others at\\ndetecting fake social media personas. Hum. factors 66, 88–102 (2024).\\n31. Kolomeets, M., Tushkanova, O., Desnitsky, V ., Vitkova, L. & Chechulin, A. Experimental evaluation: Can humans\\nrecognise social media bots? Big Data Cogn. Comput. 8, 24 (2024).\\n32. Carley, K. M. Social cybersecurity: an emerging science. Comput. mathematical organization theory 26, 365–381 (2020).\\n33. Ferrara, E., Varol, O., Davis, C., Menczer, F. & Flammini, A. The rise of social bots. Commun. ACM 59, 96–104 (2016).\\n34. Uyheng, J., Ng, L. H. X. & Carley, K. M. Active, aggressive, but to little avail: characterizing bot activity during the 2020\\nsingaporean elections. Comput. Math. Organ. Theory 27, 324–342 (2021).\\n35. Himelein-Wachowiak, M. et al. Bots and misinformation spread on social media: Implications for covid-19. J. medical\\nInternet research 23, e26933 (2021).\\n36. Ng, L. H. X., Zhou, W. & Carley, K. M. Exploring cognitive bias triggers in covid-19 misinformation tweets: A bot vs.\\nhuman perspective. arXiv preprint arXiv:2406.07293 (2024).\\n37. Cloudflare. What is a social media bot? | social media bot definition. https://www.cloudflare.com/learning/bots/\\nwhat-is-a-social-media-bot/. [Accessed 28-10-2024].\\n15/33')]"
      ]
     },
     "execution_count": 17,
     "metadata": {},
     "output_type": "execute_result"
    }
   ],
   "source": [
    "docs_read[0:15]"
   ]
  },
  {
   "cell_type": "code",
   "execution_count": null,
   "metadata": {},
   "outputs": [],
   "source": []
  }
 ],
 "metadata": {
  "kernelspec": {
   "display_name": ".venv",
   "language": "python",
   "name": "python3"
  },
  "language_info": {
   "codemirror_mode": {
    "name": "ipython",
    "version": 3
   },
   "file_extension": ".py",
   "mimetype": "text/x-python",
   "name": "python",
   "nbconvert_exporter": "python",
   "pygments_lexer": "ipython3",
   "version": "3.12.8"
  }
 },
 "nbformat": 4,
 "nbformat_minor": 2
}
