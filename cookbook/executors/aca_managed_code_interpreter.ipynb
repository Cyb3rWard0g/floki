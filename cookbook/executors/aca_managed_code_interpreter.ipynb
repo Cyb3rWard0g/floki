{
 "cells": [
  {
   "cell_type": "markdown",
   "metadata": {},
   "source": [
    "# Executor: Serverless Code Execution with Azure Container Apps and Managed Code interpreter Sessions "
   ]
  },
  {
   "cell_type": "markdown",
   "metadata": {},
   "source": [
    "This notebook demonstrates how to:\n",
    "\n",
    "- Initialize an **Azure Container Apps Session Pool** for our fully managed code interpreter sessions.\n",
    "- Ensure the session pool exists (or create it if needed).\n",
    "- Use the session pool to execute **Python code** in an **isolated, secure environment**.\n",
    "- Handle authentication and role assignments automatically.\n",
    "\n",
    "### **Key Features**\n",
    "- Fully **serverless** Python execution environment.  \n",
    "- Supports **synchronouss** code execution (for now)."
   ]
  },
  {
   "cell_type": "markdown",
   "metadata": {},
   "source": [
    "## Install Required Libraries\n",
    "Before starting, ensure the required libraries are installed:"
   ]
  },
  {
   "cell_type": "code",
   "execution_count": null,
   "metadata": {},
   "outputs": [],
   "source": [
    "!pip install floki-ai python-dotenv azure-identity azure-mgmt-resource azure-mgmt-authorization nest_asyncio"
   ]
  },
  {
   "cell_type": "markdown",
   "metadata": {},
   "source": [
    "## Load Environment Variables\n",
    "\n",
    "We use `dotenv` to load configuration values from a `.env` file.  \n",
    "Ensure your `.env` file contains: `AZURE_SUBSCRIPTION_ID=your_subscription_id`"
   ]
  },
  {
   "cell_type": "code",
   "execution_count": 1,
   "metadata": {},
   "outputs": [],
   "source": [
    "from dotenv import load_dotenv\n",
    "import os\n",
    "\n",
    "load_dotenv()\n",
    "\n",
    "AZURE_SUBSCRIPTION_ID = os.getenv(\"AZURE_SUBSCRIPTION_ID\")\n",
    "assert AZURE_SUBSCRIPTION_ID, \"AZURE_SUBSCRIPTION_ID is not set in environment variables\""
   ]
  },
  {
   "cell_type": "markdown",
   "metadata": {},
   "source": [
    "## Initialize Logging"
   ]
  },
  {
   "cell_type": "code",
   "execution_count": 2,
   "metadata": {},
   "outputs": [],
   "source": [
    "import logging\n",
    "\n",
    "logging.basicConfig(level=logging.INFO)\n",
    "logging.getLogger(\"azure\").setLevel(logging.WARNING)"
   ]
  },
  {
   "cell_type": "markdown",
   "metadata": {},
   "source": [
    "## Initialize Azure Container Apps Session Pool\n",
    "\n",
    "We will now create (or retrieve) an **Azure Container Apps Session Pool**."
   ]
  },
  {
   "cell_type": "code",
   "execution_count": 3,
   "metadata": {},
   "outputs": [
    {
     "name": "stderr",
     "output_type": "stream",
     "text": [
      "INFO:floki.executors.acasessionpools:Current registration state of 'Microsoft.App': registered\n",
      "INFO:floki.executors.acasessionpools:Checking if resource group 'floki-sessionpool' exists...\n",
      "INFO:floki.executors.acasessionpools:Resource group 'floki-sessionpool' already exists.\n",
      "INFO:floki.executors.acasessionpools:Checking session pool 'floki-session-pool' in resource group 'floki-sessionpool'...\n",
      "INFO:floki.executors.acasessionpools:Session pool 'floki-session-pool' already exists.\n",
      "INFO:floki.executors.acasessionpools:Checking if user Roberto Rodriguez already has the required role...\n",
      "INFO:floki.executors.acasessionpools:User Roberto Rodriguez already has the required role.\n"
     ]
    }
   ],
   "source": [
    "from floki.executors import AzContainerAppsSessionPools\n",
    "\n",
    "# Initialize session manager\n",
    "session_manager = AzContainerAppsSessionPools(\n",
    "    subscription_id=AZURE_SUBSCRIPTION_ID,\n",
    "    resource_group=\"floki-sessionpool\",\n",
    "    session_pool_name=\"floki-session-pool\",\n",
    "    location=\"westus2\"\n",
    ")\n",
    "\n",
    "# Retrieve or create the session pool\n",
    "session_pool = session_manager.get_or_create_session_pool()"
   ]
  },
  {
   "cell_type": "markdown",
   "metadata": {},
   "source": [
    "## Execute Code Using the Session Pool\n",
    "\n",
    "Now that we have a session pool, we can execute Python code within it."
   ]
  },
  {
   "cell_type": "code",
   "execution_count": null,
   "metadata": {},
   "outputs": [
    {
     "name": "stderr",
     "output_type": "stream",
     "text": [
      "INFO:floki.executors.acacontainerapps:Using DefaultAzureCredential for authentication.\n",
      "INFO:floki.executors.acacontainerapps:Using API version: 2024-10-02-preview\n"
     ]
    }
   ],
   "source": [
    "from floki.executors import AzContainerAppsCodeExecutor\n",
    "\n",
    "# Retrieve the session pool management endpoint\n",
    "pool_management_endpoint = session_pool.pool_management_endpoint\n",
    "\n",
    "# Initialize the Azure Container Code Executor\n",
    "az_container_code_executor = AzContainerAppsCodeExecutor(\n",
    "    pool_management_endpoint=pool_management_endpoint,\n",
    "    api_version=\"2024-10-02-preview\"\n",
    ")"
   ]
  },
  {
   "cell_type": "markdown",
   "metadata": {},
   "source": [
    "Let's define a simple Python snippet and execute it in the cloud."
   ]
  },
  {
   "cell_type": "code",
   "execution_count": 5,
   "metadata": {},
   "outputs": [
    {
     "data": {
      "text/plain": [
       "[ExecutionResult(status='success', output='Hello from Azure Container Apps', exit_code=0)]"
      ]
     },
     "execution_count": 5,
     "metadata": {},
     "output_type": "execute_result"
    }
   ],
   "source": [
    "from floki.types.executor import ExecutionRequest, CodeSnippet\n",
    "import nest_asyncio\n",
    "nest_asyncio.apply()\n",
    "\n",
    "# Define a simple Python code snippet\n",
    "execution_request = ExecutionRequest(\n",
    "    snippets=[CodeSnippet(language=\"python\", code=\"print('Hello from Azure Container Apps')\")]\n",
    ")\n",
    "\n",
    "# Execute the code asynchronously\n",
    "await az_container_code_executor.execute(execution_request)"
   ]
  },
  {
   "cell_type": "code",
   "execution_count": null,
   "metadata": {},
   "outputs": [],
   "source": []
  }
 ],
 "metadata": {
  "kernelspec": {
   "display_name": ".venv",
   "language": "python",
   "name": "python3"
  },
  "language_info": {
   "codemirror_mode": {
    "name": "ipython",
    "version": 3
   },
   "file_extension": ".py",
   "mimetype": "text/x-python",
   "name": "python",
   "nbconvert_exporter": "python",
   "pygments_lexer": "ipython3",
   "version": "3.12.8"
  }
 },
 "nbformat": 4,
 "nbformat_minor": 2
}
