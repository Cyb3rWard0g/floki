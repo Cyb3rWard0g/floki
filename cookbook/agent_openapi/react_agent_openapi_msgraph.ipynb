{
 "cells": [
  {
   "cell_type": "markdown",
   "metadata": {},
   "source": [
    "# ReAct OpenAPI MS Graph Agent"
   ]
  },
  {
   "cell_type": "markdown",
   "metadata": {},
   "source": [
    "## Import Environment Variables"
   ]
  },
  {
   "cell_type": "code",
   "execution_count": 1,
   "metadata": {},
   "outputs": [],
   "source": [
    "from floki import OpenAPIReActAgent\n",
    "from floki.tool.utils import OpenAPISpecParser\n",
    "from dotenv import load_dotenv\n",
    "import logging"
   ]
  },
  {
   "cell_type": "markdown",
   "metadata": {},
   "source": [
    "## Enable Logging"
   ]
  },
  {
   "cell_type": "code",
   "execution_count": 2,
   "metadata": {},
   "outputs": [],
   "source": [
    "logging.basicConfig(level=logging.INFO)"
   ]
  },
  {
   "cell_type": "markdown",
   "metadata": {},
   "source": [
    "## Load Environment Variables"
   ]
  },
  {
   "cell_type": "code",
   "execution_count": 3,
   "metadata": {},
   "outputs": [
    {
     "data": {
      "text/plain": [
       "True"
      ]
     },
     "execution_count": 3,
     "metadata": {},
     "output_type": "execute_result"
    }
   ],
   "source": [
    "load_dotenv()  # take environment variables from .env."
   ]
  },
  {
   "cell_type": "markdown",
   "metadata": {},
   "source": [
    "## Define MS Graph HTTP Header with Access Token"
   ]
  },
  {
   "cell_type": "code",
   "execution_count": 4,
   "metadata": {},
   "outputs": [],
   "source": [
    "import requests\n",
    "import os\n",
    "\n",
    "def construct_auth_headers():\n",
    "    CLIENT_ID = os.getenv(\"AAD_APP_ID\")\n",
    "    CLIENT_SECRET = os.getenv(\"AAD_APP_CLIENT_SECRET\")\n",
    "    TENANT_ID = os.getenv(\"TENANT_ID\")\n",
    "\n",
    "    AUTH_URL = f\"https://login.microsoftonline.com/{TENANT_ID}/oauth2/v2.0/token\"\n",
    "\n",
    "    # POST\n",
    "    auth_response = requests.post(AUTH_URL, {\n",
    "        'grant_type': 'client_credentials',\n",
    "        'client_id': CLIENT_ID,\n",
    "        'client_secret': CLIENT_SECRET,\n",
    "        'scope': 'https://graph.microsoft.com/.default'\n",
    "    })\n",
    "\n",
    "    # convert the response to JSON\n",
    "    auth_response_data = auth_response.json()\n",
    "\n",
    "    # save the access token\n",
    "    access_token = auth_response_data['access_token']\n",
    "\n",
    "    return {\"Authorization\": f\"Bearer {access_token}\"}\n",
    "\n",
    "\n",
    "# Get API credentials.\n",
    "headers = construct_auth_headers()"
   ]
  },
  {
   "cell_type": "markdown",
   "metadata": {},
   "source": [
    "## Process MS Graph Users OpenAPI Spec Remotely"
   ]
  },
  {
   "cell_type": "code",
   "execution_count": 5,
   "metadata": {},
   "outputs": [],
   "source": [
    "openapi_spec_url = \"https://raw.githubusercontent.com/microsoftgraph/msgraph-sdk-powershell/dev/openApiDocs/v1.0/Users.yml\"\n",
    "spec_parser = OpenAPISpecParser.from_url(openapi_spec_url)"
   ]
  },
  {
   "cell_type": "code",
   "execution_count": 6,
   "metadata": {},
   "outputs": [
    {
     "data": {
      "text/plain": [
       "('GET /users',\n",
       " 'List properties and relationships of the user objects.',\n",
       " {'tags': ['users.user'],\n",
       "  'summary': 'List users',\n",
       "  'description': 'List properties and relationships of the user objects.',\n",
       "  'externalDocs': {'description': 'Find more info here',\n",
       "   'url': 'https://learn.microsoft.com/graph/api/intune-mam-user-list?view=graph-rest-1.0'},\n",
       "  'operationId': 'user_ListUser',\n",
       "  'parameters': [{'description': 'Indicates the requested consistency level. Documentation URL: https://docs.microsoft.com/graph/aad-advanced-queries',\n",
       "    'required': False,\n",
       "    'deprecated': False,\n",
       "    'style': 'simple',\n",
       "    'explode': False,\n",
       "    'param_schema': {'title': None,\n",
       "     'multipleOf': None,\n",
       "     'maximum': None,\n",
       "     'exclusiveMaximum': None,\n",
       "     'minimum': None,\n",
       "     'exclusiveMinimum': None,\n",
       "     'maxLength': None,\n",
       "     'minLength': None,\n",
       "     'pattern': None,\n",
       "     'maxItems': None,\n",
       "     'minItems': None,\n",
       "     'uniqueItems': None,\n",
       "     'maxProperties': None,\n",
       "     'minProperties': None,\n",
       "     'required': None,\n",
       "     'enum': None,\n",
       "     'type': <DataType.STRING: 'string'>,\n",
       "     'allOf': None,\n",
       "     'oneOf': None,\n",
       "     'anyOf': None,\n",
       "     'schema_not': None,\n",
       "     'items': None,\n",
       "     'properties': None,\n",
       "     'additionalProperties': None,\n",
       "     'description': None,\n",
       "     'schema_format': None,\n",
       "     'default': None,\n",
       "     'nullable': None,\n",
       "     'discriminator': None,\n",
       "     'readOnly': None,\n",
       "     'writeOnly': None,\n",
       "     'xml': None,\n",
       "     'externalDocs': None,\n",
       "     'example': None,\n",
       "     'deprecated': None},\n",
       "    'example': None,\n",
       "    'examples': {'example-1': {'summary': None,\n",
       "      'description': \"$search and $count queries require the client to set the ConsistencyLevel HTTP header to 'eventual'.\",\n",
       "      'value': 'eventual',\n",
       "      'externalValue': None}},\n",
       "    'content': None,\n",
       "    'name': 'ConsistencyLevel',\n",
       "    'param_in': <ParameterLocation.HEADER: 'header'>,\n",
       "    'allowEmptyValue': False,\n",
       "    'allowReserved': False},\n",
       "   {'ref': '#/components/parameters/top'},\n",
       "   {'ref': '#/components/parameters/search'},\n",
       "   {'ref': '#/components/parameters/filter'},\n",
       "   {'ref': '#/components/parameters/count'},\n",
       "   {'description': 'Order items by property values',\n",
       "    'required': False,\n",
       "    'deprecated': False,\n",
       "    'style': 'form',\n",
       "    'explode': False,\n",
       "    'param_schema': {'title': None,\n",
       "     'multipleOf': None,\n",
       "     'maximum': None,\n",
       "     'exclusiveMaximum': None,\n",
       "     'minimum': None,\n",
       "     'exclusiveMinimum': None,\n",
       "     'maxLength': None,\n",
       "     'minLength': None,\n",
       "     'pattern': None,\n",
       "     'maxItems': None,\n",
       "     'minItems': None,\n",
       "     'uniqueItems': True,\n",
       "     'maxProperties': None,\n",
       "     'minProperties': None,\n",
       "     'required': None,\n",
       "     'enum': None,\n",
       "     'type': <DataType.ARRAY: 'array'>,\n",
       "     'allOf': None,\n",
       "     'oneOf': None,\n",
       "     'anyOf': None,\n",
       "     'schema_not': None,\n",
       "     'items': {'title': None,\n",
       "      'multipleOf': None,\n",
       "      'maximum': None,\n",
       "      'exclusiveMaximum': None,\n",
       "      'minimum': None,\n",
       "      'exclusiveMinimum': None,\n",
       "      'maxLength': None,\n",
       "      'minLength': None,\n",
       "      'pattern': None,\n",
       "      'maxItems': None,\n",
       "      'minItems': None,\n",
       "      'uniqueItems': None,\n",
       "      'maxProperties': None,\n",
       "      'minProperties': None,\n",
       "      'required': None,\n",
       "      'enum': None,\n",
       "      'type': <DataType.STRING: 'string'>,\n",
       "      'allOf': None,\n",
       "      'oneOf': None,\n",
       "      'anyOf': None,\n",
       "      'schema_not': None,\n",
       "      'items': None,\n",
       "      'properties': None,\n",
       "      'additionalProperties': None,\n",
       "      'description': None,\n",
       "      'schema_format': None,\n",
       "      'default': None,\n",
       "      'nullable': None,\n",
       "      'discriminator': None,\n",
       "      'readOnly': None,\n",
       "      'writeOnly': None,\n",
       "      'xml': None,\n",
       "      'externalDocs': None,\n",
       "      'example': None,\n",
       "      'deprecated': None},\n",
       "     'properties': None,\n",
       "     'additionalProperties': None,\n",
       "     'description': None,\n",
       "     'schema_format': None,\n",
       "     'default': None,\n",
       "     'nullable': None,\n",
       "     'discriminator': None,\n",
       "     'readOnly': None,\n",
       "     'writeOnly': None,\n",
       "     'xml': None,\n",
       "     'externalDocs': None,\n",
       "     'example': None,\n",
       "     'deprecated': None},\n",
       "    'example': None,\n",
       "    'examples': None,\n",
       "    'content': None,\n",
       "    'name': '$orderby',\n",
       "    'param_in': <ParameterLocation.QUERY: 'query'>,\n",
       "    'allowEmptyValue': False,\n",
       "    'allowReserved': False},\n",
       "   {'description': 'Select properties to be returned',\n",
       "    'required': False,\n",
       "    'deprecated': False,\n",
       "    'style': 'form',\n",
       "    'explode': False,\n",
       "    'param_schema': {'title': None,\n",
       "     'multipleOf': None,\n",
       "     'maximum': None,\n",
       "     'exclusiveMaximum': None,\n",
       "     'minimum': None,\n",
       "     'exclusiveMinimum': None,\n",
       "     'maxLength': None,\n",
       "     'minLength': None,\n",
       "     'pattern': None,\n",
       "     'maxItems': None,\n",
       "     'minItems': None,\n",
       "     'uniqueItems': True,\n",
       "     'maxProperties': None,\n",
       "     'minProperties': None,\n",
       "     'required': None,\n",
       "     'enum': None,\n",
       "     'type': <DataType.ARRAY: 'array'>,\n",
       "     'allOf': None,\n",
       "     'oneOf': None,\n",
       "     'anyOf': None,\n",
       "     'schema_not': None,\n",
       "     'items': {'title': None,\n",
       "      'multipleOf': None,\n",
       "      'maximum': None,\n",
       "      'exclusiveMaximum': None,\n",
       "      'minimum': None,\n",
       "      'exclusiveMinimum': None,\n",
       "      'maxLength': None,\n",
       "      'minLength': None,\n",
       "      'pattern': None,\n",
       "      'maxItems': None,\n",
       "      'minItems': None,\n",
       "      'uniqueItems': None,\n",
       "      'maxProperties': None,\n",
       "      'minProperties': None,\n",
       "      'required': None,\n",
       "      'enum': None,\n",
       "      'type': <DataType.STRING: 'string'>,\n",
       "      'allOf': None,\n",
       "      'oneOf': None,\n",
       "      'anyOf': None,\n",
       "      'schema_not': None,\n",
       "      'items': None,\n",
       "      'properties': None,\n",
       "      'additionalProperties': None,\n",
       "      'description': None,\n",
       "      'schema_format': None,\n",
       "      'default': None,\n",
       "      'nullable': None,\n",
       "      'discriminator': None,\n",
       "      'readOnly': None,\n",
       "      'writeOnly': None,\n",
       "      'xml': None,\n",
       "      'externalDocs': None,\n",
       "      'example': None,\n",
       "      'deprecated': None},\n",
       "     'properties': None,\n",
       "     'additionalProperties': None,\n",
       "     'description': None,\n",
       "     'schema_format': None,\n",
       "     'default': None,\n",
       "     'nullable': None,\n",
       "     'discriminator': None,\n",
       "     'readOnly': None,\n",
       "     'writeOnly': None,\n",
       "     'xml': None,\n",
       "     'externalDocs': None,\n",
       "     'example': None,\n",
       "     'deprecated': None},\n",
       "    'example': None,\n",
       "    'examples': None,\n",
       "    'content': None,\n",
       "    'name': '$select',\n",
       "    'param_in': <ParameterLocation.QUERY: 'query'>,\n",
       "    'allowEmptyValue': False,\n",
       "    'allowReserved': False},\n",
       "   {'description': 'Expand related entities',\n",
       "    'required': False,\n",
       "    'deprecated': False,\n",
       "    'style': 'form',\n",
       "    'explode': False,\n",
       "    'param_schema': {'title': None,\n",
       "     'multipleOf': None,\n",
       "     'maximum': None,\n",
       "     'exclusiveMaximum': None,\n",
       "     'minimum': None,\n",
       "     'exclusiveMinimum': None,\n",
       "     'maxLength': None,\n",
       "     'minLength': None,\n",
       "     'pattern': None,\n",
       "     'maxItems': None,\n",
       "     'minItems': None,\n",
       "     'uniqueItems': True,\n",
       "     'maxProperties': None,\n",
       "     'minProperties': None,\n",
       "     'required': None,\n",
       "     'enum': None,\n",
       "     'type': <DataType.ARRAY: 'array'>,\n",
       "     'allOf': None,\n",
       "     'oneOf': None,\n",
       "     'anyOf': None,\n",
       "     'schema_not': None,\n",
       "     'items': {'title': None,\n",
       "      'multipleOf': None,\n",
       "      'maximum': None,\n",
       "      'exclusiveMaximum': None,\n",
       "      'minimum': None,\n",
       "      'exclusiveMinimum': None,\n",
       "      'maxLength': None,\n",
       "      'minLength': None,\n",
       "      'pattern': None,\n",
       "      'maxItems': None,\n",
       "      'minItems': None,\n",
       "      'uniqueItems': None,\n",
       "      'maxProperties': None,\n",
       "      'minProperties': None,\n",
       "      'required': None,\n",
       "      'enum': None,\n",
       "      'type': <DataType.STRING: 'string'>,\n",
       "      'allOf': None,\n",
       "      'oneOf': None,\n",
       "      'anyOf': None,\n",
       "      'schema_not': None,\n",
       "      'items': None,\n",
       "      'properties': None,\n",
       "      'additionalProperties': None,\n",
       "      'description': None,\n",
       "      'schema_format': None,\n",
       "      'default': None,\n",
       "      'nullable': None,\n",
       "      'discriminator': None,\n",
       "      'readOnly': None,\n",
       "      'writeOnly': None,\n",
       "      'xml': None,\n",
       "      'externalDocs': None,\n",
       "      'example': None,\n",
       "      'deprecated': None},\n",
       "     'properties': None,\n",
       "     'additionalProperties': None,\n",
       "     'description': None,\n",
       "     'schema_format': None,\n",
       "     'default': None,\n",
       "     'nullable': None,\n",
       "     'discriminator': None,\n",
       "     'readOnly': None,\n",
       "     'writeOnly': None,\n",
       "     'xml': None,\n",
       "     'externalDocs': None,\n",
       "     'example': None,\n",
       "     'deprecated': None},\n",
       "    'example': None,\n",
       "    'examples': None,\n",
       "    'content': None,\n",
       "    'name': '$expand',\n",
       "    'param_in': <ParameterLocation.QUERY: 'query'>,\n",
       "    'allowEmptyValue': False,\n",
       "    'allowReserved': False}],\n",
       "  'requestBody': None,\n",
       "  'responses': {'2XX': {'ref': '#/components/responses/microsoft.graph.userCollectionResponse'},\n",
       "   'default': {'ref': '#/components/responses/error'}},\n",
       "  'callbacks': None,\n",
       "  'deprecated': False,\n",
       "  'security': None,\n",
       "  'servers': None,\n",
       "  'x-ms-pageable': {'nextLinkName': '@odata.nextLink',\n",
       "   'operationName': 'listMore'},\n",
       "  'x-ms-docs-operation-type': 'operation'})"
      ]
     },
     "execution_count": 6,
     "metadata": {},
     "output_type": "execute_result"
    }
   ],
   "source": [
    "spec_parser.endpoints[0]"
   ]
  },
  {
   "cell_type": "code",
   "execution_count": 7,
   "metadata": {},
   "outputs": [
    {
     "data": {
      "text/plain": [
       "236"
      ]
     },
     "execution_count": 7,
     "metadata": {},
     "output_type": "execute_result"
    }
   ],
   "source": [
    "len(spec_parser.endpoints)"
   ]
  },
  {
   "cell_type": "markdown",
   "metadata": {},
   "source": [
    "## (Optional) OpenAPI Specification to OpenAI Function Call"
   ]
  },
  {
   "cell_type": "code",
   "execution_count": 8,
   "metadata": {},
   "outputs": [],
   "source": [
    "from floki.tool.utils.openapi import openapi_spec_to_openai_fn\n",
    "\n",
    "functions = openapi_spec_to_openai_fn(spec_parser)"
   ]
  },
  {
   "cell_type": "code",
   "execution_count": 9,
   "metadata": {},
   "outputs": [
    {
     "data": {
      "text/plain": [
       "{'definition': {'type': 'function',\n",
       "  'function': {'name': 'user_ListUser',\n",
       "   'description': 'List properties and relationships of the user objects.',\n",
       "   'parameters': {'type': 'object',\n",
       "    'properties': {'params': {'type': 'object',\n",
       "      'properties': {'$top': {'minimum': 0.0,\n",
       "        'type': 'integer',\n",
       "        'description': 'Show only the first n items'},\n",
       "       '$search': {'type': 'string',\n",
       "        'description': 'Search items by search phrases'},\n",
       "       '$filter': {'type': 'string',\n",
       "        'description': 'Filter items by property values'},\n",
       "       '$count': {'type': 'boolean', 'description': 'Include count of items'},\n",
       "       '$orderby': {'uniqueItems': True,\n",
       "        'type': 'array',\n",
       "        'items': {'type': 'string'},\n",
       "        'description': 'Order items by property values'},\n",
       "       '$select': {'uniqueItems': True,\n",
       "        'type': 'array',\n",
       "        'items': {'type': 'string'},\n",
       "        'description': 'Select properties to be returned'},\n",
       "       '$expand': {'uniqueItems': True,\n",
       "        'type': 'array',\n",
       "        'items': {'type': 'string'},\n",
       "        'description': 'Expand related entities'}},\n",
       "      'required': []},\n",
       "     'headers': {'type': 'object',\n",
       "      'properties': {'ConsistencyLevel': {'type': 'string',\n",
       "        'description': 'Indicates the requested consistency level. Documentation URL: https://docs.microsoft.com/graph/aad-advanced-queries'}},\n",
       "      'required': []}}}}},\n",
       " 'metadata': {'method': 'get',\n",
       "  'url': 'https://graph.microsoft.com/v1.0//users'}}"
      ]
     },
     "execution_count": 9,
     "metadata": {},
     "output_type": "execute_result"
    }
   ],
   "source": [
    "functions[0]"
   ]
  },
  {
   "cell_type": "markdown",
   "metadata": {},
   "source": [
    "## Define OpenAPI ReAct Agent"
   ]
  },
  {
   "cell_type": "code",
   "execution_count": 10,
   "metadata": {},
   "outputs": [
    {
     "name": "stderr",
     "output_type": "stream",
     "text": [
      "INFO:floki.llm.openai.chat:Initializing OpenAI client...\n",
      "INFO:sentence_transformers.SentenceTransformer:Load pretrained SentenceTransformer: all-MiniLM-L6-v2\n",
      "/Users/wardog/Documents/GitHub/floki/.venv/lib/python3.12/site-packages/huggingface_hub/file_download.py:1132: FutureWarning: `resume_download` is deprecated and will be removed in version 1.0.0. Downloads always resume when possible. If you want to force a new download, use `force_download=True`.\n",
      "  warnings.warn(\n",
      "INFO:chromadb.telemetry.product.posthog:Anonymized telemetry enabled. See                     https://docs.trychroma.com/telemetry for more information.\n",
      "INFO:floki.agent.patterns.openapi.react:Setting up VectorToolStore for OpenAPIReActAgent...\n",
      "INFO:floki.tool.storage.vectorstore:Adding tools to Vector Tool Store.\n"
     ]
    },
    {
     "data": {
      "application/vnd.jupyter.widget-view+json": {
       "model_id": "cb8dae1568c642ecbe126a60a0a87c68",
       "version_major": 2,
       "version_minor": 0
      },
      "text/plain": [
       "Batches:   0%|          | 0/8 [00:00<?, ?it/s]"
      ]
     },
     "metadata": {},
     "output_type": "display_data"
    },
    {
     "name": "stderr",
     "output_type": "stream",
     "text": [
      "INFO:floki.tool.executor:Tool registered: GetOpenapiDefinition\n",
      "INFO:floki.tool.executor:Tool registered: OpenApiCallExecutor\n",
      "INFO:floki.tool.executor:Tool registered: FinalAnswer\n",
      "INFO:floki.tool.executor:Tool Executor initialized with registered tools.\n",
      "INFO:floki.agent.base:Constructing system_prompt from agent attributes.\n",
      "INFO:floki.agent.base:Using system_prompt to create the prompt template.\n",
      "INFO:floki.agent.base:Pre-filled prompt template with attributes: ['role', 'goal', 'instructions']\n"
     ]
    }
   ],
   "source": [
    "AIAgent = OpenAPIReActAgent(\n",
    "    role = \"MS Graph API Assistant\",\n",
    "    spec_parser=spec_parser,\n",
    "    auth_header=headers\n",
    ")"
   ]
  },
  {
   "cell_type": "markdown",
   "metadata": {},
   "source": [
    "## Inspect Tools Registered in Agent"
   ]
  },
  {
   "cell_type": "code",
   "execution_count": 11,
   "metadata": {},
   "outputs": [
    {
     "data": {
      "text/html": [
       "<pre style=\"white-space:pre;overflow-x:auto;line-height:normal;font-family:Menlo,'DejaVu Sans Mono',consolas,'Courier New',monospace\"><span style=\"font-style: italic\">                                                  Available Tools                                                  </span>\n",
       "┏━━━━━━━━━━━━━━━━━━━━━━┳━━━━━━━━━━━━━━━━━━━━━━━━━━━━━━━━━━━━━━━━━━━━┳━━━━━━━━━━━━━━━━━━━━━━━━━━━━━━━━━━━━━━━━━━━━━┓\n",
       "┃<span style=\"font-weight: bold\"> Name                 </span>┃<span style=\"font-weight: bold\"> Description                                </span>┃<span style=\"font-weight: bold\"> Signature                                   </span>┃\n",
       "┡━━━━━━━━━━━━━━━━━━━━━━╇━━━━━━━━━━━━━━━━━━━━━━━━━━━━━━━━━━━━━━━━━━━━╇━━━━━━━━━━━━━━━━━━━━━━━━━━━━━━━━━━━━━━━━━━━━━┩\n",
       "│<span style=\"color: #008080; text-decoration-color: #008080; font-weight: bold\"> GetOpenapiDefinition </span>│                                            │ GetOpenapiDefinition(user_input: str)       │\n",
       "│<span style=\"color: #008080; text-decoration-color: #008080; font-weight: bold\">                      </span>│         Get potential APIs for the user to │                                             │\n",
       "│<span style=\"color: #008080; text-decoration-color: #008080; font-weight: bold\">                      </span>│ use to accompish task.                     │                                             │\n",
       "│<span style=\"color: #008080; text-decoration-color: #008080; font-weight: bold\">                      </span>│         You have to choose the right one   │                                             │\n",
       "│<span style=\"color: #008080; text-decoration-color: #008080; font-weight: bold\">                      </span>│ after getting a response.                  │                                             │\n",
       "│<span style=\"color: #008080; text-decoration-color: #008080; font-weight: bold\">                      </span>│         This tool MUST be used before      │                                             │\n",
       "│<span style=\"color: #008080; text-decoration-color: #008080; font-weight: bold\">                      </span>│ calling any APIs.                          │                                             │\n",
       "│<span style=\"color: #008080; text-decoration-color: #008080; font-weight: bold\">                      </span>│                                            │                                             │\n",
       "│<span style=\"color: #008080; text-decoration-color: #008080; font-weight: bold\"> OpenApiCallExecutor  </span>│                                            │ OpenApiCallExecutor(path_template: str,     │\n",
       "│<span style=\"color: #008080; text-decoration-color: #008080; font-weight: bold\">                      </span>│         Execute an API call based on       │ method: str, path_params: Dict, data: Dict, │\n",
       "│<span style=\"color: #008080; text-decoration-color: #008080; font-weight: bold\">                      </span>│ provided parameters and configuration.     │ headers: Optional = None, params: Optional  │\n",
       "│<span style=\"color: #008080; text-decoration-color: #008080; font-weight: bold\">                      </span>│         It MUST be used after the          │ = None, kwargs: Any)                        │\n",
       "│<span style=\"color: #008080; text-decoration-color: #008080; font-weight: bold\">                      </span>│ get_openapi_definition to call APIs.       │                                             │\n",
       "│<span style=\"color: #008080; text-decoration-color: #008080; font-weight: bold\">                      </span>│         Make sure to include the right     │                                             │\n",
       "│<span style=\"color: #008080; text-decoration-color: #008080; font-weight: bold\">                      </span>│ header values to authenticate to the API   │                                             │\n",
       "│<span style=\"color: #008080; text-decoration-color: #008080; font-weight: bold\">                      </span>│ if needed.                                 │                                             │\n",
       "│<span style=\"color: #008080; text-decoration-color: #008080; font-weight: bold\">                      </span>│                                            │                                             │\n",
       "│<span style=\"color: #008080; text-decoration-color: #008080; font-weight: bold\"> FinalAnswer          </span>│ A tool that ends the conversation with the │ FinalAnswer(answer: str)                    │\n",
       "│<span style=\"color: #008080; text-decoration-color: #008080; font-weight: bold\">                      </span>│ final answer                               │                                             │\n",
       "└──────────────────────┴────────────────────────────────────────────┴─────────────────────────────────────────────┘\n",
       "</pre>\n"
      ],
      "text/plain": [
       "\u001b[3m                                                  Available Tools                                                  \u001b[0m\n",
       "┏━━━━━━━━━━━━━━━━━━━━━━┳━━━━━━━━━━━━━━━━━━━━━━━━━━━━━━━━━━━━━━━━━━━━┳━━━━━━━━━━━━━━━━━━━━━━━━━━━━━━━━━━━━━━━━━━━━━┓\n",
       "┃\u001b[1m \u001b[0m\u001b[1mName                \u001b[0m\u001b[1m \u001b[0m┃\u001b[1m \u001b[0m\u001b[1mDescription                               \u001b[0m\u001b[1m \u001b[0m┃\u001b[1m \u001b[0m\u001b[1mSignature                                  \u001b[0m\u001b[1m \u001b[0m┃\n",
       "┡━━━━━━━━━━━━━━━━━━━━━━╇━━━━━━━━━━━━━━━━━━━━━━━━━━━━━━━━━━━━━━━━━━━━╇━━━━━━━━━━━━━━━━━━━━━━━━━━━━━━━━━━━━━━━━━━━━━┩\n",
       "│\u001b[1;36m \u001b[0m\u001b[1;36mGetOpenapiDefinition\u001b[0m\u001b[1;36m \u001b[0m│                                            │ GetOpenapiDefinition(user_input: str)       │\n",
       "│\u001b[1;36m                      \u001b[0m│         Get potential APIs for the user to │                                             │\n",
       "│\u001b[1;36m                      \u001b[0m│ use to accompish task.                     │                                             │\n",
       "│\u001b[1;36m                      \u001b[0m│         You have to choose the right one   │                                             │\n",
       "│\u001b[1;36m                      \u001b[0m│ after getting a response.                  │                                             │\n",
       "│\u001b[1;36m                      \u001b[0m│         This tool MUST be used before      │                                             │\n",
       "│\u001b[1;36m                      \u001b[0m│ calling any APIs.                          │                                             │\n",
       "│\u001b[1;36m                      \u001b[0m│                                            │                                             │\n",
       "│\u001b[1;36m \u001b[0m\u001b[1;36mOpenApiCallExecutor \u001b[0m\u001b[1;36m \u001b[0m│                                            │ OpenApiCallExecutor(path_template: str,     │\n",
       "│\u001b[1;36m                      \u001b[0m│         Execute an API call based on       │ method: str, path_params: Dict, data: Dict, │\n",
       "│\u001b[1;36m                      \u001b[0m│ provided parameters and configuration.     │ headers: Optional = None, params: Optional  │\n",
       "│\u001b[1;36m                      \u001b[0m│         It MUST be used after the          │ = None, kwargs: Any)                        │\n",
       "│\u001b[1;36m                      \u001b[0m│ get_openapi_definition to call APIs.       │                                             │\n",
       "│\u001b[1;36m                      \u001b[0m│         Make sure to include the right     │                                             │\n",
       "│\u001b[1;36m                      \u001b[0m│ header values to authenticate to the API   │                                             │\n",
       "│\u001b[1;36m                      \u001b[0m│ if needed.                                 │                                             │\n",
       "│\u001b[1;36m                      \u001b[0m│                                            │                                             │\n",
       "│\u001b[1;36m \u001b[0m\u001b[1;36mFinalAnswer         \u001b[0m\u001b[1;36m \u001b[0m│ A tool that ends the conversation with the │ FinalAnswer(answer: str)                    │\n",
       "│\u001b[1;36m                      \u001b[0m│ final answer                               │                                             │\n",
       "└──────────────────────┴────────────────────────────────────────────┴─────────────────────────────────────────────┘\n"
      ]
     },
     "metadata": {},
     "output_type": "display_data"
    }
   ],
   "source": [
    "AIAgent.tool_executor.help"
   ]
  },
  {
   "cell_type": "markdown",
   "metadata": {},
   "source": [
    "## Search for APIs"
   ]
  },
  {
   "cell_type": "code",
   "execution_count": 14,
   "metadata": {},
   "outputs": [
    {
     "name": "stderr",
     "output_type": "stream",
     "text": [
      "INFO:floki.tool.storage.vectorstore:Searching for tools similar to query: Get information about a user with ID da48bd32-94bd-4263-b23a-5b9820a67fab\n"
     ]
    },
    {
     "data": {
      "application/vnd.jupyter.widget-view+json": {
       "model_id": "c843465f87904a8eaa7dd43d8d0931a2",
       "version_major": 2,
       "version_minor": 0
      },
      "text/plain": [
       "Batches:   0%|          | 0/1 [00:00<?, ?it/s]"
      ]
     },
     "metadata": {},
     "output_type": "display_data"
    },
    {
     "data": {
      "text/plain": [
       "{'ids': [['422d821f-12cf-4c32-ae0f-ca3a000ce612',\n",
       "   '13a635db-acaf-48ab-8682-e988b3133bd1',\n",
       "   'c4d9e84f-0bee-4810-91fd-64b1c694ddcb',\n",
       "   'a3144c87-b0e7-4511-acc0-fab1d332a6bf']],\n",
       " 'distances': [[0.6506009697914124,\n",
       "   0.6595719456672668,\n",
       "   0.6822196245193481,\n",
       "   0.6840983629226685]],\n",
       " 'metadatas': [[{'method': 'get',\n",
       "    'name': 'user.DirectReport_GetCountAsUser',\n",
       "    'url': 'https://graph.microsoft.com/v1.0//users/{user-id}/directReports/microsoft.graph.user/$count'},\n",
       "   {'method': 'get',\n",
       "    'name': 'user_GetDirectReport',\n",
       "    'url': 'https://graph.microsoft.com/v1.0//users/{user-id}/directReports/{directoryObject-id}'},\n",
       "   {'method': 'get',\n",
       "    'name': 'user.registeredDevice_GetCount',\n",
       "    'url': 'https://graph.microsoft.com/v1.0//users/{user-id}/registeredDevices/$count'},\n",
       "   {'method': 'get',\n",
       "    'name': 'user.RegisteredDevice_GetCountAsAppRoleAssignment',\n",
       "    'url': 'https://graph.microsoft.com/v1.0//users/{user-id}/registeredDevices/microsoft.graph.appRoleAssignment/$count'}]],\n",
       " 'embeddings': None,\n",
       " 'documents': [[\"user.DirectReport_GetCountAsUser: None. Args schema: {'type': 'object', 'properties': {'params': {'type': 'object', 'properties': {'$search': {'type': 'string', 'description': 'Search items by search phrases'}, '$filter': {'type': 'string', 'description': 'Filter items by property values'}}, 'required': []}, 'headers': {'type': 'object', 'properties': {'ConsistencyLevel': {'type': 'string', 'description': 'Indicates the requested consistency level. Documentation URL: https://docs.microsoft.com/graph/aad-advanced-queries'}}, 'required': []}, 'path_params': {'type': 'object', 'properties': {'user-id': {'type': 'string', 'description': 'The unique identifier of user'}}, 'required': ['user-id']}}}\",\n",
       "   \"user_GetDirectReport: The users and contacts that report to the user. (The users and contacts that have their manager property set to this user.) Read-only. Nullable. Supports $expand.. Args schema: {'type': 'object', 'properties': {'params': {'type': 'object', 'properties': {'$select': {'uniqueItems': True, 'type': 'array', 'items': {'type': 'string'}, 'description': 'Select properties to be returned'}, '$expand': {'uniqueItems': True, 'type': 'array', 'items': {'type': 'string'}, 'description': 'Expand related entities'}}, 'required': []}, 'headers': {'type': 'object', 'properties': {'ConsistencyLevel': {'type': 'string', 'description': 'Indicates the requested consistency level. Documentation URL: https://docs.microsoft.com/graph/aad-advanced-queries'}}, 'required': []}, 'path_params': {'type': 'object', 'properties': {'user-id': {'type': 'string', 'description': 'The unique identifier of user'}, 'directoryObject-id': {'type': 'string', 'description': 'The unique identifier of directoryObject'}}, 'required': ['user-id', 'directoryObject-id']}}}\",\n",
       "   \"user.registeredDevice_GetCount: None. Args schema: {'type': 'object', 'properties': {'params': {'type': 'object', 'properties': {'$search': {'type': 'string', 'description': 'Search items by search phrases'}, '$filter': {'type': 'string', 'description': 'Filter items by property values'}}, 'required': []}, 'headers': {'type': 'object', 'properties': {'ConsistencyLevel': {'type': 'string', 'description': 'Indicates the requested consistency level. Documentation URL: https://docs.microsoft.com/graph/aad-advanced-queries'}}, 'required': []}, 'path_params': {'type': 'object', 'properties': {'user-id': {'type': 'string', 'description': 'The unique identifier of user'}}, 'required': ['user-id']}}}\",\n",
       "   \"user.RegisteredDevice_GetCountAsAppRoleAssignment: None. Args schema: {'type': 'object', 'properties': {'params': {'type': 'object', 'properties': {'$search': {'type': 'string', 'description': 'Search items by search phrases'}, '$filter': {'type': 'string', 'description': 'Filter items by property values'}}, 'required': []}, 'headers': {'type': 'object', 'properties': {'ConsistencyLevel': {'type': 'string', 'description': 'Indicates the requested consistency level. Documentation URL: https://docs.microsoft.com/graph/aad-advanced-queries'}}, 'required': []}, 'path_params': {'type': 'object', 'properties': {'user-id': {'type': 'string', 'description': 'The unique identifier of user'}}, 'required': ['user-id']}}}\"]],\n",
       " 'uris': None,\n",
       " 'data': None,\n",
       " 'included': ['metadatas', 'documents', 'distances']}"
      ]
     },
     "execution_count": 14,
     "metadata": {},
     "output_type": "execute_result"
    }
   ],
   "source": [
    "prompt = \"Get information about a user with ID da48bd32-94bd-4263-b23a-5b9820a67fab\"\n",
    "AIAgent.tool_vector_store.get_similar_tools(query_texts=prompt)"
   ]
  },
  {
   "cell_type": "markdown",
   "metadata": {},
   "source": [
    "## Run OpenAPI Agent"
   ]
  },
  {
   "cell_type": "code",
   "execution_count": 16,
   "metadata": {},
   "outputs": [
    {
     "name": "stderr",
     "output_type": "stream",
     "text": [
      "INFO:floki.agent.patterns.react.base:Iteration 1/10 started.\n",
      "INFO:floki.agent.base:Pre-filled prompt template with variables: dict_keys(['chat_history'])\n",
      "INFO:floki.llm.openai.chat:Invoking ChatCompletion API.\n"
     ]
    },
    {
     "name": "stdout",
     "output_type": "stream",
     "text": [
      "\u001b[38;2;242;182;128muser:\u001b[0m\n",
      "\u001b[38;2;242;182;128m\u001b[0m\u001b[38;2;242;182;128mGet information about a user with ID da48bd32-94bd-4263-b23a-5b9820a67fab\u001b[0m\u001b[0m\n",
      "\u001b[0m\u001b[0m\n",
      "\u001b[0m--------------------------------------------------------------------------------\u001b[0m\n",
      "\u001b[0m\u001b[0m\u001b[0m\n"
     ]
    },
    {
     "name": "stderr",
     "output_type": "stream",
     "text": [
      "INFO:httpx:HTTP Request: POST https://api.openai.com/v1/chat/completions \"HTTP/1.1 200 OK\"\n",
      "INFO:floki.llm.openai.chat:Chat completion retrieved successfully.\n",
      "INFO:floki.agent.patterns.react.base:Executing GetOpenapiDefinition with arguments {'user_input': 'get user information by user ID'}\n",
      "INFO:floki.tool.executor:Attempting to execute tool: GetOpenapiDefinition\n",
      "INFO:floki.tool.storage.vectorstore:Searching for tools similar to query: ['get user information by user ID']\n"
     ]
    },
    {
     "name": "stdout",
     "output_type": "stream",
     "text": [
      "\u001b[38;2;217;95;118mThought: To obtain information about a specific user, I need to identify the correct API that provides user data. I'll start by retrieving potential APIs that can provide user information.\u001b[0m\u001b[0m\n",
      "\u001b[38;2;191;69;126mAction: {\"name\": \"GetOpenapiDefinition\", \"arguments\": {\"user_input\": \"get user information by user ID\"}}\u001b[0m\u001b[0m\n"
     ]
    },
    {
     "data": {
      "application/vnd.jupyter.widget-view+json": {
       "model_id": "4e9011b7f8d84cf696c541df080add26",
       "version_major": 2,
       "version_minor": 0
      },
      "text/plain": [
       "Batches:   0%|          | 0/1 [00:00<?, ?it/s]"
      ]
     },
     "metadata": {},
     "output_type": "display_data"
    },
    {
     "name": "stderr",
     "output_type": "stream",
     "text": [
      "INFO:floki.tool.executor:Tool 'GetOpenapiDefinition' executed successfully.\n",
      "INFO:floki.agent.patterns.react.base:To obtain information about a specific user, I need to identify the correct API that provides user data. I'll start by retrieving potential APIs that can provide user information.Observation: [\"user_GetManager: Returns the user or organizational contact assigned as the user's manager. Optionally, you can expand the manager's chain up to the root node.. Args schema: {'type': 'object', 'properties': {'params': {'type': 'object', 'properties': {'$select': {'uniqueItems': True, 'type': 'array', 'items': {'type': 'string'}, 'description': 'Select properties to be returned'}, '$expand': {'uniqueItems': True, 'type': 'array', 'items': {'type': 'string'}, 'description': 'Expand related entities'}}, 'required': []}, 'path_params': {'type': 'object', 'properties': {'user-id': {'type': 'string', 'description': 'The unique identifier of user'}}, 'required': ['user-id']}}}\", \"user_GetUser: Read properties and relationships of the user object.. Args schema: {'type': 'object', 'properties': {'params': {'type': 'object', 'properties': {'$select': {'uniqueItems': True, 'type': 'array', 'items': {'type': 'string'}, 'description': 'Select properties to be returned'}, '$expand': {'uniqueItems': True, 'type': 'array', 'items': {'type': 'string'}, 'description': 'Expand related entities'}}, 'required': []}, 'headers': {'type': 'object', 'properties': {'If-Match': {'type': 'string', 'description': 'ETag'}}, 'required': []}, 'path_params': {'type': 'object', 'properties': {'user-id': {'type': 'string', 'description': 'The unique identifier of user'}}, 'required': ['user-id']}}}\", \"user_ListOauth2PermissionGrant: Retrieve a list of oAuth2PermissionGrant entities, which represent delegated permissions granted to enable a client application to access an API on behalf of the user.. Args schema: {'type': 'object', 'properties': {'params': {'type': 'object', 'properties': {'$top': {'minimum': 0.0, 'type': 'integer', 'description': 'Show only the first n items'}, '$skip': {'minimum': 0.0, 'type': 'integer', 'description': 'Skip the first n items'}, '$search': {'type': 'string', 'description': 'Search items by search phrases'}, '$filter': {'type': 'string', 'description': 'Filter items by property values'}, '$count': {'type': 'boolean', 'description': 'Include count of items'}, '$orderby': {'uniqueItems': True, 'type': 'array', 'items': {'type': 'string'}, 'description': 'Order items by property values'}, '$select': {'uniqueItems': True, 'type': 'array', 'items': {'type': 'string'}, 'description': 'Select properties to be returned'}, '$expand': {'uniqueItems': True, 'type': 'array', 'items': {'type': 'string'}, 'description': 'Expand related entities'}}, 'required': []}, 'path_params': {'type': 'object', 'properties': {'user-id': {'type': 'string', 'description': 'The unique identifier of user'}}, 'required': ['user-id']}}}\", \"user.oauth2PermissionGrant_GetCount: None. Args schema: {'type': 'object', 'properties': {'params': {'type': 'object', 'properties': {'$search': {'type': 'string', 'description': 'Search items by search phrases'}, '$filter': {'type': 'string', 'description': 'Filter items by property values'}}, 'required': []}, 'path_params': {'type': 'object', 'properties': {'user-id': {'type': 'string', 'description': 'The unique identifier of user'}}, 'required': ['user-id']}}}\", \"user_GetMemberGraphOPreAsGroup: Get groups, directory roles, and administrative units that the user is a direct member of. This operation isn't transitive. To retrieve groups, directory roles, and administrative units that the user is a member through transitive membership, use the List user transitive memberOf API.. Args schema: {'type': 'object', 'properties': {'params': {'type': 'object', 'properties': {'$select': {'uniqueItems': True, 'type': 'array', 'items': {'type': 'string'}, 'description': 'Select properties to be returned'}, '$expand': {'uniqueItems': True, 'type': 'array', 'items': {'type': 'string'}, 'description': 'Expand related entities'}}, 'required': []}, 'headers': {'type': 'object', 'properties': {'ConsistencyLevel': {'type': 'string', 'description': 'Indicates the requested consistency level. Documentation URL: https://docs.microsoft.com/graph/aad-advanced-queries'}}, 'required': []}, 'path_params': {'type': 'object', 'properties': {'user-id': {'type': 'string', 'description': 'The unique identifier of user'}, 'directoryObject-id': {'type': 'string', 'description': 'The unique identifier of directoryObject'}}, 'required': ['user-id', 'directoryObject-id']}}}\"]\n",
      "INFO:floki.agent.patterns.react.base:Iteration 2/10 started.\n",
      "INFO:floki.agent.base:Pre-filled prompt template with variables: dict_keys(['chat_history'])\n",
      "INFO:floki.llm.openai.chat:Invoking ChatCompletion API.\n"
     ]
    },
    {
     "name": "stdout",
     "output_type": "stream",
     "text": [
      "\u001b[38;2;146;94;130mObservation: [\"user_GetManager: Returns the user or organizational contact assigned as the user's manager. Optionally, you can expand the manager's chain up to the root node.. Args schema: {'type': 'object', 'properties': {'params': {'type': 'object', 'properties': {'$select': {'uniqueItems': True, 'type': 'array', 'items': {'type': 'string'}, 'description': 'Select properties to be returned'}, '$expand': {'uniqueItems': True, 'type': 'array', 'items': {'type': 'string'}, 'description': 'Expand related entities'}}, 'required': []}, 'path_params': {'type': 'object', 'properties': {'user-id': {'type': 'string', 'description': 'The unique identifier of user'}}, 'required': ['user-id']}}}\", \"user_GetUser: Read properties and relationships of the user object.. Args schema: {'type': 'object', 'properties': {'params': {'type': 'object', 'properties': {'$select': {'uniqueItems': True, 'type': 'array', 'items': {'type': 'string'}, 'description': 'Select properties to be returned'}, '$expand': {'uniqueItems': True, 'type': 'array', 'items': {'type': 'string'}, 'description': 'Expand related entities'}}, 'required': []}, 'headers': {'type': 'object', 'properties': {'If-Match': {'type': 'string', 'description': 'ETag'}}, 'required': []}, 'path_params': {'type': 'object', 'properties': {'user-id': {'type': 'string', 'description': 'The unique identifier of user'}}, 'required': ['user-id']}}}\", \"user_ListOauth2PermissionGrant: Retrieve a list of oAuth2PermissionGrant entities, which represent delegated permissions granted to enable a client application to access an API on behalf of the user.. Args schema: {'type': 'object', 'properties': {'params': {'type': 'object', 'properties': {'$top': {'minimum': 0.0, 'type': 'integer', 'description': 'Show only the first n items'}, '$skip': {'minimum': 0.0, 'type': 'integer', 'description': 'Skip the first n items'}, '$search': {'type': 'string', 'description': 'Search items by search phrases'}, '$filter': {'type': 'string', 'description': 'Filter items by property values'}, '$count': {'type': 'boolean', 'description': 'Include count of items'}, '$orderby': {'uniqueItems': True, 'type': 'array', 'items': {'type': 'string'}, 'description': 'Order items by property values'}, '$select': {'uniqueItems': True, 'type': 'array', 'items': {'type': 'string'}, 'description': 'Select properties to be returned'}, '$expand': {'uniqueItems': True, 'type': 'array', 'items': {'type': 'string'}, 'description': 'Expand related entities'}}, 'required': []}, 'path_params': {'type': 'object', 'properties': {'user-id': {'type': 'string', 'description': 'The unique identifier of user'}}, 'required': ['user-id']}}}\", \"user.oauth2PermissionGrant_GetCount: None. Args schema: {'type': 'object', 'properties': {'params': {'type': 'object', 'properties': {'$search': {'type': 'string', 'description': 'Search items by search phrases'}, '$filter': {'type': 'string', 'description': 'Filter items by property values'}}, 'required': []}, 'path_params': {'type': 'object', 'properties': {'user-id': {'type': 'string', 'description': 'The unique identifier of user'}}, 'required': ['user-id']}}}\", \"user_GetMemberGraphOPreAsGroup: Get groups, directory roles, and administrative units that the user is a direct member of. This operation isn't transitive. To retrieve groups, directory roles, and administrative units that the user is a member through transitive membership, use the List user transitive memberOf API.. Args schema: {'type': 'object', 'properties': {'params': {'type': 'object', 'properties': {'$select': {'uniqueItems': True, 'type': 'array', 'items': {'type': 'string'}, 'description': 'Select properties to be returned'}, '$expand': {'uniqueItems': True, 'type': 'array', 'items': {'type': 'string'}, 'description': 'Expand related entities'}}, 'required': []}, 'headers': {'type': 'object', 'properties': {'ConsistencyLevel': {'type': 'string', 'description': 'Indicates the requested consistency level. Documentation URL: https://docs.microsoft.com/graph/aad-advanced-queries'}}, 'required': []}, 'path_params': {'type': 'object', 'properties': {'user-id': {'type': 'string', 'description': 'The unique identifier of user'}, 'directoryObject-id': {'type': 'string', 'description': 'The unique identifier of directoryObject'}}, 'required': ['user-id', 'directoryObject-id']}}}\"]\u001b[0m\u001b[0m\n"
     ]
    },
    {
     "name": "stderr",
     "output_type": "stream",
     "text": [
      "INFO:httpx:HTTP Request: POST https://api.openai.com/v1/chat/completions \"HTTP/1.1 200 OK\"\n",
      "INFO:floki.llm.openai.chat:Chat completion retrieved successfully.\n",
      "INFO:floki.agent.patterns.react.base:Executing OpenApiCallExecutor with arguments {'path_template': '/users/{user-id}', 'method': 'GET', 'path_params': {'user-id': 'da48bd32-94bd-4263-b23a-5b9820a67fab'}, 'headers': None, 'params': None}\n",
      "INFO:floki.tool.executor:Attempting to execute tool: OpenApiCallExecutor\n"
     ]
    },
    {
     "name": "stdout",
     "output_type": "stream",
     "text": [
      "\u001b[38;2;217;95;118mThought: To obtain information about a specific user by their ID, the \"user_GetUser\" endpoint seems to be the most appropriate as it allows you to read properties and relationships of the user object.\u001b[0m\n",
      "\u001b[38;2;217;95;118m\u001b[0m\n",
      "\u001b[38;2;217;95;118mLet's proceed with calling this API.\u001b[0m\u001b[0m\n",
      "\u001b[38;2;191;69;126mAction: {\"name\": \"OpenApiCallExecutor\", \"arguments\": {\"path_template\": \"/users/{user-id}\", \"method\": \"GET\", \"path_params\": {\"user-id\": \"da48bd32-94bd-4263-b23a-5b9820a67fab\"}, \"headers\": null, \"params\": null}}\u001b[0m\u001b[0m\n",
      "Base Url: https://graph.microsoft.com/v1.0/\n",
      "Requested Url: https://graph.microsoft.com/v1.0/users/da48bd32-94bd-4263-b23a-5b9820a67fab\n",
      "Requested Parameters: None\n"
     ]
    },
    {
     "name": "stderr",
     "output_type": "stream",
     "text": [
      "INFO:floki.tool.executor:Tool 'OpenApiCallExecutor' executed successfully.\n",
      "INFO:floki.agent.patterns.react.base:To obtain information about a specific user by their ID, the \"user_GetUser\" endpoint seems to be the most appropriate as it allows you to read properties and relationships of the user object.\n",
      "\n",
      "Let's proceed with calling this API.Observation: {'@odata.context': 'https://graph.microsoft.com/v1.0/$metadata#users/$entity', 'businessPhones': [], 'displayName': 'Support user', 'givenName': None, 'jobTitle': None, 'mail': None, 'mobilePhone': None, 'officeLocation': None, 'preferredLanguage': None, 'surname': None, 'userPrincipalName': 'support@blueteamarsenal.onmicrosoft.com', 'id': 'da48bd32-94bd-4263-b23a-5b9820a67fab'}\n",
      "INFO:floki.agent.patterns.react.base:Iteration 3/10 started.\n",
      "INFO:floki.agent.base:Pre-filled prompt template with variables: dict_keys(['chat_history'])\n",
      "INFO:floki.llm.openai.chat:Invoking ChatCompletion API.\n"
     ]
    },
    {
     "name": "stdout",
     "output_type": "stream",
     "text": [
      "\u001b[38;2;146;94;130mObservation: {'@odata.context': 'https://graph.microsoft.com/v1.0/$metadata#users/$entity', 'businessPhones': [], 'displayName': 'Support user', 'givenName': None, 'jobTitle': None, 'mail': None, 'mobilePhone': None, 'officeLocation': None, 'preferredLanguage': None, 'surname': None, 'userPrincipalName': 'support@blueteamarsenal.onmicrosoft.com', 'id': 'da48bd32-94bd-4263-b23a-5b9820a67fab'}\u001b[0m\u001b[0m\n"
     ]
    },
    {
     "name": "stderr",
     "output_type": "stream",
     "text": [
      "INFO:httpx:HTTP Request: POST https://api.openai.com/v1/chat/completions \"HTTP/1.1 200 OK\"\n",
      "INFO:floki.llm.openai.chat:Chat completion retrieved successfully.\n",
      "INFO:floki.agent.patterns.react.base:Agent is responding directly.\n"
     ]
    },
    {
     "name": "stdout",
     "output_type": "stream",
     "text": [
      "\u001b[38;2;217;95;118mThought: The information for the user with ID `da48bd32-94bd-4263-b23a-5b9820a67fab` is as follows:\u001b[0m\n",
      "\u001b[38;2;217;95;118m\u001b[0m\n",
      "\u001b[38;2;217;95;118m- **Display Name**: Support user\u001b[0m\n",
      "\u001b[38;2;217;95;118m- **User Principal Name**: support@blueteamarsenal.onmicrosoft.com\u001b[0m\n",
      "\u001b[38;2;217;95;118m- **Business Phones**: None listed\u001b[0m\n",
      "\u001b[38;2;217;95;118m- **Given Name**: Not available\u001b[0m\n",
      "\u001b[38;2;217;95;118m- **Job Title**: Not available\u001b[0m\n",
      "\u001b[38;2;217;95;118m- **Mail**: Not available\u001b[0m\n",
      "\u001b[38;2;217;95;118m- **Mobile Phone**: Not available\u001b[0m\n",
      "\u001b[38;2;217;95;118m- **Office Location**: Not available\u001b[0m\n",
      "\u001b[38;2;217;95;118m- **Preferred Language**: Not available\u001b[0m\n",
      "\u001b[38;2;217;95;118m- **Surname**: Not available\u001b[0m\n",
      "\u001b[38;2;217;95;118m\u001b[0m\n",
      "\u001b[38;2;217;95;118mIf you need further details or to perform additional operations, let me know!\u001b[0m\u001b[0m\n",
      "\u001b[0m\u001b[0m\n",
      "\u001b[0m--------------------------------------------------------------------------------\u001b[0m\n",
      "\u001b[0m\u001b[0m\u001b[0m\n",
      "\u001b[38;2;147;191;183massistant:\u001b[0m\n",
      "\u001b[38;2;147;191;183m\u001b[0m\u001b[38;2;147;191;183mThe information for the user with ID `da48bd32-94bd-4263-b23a-5b9820a67fab` is as follows:\u001b[0m\n",
      "\u001b[38;2;147;191;183m\u001b[0m\n",
      "\u001b[38;2;147;191;183m- **Display Name**: Support user\u001b[0m\n",
      "\u001b[38;2;147;191;183m- **User Principal Name**: support@blueteamarsenal.onmicrosoft.com\u001b[0m\n",
      "\u001b[38;2;147;191;183m- **Business Phones**: None listed\u001b[0m\n",
      "\u001b[38;2;147;191;183m- **Given Name**: Not available\u001b[0m\n",
      "\u001b[38;2;147;191;183m- **Job Title**: Not available\u001b[0m\n",
      "\u001b[38;2;147;191;183m- **Mail**: Not available\u001b[0m\n",
      "\u001b[38;2;147;191;183m- **Mobile Phone**: Not available\u001b[0m\n",
      "\u001b[38;2;147;191;183m- **Office Location**: Not available\u001b[0m\n",
      "\u001b[38;2;147;191;183m- **Preferred Language**: Not available\u001b[0m\n",
      "\u001b[38;2;147;191;183m- **Surname**: Not available\u001b[0m\n",
      "\u001b[38;2;147;191;183m\u001b[0m\n",
      "\u001b[38;2;147;191;183mIf you need further details or to perform additional operations, let me know!\u001b[0m\u001b[0m\n"
     ]
    },
    {
     "data": {
      "text/plain": [
       "'The information for the user with ID `da48bd32-94bd-4263-b23a-5b9820a67fab` is as follows:\\n\\n- **Display Name**: Support user\\n- **User Principal Name**: support@blueteamarsenal.onmicrosoft.com\\n- **Business Phones**: None listed\\n- **Given Name**: Not available\\n- **Job Title**: Not available\\n- **Mail**: Not available\\n- **Mobile Phone**: Not available\\n- **Office Location**: Not available\\n- **Preferred Language**: Not available\\n- **Surname**: Not available\\n\\nIf you need further details or to perform additional operations, let me know!'"
      ]
     },
     "execution_count": 16,
     "metadata": {},
     "output_type": "execute_result"
    }
   ],
   "source": [
    "AIAgent.run(prompt)"
   ]
  },
  {
   "cell_type": "code",
   "execution_count": null,
   "metadata": {},
   "outputs": [],
   "source": []
  }
 ],
 "metadata": {
  "kernelspec": {
   "display_name": ".venv",
   "language": "python",
   "name": "python3"
  },
  "language_info": {
   "codemirror_mode": {
    "name": "ipython",
    "version": 3
   },
   "file_extension": ".py",
   "mimetype": "text/x-python",
   "name": "python",
   "nbconvert_exporter": "python",
   "pygments_lexer": "ipython3",
   "version": "3.12.4"
  }
 },
 "nbformat": 4,
 "nbformat_minor": 2
}
